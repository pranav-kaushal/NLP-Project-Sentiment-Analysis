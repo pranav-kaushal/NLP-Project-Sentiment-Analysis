{
  "nbformat": 4,
  "nbformat_minor": 0,
  "metadata": {
    "colab": {
      "name": "Twitter sentiment analysis.ipynb",
      "provenance": [],
      "collapsed_sections": [],
      "include_colab_link": true
    },
    "kernelspec": {
      "display_name": "Python 3",
      "name": "python3"
    },
    "language_info": {
      "name": "python"
    }
  },
  "cells": [
    {
      "cell_type": "markdown",
      "metadata": {
        "id": "view-in-github",
        "colab_type": "text"
      },
      "source": [
        "<a href=\"https://colab.research.google.com/github/pranav-kaushal/NLP-Project-Sentiment-Analysis/blob/main/Twitter_sentiment_analysis.ipynb\" target=\"_parent\"><img src=\"https://colab.research.google.com/assets/colab-badge.svg\" alt=\"Open In Colab\"/></a>"
      ]
    },
    {
      "cell_type": "markdown",
      "metadata": {
        "id": "KOTDJuciUMkA"
      },
      "source": [
        "# Scotiabank Twitter Sentiment Analysis"
      ]
    },
    {
      "cell_type": "markdown",
      "metadata": {
        "id": "lGSgcJkEQvdg"
      },
      "source": [
        "API account\n",
        "https://developer.twitter.com/en/portal/dashboard"
      ]
    },
    {
      "cell_type": "code",
      "metadata": {
        "colab": {
          "base_uri": "https://localhost:8080/"
        },
        "id": "4CL2RMW_Lm0G",
        "outputId": "d682cddc-c9cf-47ef-98da-d00a300f1ee1"
      },
      "source": [
        "# Install Libraries\n",
        "!pip install textblob\n",
        "!pip install tweepy\n",
        "!pip install langdetect\n",
        "!pip install nltk\n",
        "!pip install unidecode\n",
        "!pip install textaugment\n",
        "!pip install joypy\n",
        "!pip install wordcloud\n",
        "!pip install better_profanity"
      ],
      "execution_count": 1,
      "outputs": [
        {
          "output_type": "stream",
          "text": [
            "Requirement already satisfied: textblob in /usr/local/lib/python3.7/dist-packages (0.15.3)\n",
            "Requirement already satisfied: nltk>=3.1 in /usr/local/lib/python3.7/dist-packages (from textblob) (3.2.5)\n",
            "Requirement already satisfied: six in /usr/local/lib/python3.7/dist-packages (from nltk>=3.1->textblob) (1.15.0)\n",
            "Requirement already satisfied: tweepy in /usr/local/lib/python3.7/dist-packages (3.10.0)\n",
            "Requirement already satisfied: requests-oauthlib>=0.7.0 in /usr/local/lib/python3.7/dist-packages (from tweepy) (1.3.0)\n",
            "Requirement already satisfied: requests[socks]>=2.11.1 in /usr/local/lib/python3.7/dist-packages (from tweepy) (2.23.0)\n",
            "Requirement already satisfied: six>=1.10.0 in /usr/local/lib/python3.7/dist-packages (from tweepy) (1.15.0)\n",
            "Requirement already satisfied: oauthlib>=3.0.0 in /usr/local/lib/python3.7/dist-packages (from requests-oauthlib>=0.7.0->tweepy) (3.1.1)\n",
            "Requirement already satisfied: urllib3!=1.25.0,!=1.25.1,<1.26,>=1.21.1 in /usr/local/lib/python3.7/dist-packages (from requests[socks]>=2.11.1->tweepy) (1.24.3)\n",
            "Requirement already satisfied: idna<3,>=2.5 in /usr/local/lib/python3.7/dist-packages (from requests[socks]>=2.11.1->tweepy) (2.10)\n",
            "Requirement already satisfied: certifi>=2017.4.17 in /usr/local/lib/python3.7/dist-packages (from requests[socks]>=2.11.1->tweepy) (2021.5.30)\n",
            "Requirement already satisfied: chardet<4,>=3.0.2 in /usr/local/lib/python3.7/dist-packages (from requests[socks]>=2.11.1->tweepy) (3.0.4)\n",
            "Requirement already satisfied: PySocks!=1.5.7,>=1.5.6 in /usr/local/lib/python3.7/dist-packages (from requests[socks]>=2.11.1->tweepy) (1.7.1)\n",
            "Collecting langdetect\n",
            "  Downloading langdetect-1.0.9.tar.gz (981 kB)\n",
            "\u001b[K     |████████████████████████████████| 981 kB 5.2 MB/s \n",
            "\u001b[?25hRequirement already satisfied: six in /usr/local/lib/python3.7/dist-packages (from langdetect) (1.15.0)\n",
            "Building wheels for collected packages: langdetect\n",
            "  Building wheel for langdetect (setup.py) ... \u001b[?25l\u001b[?25hdone\n",
            "  Created wheel for langdetect: filename=langdetect-1.0.9-py3-none-any.whl size=993241 sha256=dc39101d8b7c933b6d5ed363b85730679978a066428096e2da049579a4a9c539\n",
            "  Stored in directory: /root/.cache/pip/wheels/c5/96/8a/f90c59ed25d75e50a8c10a1b1c2d4c402e4dacfa87f3aff36a\n",
            "Successfully built langdetect\n",
            "Installing collected packages: langdetect\n",
            "Successfully installed langdetect-1.0.9\n",
            "Requirement already satisfied: nltk in /usr/local/lib/python3.7/dist-packages (3.2.5)\n",
            "Requirement already satisfied: six in /usr/local/lib/python3.7/dist-packages (from nltk) (1.15.0)\n",
            "Collecting unidecode\n",
            "  Downloading Unidecode-1.2.0-py2.py3-none-any.whl (241 kB)\n",
            "\u001b[K     |████████████████████████████████| 241 kB 5.2 MB/s \n",
            "\u001b[?25hInstalling collected packages: unidecode\n",
            "Successfully installed unidecode-1.2.0\n",
            "Collecting textaugment\n",
            "  Downloading textaugment-1.3.4-py3-none-any.whl (16 kB)\n",
            "Collecting googletrans\n",
            "  Downloading googletrans-3.0.0.tar.gz (17 kB)\n",
            "Requirement already satisfied: numpy in /usr/local/lib/python3.7/dist-packages (from textaugment) (1.19.5)\n",
            "Requirement already satisfied: textblob in /usr/local/lib/python3.7/dist-packages (from textaugment) (0.15.3)\n",
            "Requirement already satisfied: gensim in /usr/local/lib/python3.7/dist-packages (from textaugment) (3.6.0)\n",
            "Requirement already satisfied: nltk in /usr/local/lib/python3.7/dist-packages (from textaugment) (3.2.5)\n",
            "Requirement already satisfied: smart-open>=1.2.1 in /usr/local/lib/python3.7/dist-packages (from gensim->textaugment) (5.1.0)\n",
            "Requirement already satisfied: six>=1.5.0 in /usr/local/lib/python3.7/dist-packages (from gensim->textaugment) (1.15.0)\n",
            "Requirement already satisfied: scipy>=0.18.1 in /usr/local/lib/python3.7/dist-packages (from gensim->textaugment) (1.4.1)\n",
            "Collecting httpx==0.13.3\n",
            "  Downloading httpx-0.13.3-py3-none-any.whl (55 kB)\n",
            "\u001b[K     |████████████████████████████████| 55 kB 2.3 MB/s \n",
            "\u001b[?25hCollecting rfc3986<2,>=1.3\n",
            "  Downloading rfc3986-1.5.0-py2.py3-none-any.whl (31 kB)\n",
            "Collecting hstspreload\n",
            "  Downloading hstspreload-2021.7.5-py3-none-any.whl (1.2 MB)\n",
            "\u001b[K     |████████████████████████████████| 1.2 MB 11.0 MB/s \n",
            "\u001b[?25hCollecting httpcore==0.9.*\n",
            "  Downloading httpcore-0.9.1-py3-none-any.whl (42 kB)\n",
            "\u001b[K     |████████████████████████████████| 42 kB 1.2 MB/s \n",
            "\u001b[?25hRequirement already satisfied: chardet==3.* in /usr/local/lib/python3.7/dist-packages (from httpx==0.13.3->googletrans->textaugment) (3.0.4)\n",
            "Requirement already satisfied: idna==2.* in /usr/local/lib/python3.7/dist-packages (from httpx==0.13.3->googletrans->textaugment) (2.10)\n",
            "Requirement already satisfied: certifi in /usr/local/lib/python3.7/dist-packages (from httpx==0.13.3->googletrans->textaugment) (2021.5.30)\n",
            "Collecting sniffio\n",
            "  Downloading sniffio-1.2.0-py3-none-any.whl (10 kB)\n",
            "Collecting h11<0.10,>=0.8\n",
            "  Downloading h11-0.9.0-py2.py3-none-any.whl (53 kB)\n",
            "\u001b[K     |████████████████████████████████| 53 kB 1.9 MB/s \n",
            "\u001b[?25hCollecting h2==3.*\n",
            "  Downloading h2-3.2.0-py2.py3-none-any.whl (65 kB)\n",
            "\u001b[K     |████████████████████████████████| 65 kB 3.3 MB/s \n",
            "\u001b[?25hCollecting hpack<4,>=3.0\n",
            "  Downloading hpack-3.0.0-py2.py3-none-any.whl (38 kB)\n",
            "Collecting hyperframe<6,>=5.2.0\n",
            "  Downloading hyperframe-5.2.0-py2.py3-none-any.whl (12 kB)\n",
            "Building wheels for collected packages: googletrans\n",
            "  Building wheel for googletrans (setup.py) ... \u001b[?25l\u001b[?25hdone\n",
            "  Created wheel for googletrans: filename=googletrans-3.0.0-py3-none-any.whl size=15734 sha256=8225a633a7198090b8b9505b1cd6ef2a8ca8e847d15d48ab4823989be2cfbcdd\n",
            "  Stored in directory: /root/.cache/pip/wheels/20/da/eb/a54579056f265eede0417df537dd56d3df5b9eb2b25df0003d\n",
            "Successfully built googletrans\n",
            "Installing collected packages: hyperframe, hpack, sniffio, h2, h11, rfc3986, httpcore, hstspreload, httpx, googletrans, textaugment\n",
            "Successfully installed googletrans-3.0.0 h11-0.9.0 h2-3.2.0 hpack-3.0.0 hstspreload-2021.7.5 httpcore-0.9.1 httpx-0.13.3 hyperframe-5.2.0 rfc3986-1.5.0 sniffio-1.2.0 textaugment-1.3.4\n",
            "Collecting joypy\n",
            "  Downloading joypy-0.2.5-py2.py3-none-any.whl (8.4 kB)\n",
            "Requirement already satisfied: numpy>=1.16.5 in /usr/local/lib/python3.7/dist-packages (from joypy) (1.19.5)\n",
            "Requirement already satisfied: matplotlib in /usr/local/lib/python3.7/dist-packages (from joypy) (3.2.2)\n",
            "Requirement already satisfied: scipy>=0.11.0 in /usr/local/lib/python3.7/dist-packages (from joypy) (1.4.1)\n",
            "Requirement already satisfied: pandas>=0.20.0 in /usr/local/lib/python3.7/dist-packages (from joypy) (1.1.5)\n",
            "Requirement already satisfied: python-dateutil>=2.7.3 in /usr/local/lib/python3.7/dist-packages (from pandas>=0.20.0->joypy) (2.8.1)\n",
            "Requirement already satisfied: pytz>=2017.2 in /usr/local/lib/python3.7/dist-packages (from pandas>=0.20.0->joypy) (2018.9)\n",
            "Requirement already satisfied: six>=1.5 in /usr/local/lib/python3.7/dist-packages (from python-dateutil>=2.7.3->pandas>=0.20.0->joypy) (1.15.0)\n",
            "Requirement already satisfied: kiwisolver>=1.0.1 in /usr/local/lib/python3.7/dist-packages (from matplotlib->joypy) (1.3.1)\n",
            "Requirement already satisfied: pyparsing!=2.0.4,!=2.1.2,!=2.1.6,>=2.0.1 in /usr/local/lib/python3.7/dist-packages (from matplotlib->joypy) (2.4.7)\n",
            "Requirement already satisfied: cycler>=0.10 in /usr/local/lib/python3.7/dist-packages (from matplotlib->joypy) (0.10.0)\n",
            "Installing collected packages: joypy\n",
            "Successfully installed joypy-0.2.5\n",
            "Requirement already satisfied: wordcloud in /usr/local/lib/python3.7/dist-packages (1.5.0)\n",
            "Requirement already satisfied: pillow in /usr/local/lib/python3.7/dist-packages (from wordcloud) (7.1.2)\n",
            "Requirement already satisfied: numpy>=1.6.1 in /usr/local/lib/python3.7/dist-packages (from wordcloud) (1.19.5)\n",
            "Collecting better_profanity\n",
            "  Downloading better_profanity-0.7.0-py3-none-any.whl (46 kB)\n",
            "\u001b[K     |████████████████████████████████| 46 kB 1.9 MB/s \n",
            "\u001b[?25hInstalling collected packages: better-profanity\n",
            "Successfully installed better-profanity-0.7.0\n"
          ],
          "name": "stdout"
        }
      ]
    },
    {
      "cell_type": "code",
      "metadata": {
        "colab": {
          "base_uri": "https://localhost:8080/"
        },
        "id": "xbP8Ol3mP53Z",
        "outputId": "e2daaba7-9c0a-4c7a-d790-d070649228a6"
      },
      "source": [
        "# Import Libraries\n",
        "import sys\n",
        "import tweepy\n",
        "import pandas as pd\n",
        "import numpy as np\n",
        "import os\n",
        "import spacy\n",
        "import joypy\n",
        "import unidecode\n",
        "import unicodedata\n",
        "import seaborn as sns\n",
        "from PIL import Image\n",
        "\n",
        "# NLP Libraries\n",
        "import re\n",
        "import string\n",
        "import nltk\n",
        "nltk.download('brown')\n",
        "from matplotlib import pyplot as plt\n",
        "from matplotlib import cm\n",
        "from wordcloud import WordCloud, STOPWORDS\n",
        "from textblob import TextBlob\n",
        "nltk.downloader.download('vader_lexicon')\n",
        "from nltk.sentiment.vader import SentimentIntensityAnalyzer\n",
        "#from langdetect import detect\n",
        "from nltk.stem import SnowballStemmer\n",
        "from sklearn.feature_extraction.text import CountVectorizer\n",
        "from nltk import word_tokenize\n",
        "from nltk.util import ngrams\n",
        "import matplotlib.pyplot as plt\n",
        "from nltk.corpus import brown\n",
        "nltk.download('punkt')\n",
        "nltk.download('wordnet')\n",
        "nltk.download('averaged_perception_tagger')\n",
        "nltk.download('omw')\n",
        "nltk.download('stopwords')\n",
        "nltk.download('vader_lexicon')\n",
        "from bs4 import BeautifulSoup\n",
        "import nltk\n",
        "from nltk.corpus import stopwords\n",
        "from nltk.stem import WordNetLemmatizer\n",
        "from better_profanity import profanity"
      ],
      "execution_count": 2,
      "outputs": [
        {
          "output_type": "stream",
          "text": [
            "[nltk_data] Downloading package brown to /root/nltk_data...\n",
            "[nltk_data]   Unzipping corpora/brown.zip.\n",
            "[nltk_data] Downloading package vader_lexicon to /root/nltk_data...\n",
            "[nltk_data] Downloading package punkt to /root/nltk_data...\n"
          ],
          "name": "stdout"
        },
        {
          "output_type": "stream",
          "text": [
            "/usr/local/lib/python3.7/dist-packages/nltk/twitter/__init__.py:20: UserWarning: The twython library has not been installed. Some functionality from the twitter package will not be available.\n",
            "  warnings.warn(\"The twython library has not been installed. \"\n"
          ],
          "name": "stderr"
        },
        {
          "output_type": "stream",
          "text": [
            "[nltk_data]   Unzipping tokenizers/punkt.zip.\n",
            "[nltk_data] Downloading package wordnet to /root/nltk_data...\n",
            "[nltk_data]   Unzipping corpora/wordnet.zip.\n",
            "[nltk_data] Error loading averaged_perception_tagger: Package\n",
            "[nltk_data]     'averaged_perception_tagger' not found in index\n",
            "[nltk_data] Downloading package omw to /root/nltk_data...\n",
            "[nltk_data]   Unzipping corpora/omw.zip.\n",
            "[nltk_data] Downloading package stopwords to /root/nltk_data...\n",
            "[nltk_data]   Unzipping corpora/stopwords.zip.\n",
            "[nltk_data] Downloading package vader_lexicon to /root/nltk_data...\n",
            "[nltk_data]   Package vader_lexicon is already up-to-date!\n"
          ],
          "name": "stdout"
        }
      ]
    },
    {
      "cell_type": "markdown",
      "metadata": {
        "id": "gsJlcTVST0bJ"
      },
      "source": [
        "## Gathering Data from Twitter using API\n",
        "\n",
        "### Authentication Keys (Individual Account)"
      ]
    },
    {
      "cell_type": "code",
      "metadata": {
        "id": "8UwGwNCoP7Ak"
      },
      "source": [
        "# Authentication\n",
        "consumerKey = \"Gqxmwe06eIqw0NBmCi0L1rmbh\"\n",
        "consumerSecret = \"cborR6m0P5LnLB1U2WV4Wz4zI4Wazs9BE1v31x2bcMeeSkm0pf\"\n",
        "accessToken = \"1378575615981457409-Aotg3k1WfJu8l8kM8sbs2utHbTFeaO\"\n",
        "accessTokenSecret = \"RmH71WeV1XyF66veJJh78vILJ5lt5MqaNNPpbQqZ8E2jm\"\n",
        "\n",
        "auth = tweepy.OAuthHandler(consumerKey, consumerSecret)\n",
        "auth.set_access_token(accessToken, accessTokenSecret)\n",
        "api = tweepy.API(auth,wait_on_rate_limit=True, wait_on_rate_limit_notify = True)"
      ],
      "execution_count": 3,
      "outputs": []
    },
    {
      "cell_type": "markdown",
      "metadata": {
        "id": "LsZGDcQgT3Cj"
      },
      "source": [
        "### Gathering Tweets- Tweet cap \n",
        "500,000 Tweets / month\n",
        "PER PROJECT"
      ]
    },
    {
      "cell_type": "code",
      "metadata": {
        "id": "XdqH76MGP_kJ"
      },
      "source": [
        "# User Search and No of Tweets to capture\n",
        "tweet_lst=[]\n",
        "users = ['@globeinvestor','@bloombergCA','@Marketcall','@LA&C Investments','@TheMotleyFoolCA','@BNNBloomberg','@YahooFinanceCA','@StockTrades_CA','@rcarrick','@marketsglobe','@PattieCTV','@Streetwise','@stockchase',\n",
        "'@financialpost','@FinMKTG','@JonChevreau','@MoneySense','@BoomerandEcho','@squawkfox','@reformedbroker','@thestalwart' ,'@michaelbabad','@FTalphaville','@dbcurren',\n",
        "'@benrabidoux','@noahpinion','@boes_','@sbarlow_ROB','@amberkanwar','@business','@elerianm','@reutersjamie','@M_C_Klein',\n",
        "'@economistmeg','@tylercowen','@nictrades','@ReformedBroker','@TheStalwart','@VitalikButerin','@ritholtz','@LizAnnSonders',\n",
        "'@IvanTheK','@charliebilello','@satoshilite',\n",
        "'@ritholtz','@awealthofcs','@RaoulGMI','@MarkYusko','@allstarcharts','@5_min_macro','@longshorttrader','@ScottMinerd','@Callum_Thomas','@RyanDetrick','@TheBubbleBubble','@KeithMcCullough',\n",
        "'@Ukarlewitz','@cullenroche','@DougKass']\n",
        "\n",
        "# Failed to retrieve\n",
        "#'@LA&C Investments','@katie_martin_FX','@mikepmoffat'\n",
        "\n",
        "\n",
        "# For loop to run the list of usernames and then for loop to extract Full Text from the tweets\n",
        "for user in users:\n",
        "    tweets = api.user_timeline(screen_name = user, count = 100, lang = \"en\", tweet_mode = \"extended\")\n",
        "    for tweet in tweets:\n",
        "      tweet_lst.append(tweet.full_text)\n",
        "    #print(f\"- {tweet.full_text}\")\n"
      ],
      "execution_count": 4,
      "outputs": []
    },
    {
      "cell_type": "code",
      "metadata": {
        "id": "vIrFr7fCLAmj",
        "colab": {
          "base_uri": "https://localhost:8080/"
        },
        "outputId": "8e99ca42-7ea5-4412-fd26-234d2d01beef"
      },
      "source": [
        "# Keyword Search and No of Tweets to capture\n",
        "search_keyword = ['scotiabank','BNS','Canadian Banking','Canadian Banks','Earnings release','EPS','Profits','Reserves','Provisions',\n",
        "                  'Credit cards','Personal loans','Loan growth','Loan origination','Credit quality','Delinquency','Past due loans',\n",
        "                  'Impaired loans','Allowances','Reserves','Loan loss','Credit loss','Vintage','Write offs','Collections','Strategy',\n",
        "                  'Big5','PCL', 'Risk','Retail lending','Secured loans','Unsecured loans','Mortgages','Home equity loans','Auto loans',\n",
        "                  'Line of credit']\n",
        "# For loop to run the list of keywords and then for loop to extract Full Text from the tweets\n",
        "for search in search_keyword:\n",
        "    tweets = api.search(q = search, lang = \"en\",tweet_mode = \"extended\",count = 100, coordinates = \"-79.384293,43.653908,10000km\")\n",
        "    for tweet in tweets:\n",
        "      tweet_lst.append(tweet.full_text)\n",
        "tweet_lst[:5]"
      ],
      "execution_count": 5,
      "outputs": [
        {
          "output_type": "execute_result",
          "data": {
            "text/plain": [
              "['As restaurants begin to reopen, how are their stocks doing? https://t.co/XRy6pORC0N',\n",
              " 'Managing your personal finances on a smartphone? It’s addictive https://t.co/KrAOLrtv8h',\n",
              " 'Cash-hungry emerging markets arrive late to the SPAC party https://t.co/jaXSCsKPQE',\n",
              " 'It’s been a great earnings season so far - with one big caveat. Plus, TSX-beating ETFs and depositary receipts for U.S. stocks come to Canada https://t.co/BQfLuH3wju',\n",
              " 'RT @MarketsGlobe: Canadian dollar adds to last week’s gains as greenback slides https://t.co/zLjUd27gcB (subscribers)']"
            ]
          },
          "metadata": {
            "tags": []
          },
          "execution_count": 5
        }
      ]
    },
    {
      "cell_type": "code",
      "metadata": {
        "id": "lr3uoHxa5_cB",
        "colab": {
          "base_uri": "https://localhost:8080/"
        },
        "outputId": "ed1d6cd8-c32d-451d-8234-5edf6167c90d"
      },
      "source": [
        "# Print and analyze the tweets in raw text\n",
        "tweet_lst[0:-1]"
      ],
      "execution_count": 6,
      "outputs": [
        {
          "output_type": "execute_result",
          "data": {
            "text/plain": [
              "['As restaurants begin to reopen, how are their stocks doing? https://t.co/XRy6pORC0N',\n",
              " 'Managing your personal finances on a smartphone? It’s addictive https://t.co/KrAOLrtv8h',\n",
              " 'Cash-hungry emerging markets arrive late to the SPAC party https://t.co/jaXSCsKPQE',\n",
              " 'It’s been a great earnings season so far - with one big caveat. Plus, TSX-beating ETFs and depositary receipts for U.S. stocks come to Canada https://t.co/BQfLuH3wju',\n",
              " 'RT @MarketsGlobe: Canadian dollar adds to last week’s gains as greenback slides https://t.co/zLjUd27gcB (subscribers)',\n",
              " 'The rich are (probably) getting richer https://t.co/K8P5a4Gxhq',\n",
              " 'RT @MarketsGlobe: Premarket: World stocks drop on China clampdown as investors await Fed, earnings https://t.co/kp7n7Fzmvk (subscribers)',\n",
              " 'Fed meeting may test low U.S. Treasury yields https://t.co/c98PsVqVQR',\n",
              " 'Law without order: investors grapple with China’s regulatory risk https://t.co/VHhZdaPEy9',\n",
              " 'COVID-19 wobble punctures calm markets https://t.co/ATFIT7sjre',\n",
              " 'Can Lynn afford to help her children financially and still have enough to meet her needs? https://t.co/tgreJ9Fu4Q',\n",
              " 'The Globe’s stars and dogs for the week https://t.co/X9XThfkSYK',\n",
              " 'A classic investing read for summer (psst ... it’s free) https://t.co/i8bEIryuW2',\n",
              " 'Big tech companies retake market reins with earnings on tap https://t.co/EUgEt78Elv',\n",
              " 'Bullish on Sealed Air Corp. https://t.co/eE6BvA61Oc',\n",
              " 'Five metrics bond investors are watching as COVID fears return https://t.co/kHx9BwMqTo',\n",
              " 'Shares of U.S.-listed Chinese education companies plummet after policy change https://t.co/JPoCwwMhx8',\n",
              " 'Five TSX dividend growth stocks still trading at reasonable prices. Plus, what the market’s most reliable indicator of future returns is signalling now https://t.co/c3STDOiZCD',\n",
              " 'RT @MarketsGlobe: Canadian dollar set for weekly gain as data signals retail sales rebound https://t.co/WHXmyBb5Cf (subscribers)',\n",
              " 'The great Fed conundrum and other world market themes for the week ahead https://t.co/OGE1Y2vsVM',\n",
              " 'Investors eye COVID-19 spread, Golden Cross to gauge U.S. dollar trajectory https://t.co/GR4r903Qcy',\n",
              " 'RT @MarketsGlobe: Premarket: World stocks perk up as volatile week ends on a high https://t.co/TIeqL66D8m (subscribers)',\n",
              " 'How the pandemic has transformed mentorship in the investment industry https://t.co/5SR2pwOFFD',\n",
              " 'Canadians are taxed on illusory capital gains https://t.co/n3oBxafPSv',\n",
              " 'Even if prices fall, the era of affordable houses in Canada seems to be done https://t.co/5VxkjbEkCA',\n",
              " 'What to think about if you’re getting a ‘grey divorce’ https://t.co/DPquIo0irI',\n",
              " 'U.S. housing market floats back to earth https://t.co/OWc6fu50YI',\n",
              " 'Russian tax brews up perfect aluminum premium storm https://t.co/xoBuyVsxki',\n",
              " 'Should parents of young kids start a house down payment fund? https://t.co/I6RE40WHO6',\n",
              " 'RT @MarketsGlobe: Canadian dollar dips as investors weigh ECB’s stimulus pledge https://t.co/8DCD7Ycms6 (subscribers)',\n",
              " 'Bad Breadth: Whiff of danger as market gains lack scope https://t.co/FF9hhlYvpo',\n",
              " 'How to financially prepare for a ‘grey divorce,’ why more people plan to retire post-pandemic and how a quick breathing exercise could lower your blood pressure https://t.co/7UojC5tMjt',\n",
              " 'Some hedge funds stick with reflation trade despite bond position pain https://t.co/ugcpAygMCt',\n",
              " 'RT @MarketsGlobe: Premarket: European stocks back near record highs on dovish ECB bets https://t.co/7yjgp1k89l (subscribers)',\n",
              " 'Limited opportunities for investors to tap into surging venture capital market https://t.co/OonLeD26kH',\n",
              " '14 companies that combine value and outperformance in a red-hot market https://t.co/WGgsSavgXT',\n",
              " 'Investors look to near US$2-trillion corporate cash hoard to buoy stocks https://t.co/VnsC376PVC',\n",
              " 'Prepare for turbulence in megacap tech stocks. Plus, the 8.5% yielding TSX 60 ETF and analysts predict doubling in price of gaming stock https://t.co/u8I76LtsPb',\n",
              " 'What, me worry? Fed chief’s emotional tone can drive markets, study suggests https://t.co/9qnUqROajT',\n",
              " 'RT @MarketsGlobe: Canadian dollar gains as risk appetite shows signs of recovery https://t.co/fPioJXESSM (subscribers)',\n",
              " 'Warning signs for global recovery as Delta dims outlook https://t.co/HLdI4PCFFY',\n",
              " 'RT @MarketsGlobe: Premarket: Bonds, U.S. dollar rally as virus fears oust inflation jitters https://t.co/h8x5G960P2 (subscribers)',\n",
              " 'Advisors look to manage investor biases as stock markets shift https://t.co/R7RHXNchFH',\n",
              " 'Ten highest yielding Canadian securities with proven track record of consistency and sustainability https://t.co/qlOMVqx9gO',\n",
              " 'Tax and insurance tips for homeowners who have tenants helping them pay their mortgage https://t.co/OkPjadrIbQ',\n",
              " 'Inflation, as tracked in bagels, bacon and pints of beer https://t.co/jFCp22uxEI',\n",
              " 'RT @MarketsGlobe: Canadian dollar dips as rising COVID-19 infections weigh on oil https://t.co/O3F2geFMxM (subscribers)',\n",
              " 'RT @MarketsGlobe: Premarket: European stocks recover even as global recovery fears linger https://t.co/8cB174Qqkb (subscribers)',\n",
              " 'Why greater interest in critical illness insurance has not led to increased coverage https://t.co/TwWpTC16Cf',\n",
              " 'Ten Canadian small caps with solid cash flow momentum https://t.co/cdeiNAC5Fx',\n",
              " 'Investors eye stock pullback as bonds sound alarm on growth, Delta variant https://t.co/oJhRdJBb0o',\n",
              " 'The market is now in mid-cycle and it’s going to get bumpy. Plus, seven ETFs to fight inflation’s predation in your portfolio https://t.co/7NfaUTegli',\n",
              " 'Canadian ETFs: June’s launches and terminations https://t.co/uZGxdp3XJz',\n",
              " 'RT @MarketsGlobe: Canadian dollar gives back 2021 gains as risk appetite crumbles https://t.co/4gk6nkmqD8 (subscribers)',\n",
              " 'Robinhood seeks up to US$35-billion valuation in mega U.S. IPO https://t.co/hYMhkF4k9r',\n",
              " 'RT @MarketsGlobe: Premarket: World stocks on worst run in 18-months amid global COVID-19 surge https://t.co/0Qs7nOlXwr (subscribers)',\n",
              " 'Not all wealth taxes are created equal https://t.co/x5AmJPAjxV',\n",
              " 'European shares come in from the cold https://t.co/CMEp83PfKZ',\n",
              " 'The Globe’s stars and dogs for the week https://t.co/PZZhfXsW69',\n",
              " 'Can Richard and Rachel afford to retire early and still spend $100,000 a year? https://t.co/hv8NQEXBOI',\n",
              " 'Cross-border shopping for Canadian stocks? Read this https://t.co/DX5NdnPACo',\n",
              " 'Bullish on FireEye https://t.co/M0ZjZF589G',\n",
              " 'RT @MarketsGlobe: Canadian dollar slips to three-month low https://t.co/uU9mWgGDi7 (subscribers)',\n",
              " 'On Wall Street, U.S. small caps waver as reflation trade wobbles https://t.co/3mKsko7P06',\n",
              " 'Why small caps are struggling. Plus, Canada’s skyrocketing steel stock and the real reason the loonie is sinking https://t.co/pYSQoP9hiF',\n",
              " 'RT @MarketsGlobe: Premarket: World shares steady, U.S. yields hover near lows ahead of fresh data https://t.co/QBqQ3Gc2ZY (subscribers)',\n",
              " 'How advisors are faring more than a year into the pandemic https://t.co/SOYF4KOGA1',\n",
              " 'The top 15 U.S.-listed stocks with a solid earnings history https://t.co/LC96Zs0hup',\n",
              " 'Buying land, a cottage or a rental? Tips for getting a mortgage on a secondary property https://t.co/pG2SzazY5U',\n",
              " 'The impact of the ‘inflation tax’ can be huge for investors https://t.co/2EjCLXaR4F',\n",
              " 'How to stave off dementia, positioning your portfolio for tougher investment days ahead and why retirement is set to become an election issue in France https://t.co/kUe8fNhFZW',\n",
              " 'RT @MarketsGlobe: Premarket: Fed boosts bonds, Delta concerns stall world stocks https://t.co/PISWt5h7pf (subscribers)',\n",
              " 'New accreditation may lead to growth in use of the ‘Smith Manouevre’ https://t.co/DEWtapY8ER',\n",
              " '15 TSX stocks with steady earnings that are still reasonably priced https://t.co/iQAkjlCcxY',\n",
              " 'Wealthsimple Trade becomes first broker to offer fractional share purchases in both Canadian and U.S. companies https://t.co/lWvKrbDkVB',\n",
              " 'The investment opportunity in robotics. Plus, 10 stock picks with yields still above 5% and fractional share purchasing comes to Canada https://t.co/Eip1upFFlj',\n",
              " 'BlackRock CEO does not see inflation as transitory https://t.co/sFKzY8YijG',\n",
              " 'Former plumber, 36, with impaired vision lives in Toronto on disability income of $16,668 - and parental help https://t.co/FHRcKOv8Xc',\n",
              " 'Wealthsimple Trade becomes first broker to offer fractional share purchases in both Canada and U.S. companies https://t.co/JuLWSUffO8',\n",
              " 'RT @MarketsGlobe: Premarket: World stocks slip on inflation fears https://t.co/etCD8olYYo (subscribers)',\n",
              " 'ARK Invest’s Cathie Wood looks past rising consumer prices to focus on deflation https://t.co/RNwVbq8Twg',\n",
              " 'Gen Z, millennials playing a significant part in the Great Resignation trend https://t.co/mDOcZ1VpDP',\n",
              " 'Fund managers give copper a wide berth as China cools https://t.co/T27Tqadq2L',\n",
              " 'Has Canada reached ‘peak ETF’? Some say not even close https://t.co/AC0Rvl54KE',\n",
              " 'Have you missed the preferred share rally? https://t.co/dXEa8PrPyN',\n",
              " 'Six SPAC ETFs for investors comfortable with the risk https://t.co/4s2GQUeQ8y',\n",
              " 'RT @MarketsGlobe: Premarket: World stocks edge up on China exports, U.S. inflation data awaited https://t.co/8a9eg6WGV5 (subscribers)',\n",
              " 'Why emerging markets are betting on green infrastructure https://t.co/QQfruEguTF',\n",
              " 'These 11 growing companies from the S&amp;P 500 are becoming increasingly attractive https://t.co/YhG4KznjRX',\n",
              " 'Retirement levels expected to surge after pandemic-era slump, RBC report says https://t.co/HNfyJMW88j',\n",
              " 'Trudeau and O’Toole muddy the waters on equalization https://t.co/kMn8QvQwXH',\n",
              " 'RT @MarketsGlobe: Premarket: COVID Delta upsurge keeps stock and commodity bulls in check https://t.co/ZEi1j0xyFr (subscribers)',\n",
              " 'A humbling week for bond bears https://t.co/WLSwDqDWum',\n",
              " 'These four young investors jumped into the market during the pandemic. Here’s what they’re buying https://t.co/GmcBB0lj7X',\n",
              " 'Bullish on Stantec https://t.co/k8CRKJC5sT',\n",
              " 'Can Ben and Lucy retire in their 40s on just one income? https://t.co/uxai6KE1v4',\n",
              " 'Why buy and hold beats buy low, sell high https://t.co/b0TX6QH7Cf',\n",
              " 'Wall Street investors eager for earnings amid growth concerns https://t.co/OaFFUfVjv8',\n",
              " 'The best banks for GIC rates over the long haul. Plus, what to make of falling bond yields and BlackRock Canada on how to invest for the rest of 2021 https://t.co/1ABIeBg5mo',\n",
              " 'Can Reddit’s silver ‘apes’ beat the market? https://t.co/LtEzCY9zsb',\n",
              " 'Jeff Bezos has told NASA that Blue Origin will waive as much as $2 billion of payments as it seeks a government contract to develop a landing system for the moon https://t.co/TqeAULZ2Ie',\n",
              " 'Valuations for startups are racing ahead of what their current results appear to justify, but a seasoned venture capitalist says don’t call it a bubble yet https://t.co/LR2EHaEwpS',\n",
              " 'RT @BBGVisualData: It is Tuesday and Day 4 of the #Olympics in Tokyo. On the schedule today: 22 medal events, starting with Women’s Triathl…',\n",
              " \"Wall Street's $22 trillion M&amp;A party is winding down after a visit from the deal police https://t.co/4MN9M5QKnL\",\n",
              " 'Canada’s export agency plans to commit to net-zero greenhouse gas emissions by 2050 and is working on a range of new sustainable financing ideas to help decarbonize its portfolio https://t.co/jP4i9Fevw6',\n",
              " 'Brazil wants to wants to double crude output by 2030 to become the world’s fifth-largest exporter https://t.co/6gBpnHrAsd',\n",
              " 'The Canadian dollar, one of the best-performing major currencies this year, may be poised to get a sustained second wind https://t.co/eSwHz3FKo4',\n",
              " 'California will require all state employees to prove they’ve been vaccinated or wear a mask in the office and get tested for the coronavirus at least once a week https://t.co/Hzu2LfxtQE',\n",
              " 'Justin Trudeau’s government appears unwilling to join the U.S. in hitting Cuba with targeted sanctions against those responsible for repressing a recent wave of protests https://t.co/HIKF6mdDOM',\n",
              " 'A U.S. ban on evictions is set to expire at the end of July, and this time it’s unlikely to be extended, putting millions of renters at risk https://t.co/TfVNpkqB87',\n",
              " 'Amazon’s payments team is exploring letting customers use cryptocurrencies to pay for their orders https://t.co/IfUWQHt7Gz',\n",
              " 'The takeover battle for one of Canada’s largest energy companies moves closer to resolution https://t.co/1shZKiCHeF',\n",
              " \"Scientists cautiously welcome a sustained fall in new coronavirus cases in the U.K. but aren't sure the wave has passed https://t.co/rLGmDytYxG\",\n",
              " 'Wall Street’s silence on Didi is speaking volumes as its stock fluctuates well below last month’s IPO price https://t.co/Selu7yr3JZ',\n",
              " 'The Bank of Canada will allow most of its employees to work remotely as much as 50% of the time once public health guidelines allow it to fully reopen its offices https://t.co/eOSzqKCYdr',\n",
              " \"Countries are thinking about how to open up their borders. But officials haven't even considered the most basic question: What to do about kids? https://t.co/YZ133POs17\",\n",
              " 'The House committee investigating the Jan. 6 riot will hold its first hearing on Tuesday with testimony from four Capitol police officers https://t.co/uDSUYPL5j8',\n",
              " 'Exotic mortgages typically associated with the reckless housing market that gripped the U.S. in the mid-2000s are popping up in normally cautious Canada https://t.co/GrkOHZ4SzC',\n",
              " \"It's not just about heatwaves in the U.S. and floods in Europe. Here are some extreme weather events we don't hear enough about https://t.co/s1u8XAjRZt\",\n",
              " 'The once-hot market for hard seltzer is losing its fizz https://t.co/PPbGzPYPbW',\n",
              " 'Valuations for startups are racing ahead of what their current results appear to justify, but a seasoned venture capitalist says don’t call it a bubble yet https://t.co/0y9cwlG4TN',\n",
              " 'Arabica coffee futures are hitting fresh highs on concern over a cold snap sweeping top grower Brazil, threatening the high-end beans favored by Starbucks https://t.co/ZJQ8rpuMzV',\n",
              " 'A U.S. probe into Tether homes in on whether executives behind the digital token committed bank fraud, a potential criminal case that would have broad implications for crypto https://t.co/EsRUjzTvrm',\n",
              " 'The top executive at Rogers has a clear message as he tries to stick-handle a takeover of Shaw through a maze of regulatory hurdles. He’s going to spend, and spend big https://t.co/v2nuLJJCSm',\n",
              " \"A big marijuana grower in California says he's preparing for the day when it's legal nationwide https://t.co/VuOJSZaGV4\",\n",
              " 'The Biden administration is keeping foreign travel restrictions in place https://t.co/RNqdk1ssiI',\n",
              " 'Air Canada has started the marketing of high-yield bonds in U.S. and Canadian dollars, the largest portion of its $5.35 billion refinancing announced last week https://t.co/LxeSZfJ3m0',\n",
              " 'Big Pharma has a problem it doesn’t like to talk about and isn’t fully understood: drug cross-contamination is rampant https://t.co/tJPJjGHazr',\n",
              " 'Regulatory risk is nothing new in China, but rarely have global investors had to cope with such a widespread onslaught of rules https://t.co/11qcchUhbf',\n",
              " 'The Canadian dollar, one of the best-performing major currencies this year, may be poised to get a sustained second wind https://t.co/HIkRgAw0s2',\n",
              " 'A summer road trip is one of the best pandemic options, but it could be really expensive https://t.co/EZl8GUOi5D',\n",
              " 'Some German politicians have raised the idea of mandatory Covid shots as Europe gets tough on the unvaccinated https://t.co/EdUgjrn3Nu',\n",
              " 'RT @business: What makes Portland’s pizza better than New York’s?\\n\\nModernist Cuisine founder @nathanmyhrvold breaks down how the West Coast…',\n",
              " 'Pembina terminates its $6.7 billion agreement to acquire Inter Pipeline after Brookfield raises its hostile bid for the Canadian energy company https://t.co/VhCV288nf3',\n",
              " 'The real yield on U.S. 10-year debt falls to a record low https://t.co/xY8MT1sRvK',\n",
              " 'The U.S. went into its first face-to-face meeting with officials from China in months on the back foot. And arguably stayed there https://t.co/hJCKwM1b9l',\n",
              " 'If the red-hot Canadian housing market cools off, will the broader economy take a major hit? CIBC doesn’t think so https://t.co/p0zYKswPwf',\n",
              " 'RT @business: #Olympics  organizers reported 16 more Covid cases, including three infections among athletes. Others who tested positive inc…',\n",
              " 'RT @business: NEW: Boeing is looking to stage a major turnaround after the 737 Max crisis and the pandemic.\\n\\nBut the company that was once…',\n",
              " 'RT @business: #Coronavirus latest:\\n-Global cases reach 193.9 million, deaths exceed 4.1 million\\n-Fauci warns U.S. is moving in \"wrong direc…',\n",
              " 'RT @business: 🇨🇳 China takes an early lead in the gold and total medal counts followed by Japan and the United States.\\n\\nFind out which coun…',\n",
              " \"こんにちは / Konnichiwa 👋 We've just launched Bloomberg Japan on Instagram. Follow the account for top news and analysis in Japanese.  https://t.co/DWlOA32hm6 https://t.co/SYB7QpCHOG\",\n",
              " 'RT @crypto: #Bitcoin traded above a crucial technical level over the weekend for the first time since early May, after comments from @Cathi…',\n",
              " 'RT @bopinion: 🚨 LIVE now on @TwitterSpaces: @anjani_trivedi is talking to @tculpan about what we should expect from the #TokyoOlympics.\\n\\nLi…',\n",
              " 'RT @bopinion: How is everyone keeping the excitement alive at the Tokyo Olympics amid Covid-19 restrictions? \\n\\n🚨 Starting at 8 p.m. EST: @a…',\n",
              " 'Day 2 of #Tokyo2020 is in the books! China🇨🇳 takes an early lead in the gold and total medal counts: https://t.co/UTMgoVcP63 https://t.co/qBjZHr6Uhp',\n",
              " 'Day 1 medals at the #Tokyo2020 Olympics are now in!\\n\\nFollow Bloomberg’s Medal Tracker here: https://t.co/azZtDDdCRF (no paywall) https://t.co/89v2IjmNwP',\n",
              " 'Day 1 medals at the #Tokyo2020 Olympics are now in!\\n\\nFollow Bloomberg’s Medal Tracker here: https://t.co/06s8chyBcI (no paywall) https://t.co/QtSfSCIpK8',\n",
              " 'Days after Los Angeles reintroduced an indoor mask mandate, the nation’s second-largest city was revisiting debates many hoped were left in 2020 https://t.co/6y85gic3Jj',\n",
              " 'The Biden administration has no immediate plans to levy economic sanctions on Chinese officials in response to the Microsoft Exchange hack that the U.S. blames on Beijing https://t.co/dz9jHTnxy3',\n",
              " 'This is what makes delta the most disruptive virus variant of Covid-19 https://t.co/ExJeWQgoPY',\n",
              " 'RT @BNNBloomberg: In just a few weeks time, American tourists will officially be allowed back in Canada https://t.co/Rt1j2YTelS',\n",
              " 'Another dome of high pressure and heat will build across the middle of the U.S. in coming days, bringing some of the hottest temperatures of the summer, from Dallas to Chicago https://t.co/iLsvlv0fXI',\n",
              " 'Canadian government says it will fast-track resettlement of potentially thousands of Afghans who have worked with Canada over the past 20 years (via AP) https://t.co/2IwQtdmSEp',\n",
              " 'RT @business: Mexico’s butterfly king put himself between a threatened species and the country’s avocado and timber industries. Then he dis…',\n",
              " 'U.S. and Mexico fail to resolve a dispute over trade rules for cars https://t.co/ntsfhOeOUu',\n",
              " 'RT @BloombergTV: Shares of Magna fell by the most in a year after announcing a $3.8 billion deal for driver-assist supplier Veoneer. \\n\\n\"I t…',\n",
              " 'Traders holding coffee beans in exchange warehouses are suddenly sitting on a jackpot as Brazilian crops get hit by frost https://t.co/AeRVrKlsRX',\n",
              " 'RT @BloombergLive: RECAP: Missed #TheFutureOf Connectivity with @Accenture? Catch the highlights here from the @BloombergLive Editorial tea…',\n",
              " 'If the red-hot Canadian housing market cools off, will the broader economy take a major hit? CIBC doesn’t think so https://t.co/tksKrjUXxx',\n",
              " 'Railroads may no longer create America’s greatest fortunes, but the tracks still excite analysts https://t.co/qwmKNn0LDF',\n",
              " 'The prosecutor investigating Donald Trump and his company made his name and career defending Wall Street banks https://t.co/HcKZTHPHFj',\n",
              " 'RT @business: Luxury real estate sales are so far impervious to wildfires, drought, and rising seas https://t.co/j6lBhM4Mta',\n",
              " 'RT @business: Climate scientists explain how the jet stream and global warming are linked to recent weather disasters https://t.co/L2v8unzy…',\n",
              " \"Summer can't come soon enough to one red-hot market https://t.co/e0fxqs9Avx\",\n",
              " 'The calm in the currency market may be about to get rough https://t.co/ZzmICI7xeW',\n",
              " 'A third coronavirus wave fueled by the highly contagious delta variant ravages two of Mexico’s most popular tourist destinations on opposite coasts https://t.co/HpKvlYF3lD',\n",
              " 'Negotiations between the European Union and the U.S. to recognise each other’s vaccination passes are struggling to make headway due to the absence of a federal certification system in America, according to a diplomatic memo seen by Bloomberg https://t.co/hxP70zoaXG',\n",
              " 'The Bank of Canada will allow most of its employees to work remotely as much as 50% of the time once public health guidelines allow it to fully reopen its offices https://t.co/GEWx1kixId',\n",
              " 'Airborne messages pumping shares of AMC have become a top tool of choice for the retail army that is marching in formation for this cult stock https://t.co/iwL3x3Ca7v',\n",
              " '“The delta variant is posing a growing risk, but it’s probably not to the point that we should be making big, negative changes in our outlook” https://t.co/bJY8LbaHAE',\n",
              " 'A powerful typhoon that’s currently off the east coast of China is set to bear down on one of the country’s biggest oil hubs, just days after it contributed to devastating floods across the central Henan province https://t.co/fwnhaUHx5J',\n",
              " 'RT @BloombergLive: RECAP: Missed our latest installment of #BloombergInvest Talks with Apollo Global Management CEO Marc Rowan? Catch the h…',\n",
              " \"Pfizer's Covid vaccine was just 39% effective in keeping people from getting infected by the delta variant, but was far better at preventing hospitalization https://t.co/WNQuoi8SgO\",\n",
              " 'Drought is withering crops on both sides of the Canada-U.S. border, prompting farmers to turn their grain fields into hay to feed animals https://t.co/sbjCvyTEkD',\n",
              " 'Canadian retailers have started to recover from the third major Covid-19 shutdown, which stunted shopping earlier this year https://t.co/dCAC4iGKEx',\n",
              " 'RT @BNCommodities: As tumultuous weather patterns take hits on crops across the world, raisins have become the latest victim of the volatil…',\n",
              " 'RT @BNNBloomberg: #BREAKING: Canadian May retail sales fell 2.1 per cent month over month versus estimated three per cent drop. https://t.c…',\n",
              " 'Magna International will buy Veoneer for $3.8 billion to bolstering its business supplying advanced driver-assistance systems https://t.co/VHnUovsfx8',\n",
              " 'RT @markets: The calm in the currency market may be about to get rough https://t.co/TjGMXbAHRP https://t.co/06sKkqnshE',\n",
              " 'RT @BNNBloomberg: Air Canada reported improving but still big losses in the second quarter as travel demand started to rise. https://t.co/n…',\n",
              " 'Tokyo Olympics Covid cases top 100 before opening ceremony https://t.co/yiBZFMA9XJ',\n",
              " 'RT @business: Meet Tommy Fisher. His company spent millions to build a 3-mile border wall between the U.S. and Mexico. Now, he needs to fin…',\n",
              " 'RT @Quicktake: 🏅The #Tokyo2020 #Olympics have kicked off under the shadow of #Covid19 as daily infections tied to the Games rise in Japan.…',\n",
              " \"RT @business: The #TokyoOlympics is here, finally! Here's Bloomberg's @rumireports outside the Olympic Stadium with the latest updates. Mor…\",\n",
              " 'LATEST: An interval of eight-to-10 weeks between doses of the Pfizer vaccine boosts the effectiveness of the two-shot regimen, according to a U.K. study https://t.co/Eqw4CYyMul',\n",
              " 'McLaren finds overwhelming demand from investors https://t.co/jLZYxUwM1R',\n",
              " 'TD Bank and Great-West Lifeco plan to issue inaugural limited recourse capital notes issues https://t.co/miF8Z56C36',\n",
              " 'The recent rise in Covid-19 cases shows no signs of abating in U.S. states that have fueled the uptick as the delta variant proliferates https://t.co/sUq7iuGvF8',\n",
              " 'Tech Stocks Lead S&amp;P 500 Gains; Treasuries Climb: Markets Wrap https://t.co/34J06Qcy3a',\n",
              " 'Thousands of internet users reported widespread issues with prominent websites, including Amazon, Home Depot, Airbnb and UPS https://t.co/PMCIuu2tMY',\n",
              " 'Drought is withering crops on both sides of the U.S.-Canadian border, prompting farmers to take the rare measure of turning their grain fields into hay to feed animals https://t.co/FuNbiHdCWQ',\n",
              " 'A second boat for prostitutes. Cannabis buffets. And don’t forget the caviar. These are nine wild things you learn about superyachts by working on one https://t.co/huUuiPE1Z9',\n",
              " 'Vaccine myths are crippling the U.S. rollout. \"The shots don’t work. They impair fertility. They’ll alter your DNA. They’ll magnetize you. They actually spread the virus.\" https://t.co/LurGMV9huP',\n",
              " 'Transmission lines for new energy projects are scarce, but retiring coal plants could provide a partial solution https://t.co/XpKIPP0fJq',\n",
              " 'RT @luxury: The 96th-floor penthouse at Manhattan’s 432 Park Ave. is listed for sale at $169 million -- double the original purchase price…',\n",
              " 'Chinese regulators are considering serious, perhaps unprecedented, penalties for Didi after its controversial initial public offering last month https://t.co/ZX11TaIpVC',\n",
              " 'Climate scientists explain how the jet stream and global warming are linked to recent weather disasters https://t.co/uAGbIrS9na',\n",
              " 'Meet the Saudi prince trying to bend the oil market to his will https://t.co/KbM3MLD4PH',\n",
              " 'This guy spent $30 million building Trump’s border wall. Now he’s looking for someone to buy it back https://t.co/tLvrck5Acd',\n",
              " 'RT @KiwiPMI: I will be appearing on @marketcall on Monday at noon answering calls on global equities, emerging markets, technology and med-…',\n",
              " 'RT @DrAJHalifax: The rigour of this trial and the decades of safety data behind nitric oxide gives us full confidence in requesting emergen…',\n",
              " 'RT @StanWongWealth: Just a few hours away until my @BNNBloomberg @marketcall interview with host @AndrewBellBNN at 12:00pm-1:00pm ET. We wi…',\n",
              " 'RT @levinepmc: I will be appearing tomorrow, Friday May 7, on @marketcall on @BNNBloomberg along with my 7 month and counting hair with hos…',\n",
              " 'RT @BrookeThackray: I am on BNN Bloomberg Market Call today at 12PM ET. Please join for market update and to ask questions. @marketcall htt…',\n",
              " 'RT @MWG_Jamie: Jumping on @marketcall at noon ET. \\n\\nWill try to improve my grade to an A+. Check out these fun rankings from https://t.co/v…',\n",
              " 'RT @KiwiPMI: I will be appearing on @marketcall on Friday April 23, 2021 at noon discussing Global Equities, Technology &amp; Medtechnology sto…',\n",
              " \"RT @AndrewBellBNN: it's all emails and tweets on @BNNBloomberg's @marketcall today\\n\\nso email your questions on Cdn stocks to  marketcall@bn…\",\n",
              " 'RT @Caldwell_Funds: Today, Jennifer Radman, Head of Investments and Senior Portfolio Manager at Caldwell Investment Management Ltd., will b…',\n",
              " 'RT @Caldwell_Funds: Tune in to @BNNBloomberg today, September 28th at 12 noon ET as Brendan Caldwell, President and CEO of Caldwell Investm…',\n",
              " \"RT @IJCarrasco: I was invited back on @BNNBloomberg @marketcall to discuss my views on the markets and how I'm positioning clients. Here's…\",\n",
              " 'RT @BrookeThackray: Please join me on BNNBloomberg Market Call today at 12pm noon. @marketcall https://t.co/hLuqymzNcY',\n",
              " 'RT @ericnuttall: Goldman Sachs out today supporting what we believe: Canadian oil &amp; gas stocks represent the most compelling energy opportu…',\n",
              " 'RT @BHEconomist: I’m going to be on @BNNBloomberg @marketcall today at Noon!!\\n\\nTune in to see where we see markets heading and what you sho…',\n",
              " \"RT @StanWongWealth: I will be back on @BNNBloomberg's @marketcall show this Thursday the 9th at 12:00pm-1:00pm ET w/ host @AndrewBellBNN. W…\",\n",
              " \"RT @SprungInvest: See Michael Sprung's top picks on BNNBloomberg’s #MarketCall today at 12:00 PM. Tweet your questions to @marketcall https…\",\n",
              " \"RT @ericnuttall: The BNN curse is broken! I'll be on @marketcall today at 12ET to discuss multibagger opportunities in the Canadian energy…\",\n",
              " 'RT @KiwiPMI: A excellent @marketcall segment with @AndrewBellBNN today. \\n\\nThanks for all the great questions. \\n\\nStay safe everybody.',\n",
              " \"RT @StanWongWealth: I will be back on @BNNBloomberg's @marketcall show this Tuesday the 9th at 12:00pm-1:00pm ET w/ host @AndrewBellBNN. We…\",\n",
              " \"RT @levinepmc: I'm looking forward to joining @AndrewBellBNN on Monday at noon EDT on @marketcall on @BNNBloomberg. Interesting time should…\",\n",
              " 'RT @NewtonGroupSM: Yes I am. From home. Should be interesting. https://t.co/6ePfgpNCpn',\n",
              " \"RT @BNNBloomberg: Josef Schachter's Market Outlook https://t.co/vakpq6LxTu https://t.co/d9GU45gHCE\",\n",
              " \"RT @AndrewBellBNN: call in now with your questions for Teal Linde on @BNNBloomberg's @marketcall \\n\\nFOCUS: North American Mid and Large Caps…\",\n",
              " \"RT @ericnuttall: Feeling down about the ongoing lockdown and poorly performing oil stocks this month?  I'll be on @marketcall today at 12ET…\",\n",
              " \"RT @barometerca: I am looking forward to an hour with @BNNBloomberg\\n on @marketcall today at 12:00pm. Let's talk #markets, leadership theme…\",\n",
              " 'RT @BrookeThackray: Join me today on BNN Market Call with @AndrewBellBNN today at 12 noon ET. https://t.co/UDDVlCVKiY',\n",
              " 'RT @jasondelvicario: Many thanks to @AndrewBellBNN and the @marketcall crew for a great show from our deck in beautiful Howe Sound, BC. Hav…',\n",
              " 'RT @BarrySchwartzBW: I will be on BNN Bloomberg Market Call this Monday May 4 at 12 noon.  Send your tweet questions to @marketcall',\n",
              " 'RT @BHEconomist: I had a great time on @marketcall and cannot wait to be back on again! https://t.co/Uqshxe7mQq',\n",
              " \"RT @AndrewBellBNN: @KiwiPMI @marketcall here da links to @BNNBloomberg's @marketcall show today\\n\\nhttps://t.co/NPepqfB4P2\\n\\nhttps://t.co/FK5f…\",\n",
              " \"RT @KiwiPMI: I will be appearing on BNN's @marketcall today at noon with @AndrewBellBNN \\n\\nI will be covering global equities and technology…\",\n",
              " \"RT @BNNBloomberg: Zach Curry's Market Outlook https://t.co/RQ6hlnZPOp @AndrewBellBNN https://t.co/dGuGHm5ZqQ\",\n",
              " \"RT @BNNBloomberg: Jamie Carrasco's Market Outlook https://t.co/NIhMW7Hglb @paulbagnellBNN https://t.co/bbrH8nRdsP\",\n",
              " \"It's March which means Talking Tax is back every Friday at 6pm! Send us your tax questions to talkingtax@bnnbloomberg.ca or tweet us @TalkingTaxBNN . #talkingtax\",\n",
              " \"RT @StanWongWealth: I will be back on @BNNBloomberg's @marketcall show tomorrow (Thursday) evening at 6:00pm-7:00pm ET w/ host @AnitaSharma…\",\n",
              " \"Market Call Tonight is live with @IJCarrasco. Got a precious metal or dividend stock in mind? Tweet us your questions and we'll try out best to get to them.\",\n",
              " \"Market Call Tonight is live with Elliott Fishman. He's taking your questions on technical analysis, so tweet us and tune in!\",\n",
              " \"Market Call Tonight is live! John O'Connell of @DavisReaLtd is taking your questions, so tweet us and tune in.\",\n",
              " 'Join us live on Market Call. @jasondelvicario of @hillside_wealth is taking questions on growth stocks. Tweet us and tune in!',\n",
              " \"Market Call Tonight is live with Paul MacDonald of @harvestetfs. He's taking your questions on Large Cap Health Care stocks, so tweet us and tune in!\",\n",
              " 'Market Call Tonight is live with Brett Girard of Liberty International Investment Management. Tweet us your global stock questions and tune in!',\n",
              " 'RT @Caldwell_Funds: Jennifer Radman will be appearing on @marketcall today at noon with @AndrewBellBNN #CaldwellFunds https://t.co/glYyCpLP…',\n",
              " 'Market Call Tonight is now live with Paul Harris of Harris Douglas Asset Management. Tweet us your stock questions and tune in!',\n",
              " 'Join us on Market Call Tonight, John Hood is taking your option and ETF questions. Tweet us and tune in!',\n",
              " 'ON NOW! Keith Richards @ValueTrend giving his technical analysis on your questions. Tweet us! #MarketCall',\n",
              " 'ON NOW! Lorne Steinberg @SteinbergWealth taking your questions on Global Value Stocks &amp; High Yield Bonds!',\n",
              " \"RT @tylermordy: Tune in to @BNNBloomberg @marketcall tonight at 6pm - I'll be sitting down with @AnitaSharma, answering questions and calls…\",\n",
              " 'ON NOW! @tylermordy taking your questions on Exchange-Traded Funds. Tweet us! #MarketCall',\n",
              " \"RT @levinepmc: I'm looking forward to appearing tomorrow on @BNNBloomberg's @marketcall with host @AndrewBellBNN at noon EST. Always fun an…\",\n",
              " \"Live now on Market Call Tonight, we have GlobeInvest's Chris Blumas taking your North American large cap stock questions. Tweet us and tune in!\",\n",
              " \"We're live now with Bill Harris of Avenue Investment Management. Tweet us your Canadian equity questions and tune in!\",\n",
              " 'ON NOW! Paul Gardner taking your questions on Bonds, REITs and Dividend Stocks. Tweet us! #MarketCall',\n",
              " \"We're now live with @James_Telfser  , taking your questions on Canadian stocks. Tweet us and tune in!\",\n",
              " \"Due to unforeseen issues, tonight's episode of Market Call Tonight will be a repeat of last night. We apologize for the inconvenience and hope to have John Hood on the program soon.\",\n",
              " 'ON NOW!  @DavidBaskinBWM of Baskin Wealth Management taking your questions on North American Large Caps! Tweet us. #MarketCall',\n",
              " 'ON NOW! Michael Sprung of @SprungInvest taking your questions on Canadian Large Caps. Tweet us! #MarketCall',\n",
              " 'ON NOW! Joshua Varghese of Signature Asset Management taking your questions on Real Estate Stocks. Tweet us! #MarketCall',\n",
              " \"Got a U.S. or global stock in mind you'd like an expert's opinion on? Tweet us and tune in. @dfingold of Dynamic Funds is taking your questions live on Market Call.\",\n",
              " \"Market Call Tonight is live with David Driscoll of Liberty International Investment Management. He's taking your global equity questions. Tweet us and tune in!\",\n",
              " \"@MaximGIvanov @MiddlefieldGrp Hi Maxim, unfortunately Rob doesn't cover Inovalis REIT. Sorry about that.\",\n",
              " \"@RealSalluKhan @MiddlefieldGrp Unfortunately, Rob doesn't cover HDFC. Sorry about that.\",\n",
              " \"Market Call is now live with Rob Lauzon of @MiddlefieldGrp. He's taking your questions on global stocks. Tweet us your questions and tune in!\",\n",
              " 'Got a North American stock in mind? Alex Ruus of @ArrowCapital is live now on Market Call Tonight taking your questions. Tweet us and tune in!',\n",
              " \"Market Call Tonight is live now with @NewtonGroupSM! Tweet us your questions and tune in. He'll be answering your stock-related questions on North American Large Caps and ETFs.\",\n",
              " \"Got a large cap stock question? John O'Connell of @DavisReaLtd\\nis taking them. Tweet us and tune in now!\",\n",
              " 'ON NOW! Greg Newman of Scotia Wealth Management taking your questions on North American Dividend Stocks &amp; Protection Strategies. Tweet us #MarketCall',\n",
              " 'ON NOW! Andrew Pyle @andrewpyle_PWM taking your questions on North American Stocks. Tweet us #MarketCall',\n",
              " 'ON NOW! Darren Sissons @KiwiPMI of Campbell, Lee &amp; Ross taking your questions on Global and Technology stocks. Tweet us #marketcall',\n",
              " 'ON NOW! Michael Sprung @SprungInvest  taking your questions on Canadian Large Caps. Tweet us #marketcall',\n",
              " 'ON NOW! John Zechner @jzechner56 taking your questions on North American Large Caps. Tweet us #marketcall',\n",
              " 'ON NOW! Gordon Reid of Goodreid Investment Counsel taking your questions on U.S. Equities. Tweet us #marketcall',\n",
              " 'RT @EmpireLifeInv: Ashley Misquitta, U.S. Equities Senior Portfolio Manager will answer viewer questions on tonight’s segment of BNN Bloomb…',\n",
              " \"RT @ericnuttall: As one of the last surviving long-only energy fund managers in the world, I'll be performing my monthly act of penitence t…\",\n",
              " 'ON NOW! Christine Poole @christine_globe taking your questions on North American Large Caps. Tweet us #marketcall',\n",
              " 'ON NOW! Mike Newton @NewtonGroupSM taking your questions on North American Large Caps and ETFs! Tweet us #MarketCall',\n",
              " 'Got a question about a U.S. or global stock? @dfingold of Dynamic Funds is with us today providing answers. Tweet us and tune in!',\n",
              " 'ON NOW! @BrookeThackray taking your questions on Seasonal Investing and Technical Analysis. Tweet us! #MarketCall',\n",
              " 'ON NOW! @jasondelvicario taking your questions on North American Growth Stocks. Tweet us #marketcall',\n",
              " \"We're live now with Peter Hodson of @5iresearchdotca, taking your questions on Canadian small and mid-cap stocks. Tweet us your questions and tune in for answers!\",\n",
              " 'Gordon Reid is taking your U.S. stock questions, so tweet us and tune in! #Marketcall',\n",
              " 'Got a personal finance or ETF question tonight @STANDUP_Today joins us tonight to answer your questions, so tweet us and tune in! #MarketCall',\n",
              " 'ON NOW! Mike Newton @NewtonGroupSM taking your questions on North American Large Caps and ETFs. Tweet us! #MarketCall',\n",
              " 'ON NOW! John Zechner @jzechner56 taking your questions on North American Large Caps. Tweet us! #MarketCall',\n",
              " \"Wondering if you're investing in sustainable companies? Tim Nash of Good Investing is take your calls, emails and tweets on green stocks, so tweet us and tune in. #MarketCall\",\n",
              " \"RT @ericnuttall: For those not starting their long-weekend early, I'll be on @marketcall today at 12ET discussing historically low valuatio…\",\n",
              " \"ON NOW! John O'Connell of Davis Rea taking your questions on North American Large Caps. Tweet us!\",\n",
              " '@Pram17479742 👎',\n",
              " 'ON NOW! Javed Mirza of Canaccord Genuity taking  your questions on technical analysis! Tweet us! #MarketCall',\n",
              " 'Got a Canadian stock you want to know more about? Tweet us and get your questions answered by Brian Madden of Goodreid Investment, live now on #Marketcall',\n",
              " 'ON NOW! Jon Vialoux giving his technical analysis on your questions! Tweet us!',\n",
              " 'David Baskin @DavidBaskinBWM  joins us tonight, and is taking your questions on North American Large Caps. Tweet us!',\n",
              " \"Darren Sissons @KiwiPMI is our guest tonight, and he's taking your questions on Global Equities and Technology stocks. Tweet us your questions!\",\n",
              " 'Christopher Blumas of GlobeInvest Capital Management is taking your questions on North American Large Caps. Tweet us your questions!',\n",
              " 'James Telfser is on our show, taking your questions on Canadian Equities. Tweet us!',\n",
              " \"Market Call Tonight is live with John De Goey! He'll take your personal finance and ETF questions, so tweet us and tune in! #MarketCall\",\n",
              " '@RealSalluKhan Coming on up! Thanks for watching',\n",
              " '@Mitesh_Khatri1 Coming on up! Thanks for watching',\n",
              " 'Kim Bolton is on the program taking your questions on Technology stocks! Tweet us!',\n",
              " \"Got an ETF or option question you'd like answered on air? Join us now on Market Call Tonight with John Hood. Tweet us your questions and tune in! #MarketCall\",\n",
              " \"Got a dividend stock or investment strategy you'd like some insight on? Greg Newman is live on the program now taking your questions. Tweet us and tune in! #MarketCall\",\n",
              " '$SHOP Shopify hits $2000! Can it go higher?\\nhttps://t.co/lvItZcWS8K',\n",
              " 'RT @KDLifeisgreat: That was another absolutely massive morning show this morning on @MotleyFoolLive - ATVI’s troubles; deep dives into SBC,…',\n",
              " '$AC.TO $CJT.TO This airline stock could have a breakout. \\nhttps://t.co/FKNS6PPd2I',\n",
              " \"RT @BrianFeroldi: I love it when I find a stock that interests me so much that I'd rather read its 10-K than watch a movie\",\n",
              " 'RT @TomGardnerFool: ONE WAY TO WIN\\n\\nBuy 25+ stocks.\\nHold for 5+ yrs.\\nAlways add new savings.\\nAdd to your favorite stocks.\\nAnd keep adding n…',\n",
              " '@8_8avig @BrianFeroldi @Brian_Stoffel_ You should hear back from us by EOD tomorrow. Hang in there.',\n",
              " \"$FB Here's why Facebook jumped today. \\nhttps://t.co/QQOTFt3TKC\",\n",
              " \"RT @DavidGFool: You're welcome, Neeraj! Always a pleasure to hang out with @DaddyO9000.\\n\\nIf the podcast occasioned any further questions —…\",\n",
              " \"💰 Passive Income Alert 💰 \\n\\n$BRE.TO $TF.TO Stocks under $20 that pay dividends of 7% or more? That's crazy, but they do exist. Check them out in our latest article.\\n\\nhttps://t.co/lt3ewQyase\",\n",
              " 'ICYMI, we released our passive picks yesterday. Some gems in here. https://t.co/s7KlXMF8tN',\n",
              " '@8_8avig @BrianFeroldi @Brian_Stoffel_ Hi Harlan, I will check with our team and get back to you!',\n",
              " '@BrianFeroldi https://t.co/KeqqeD3ZYn',\n",
              " '@BrianFeroldi Send loonies please',\n",
              " 'Verify him @Twitter https://t.co/EhyawHJQNz',\n",
              " \"@BrianFeroldi So I'm not getting my #bitcoin back?\",\n",
              " '💰 Passive-Income Picks 💰 \\n\\nOur top Foolish writers are out with their top $TSX picks for that sweet, life-changing passive income. \\U0001f9a5\\n\\n$NWH.UN $SJR $DIR.UN $SRU.UN $RNW.TO $SPB.TO $SGR.U $FN.TO $NPI.TO $PBA $CRT.UN $KEY.TO\\n\\nhttps://t.co/wZnpudrtgZ',\n",
              " \"What's yours? https://t.co/Dr97ZYY8Ac\",\n",
              " \"$SNC.TO The infrastructure trade is far from over. Check out this stock if you're still looking. \\nhttps://t.co/wSnASpcGug\",\n",
              " '👏👏👏 https://t.co/IjhzZkhvEw',\n",
              " 'RT @TomGardnerFool: It’s a good idea to create incredible incentives for people to start new businesses',\n",
              " \"RT @themotleyfool: What's the most important innovation that will change the next 50 years?\",\n",
              " '$KPT.TO $TRP Looking for a massive dividend income stream? Take a look at these 2 picks. \\nhttps://t.co/HfGwwNVahX',\n",
              " 'Wow. https://t.co/IPOFF2gafG',\n",
              " '@LeBelleChart Thanks Luke. Sending it over to our team to have a look.',\n",
              " '$MRE.TO An #ElectricVehicle stock you need on your radar \\nhttps://t.co/j3MLhXBBq1',\n",
              " 'RT @TMFJaguar: No end of July update this month. Moving and then going on vacation so I’ll be mostly offline for 3 weeks. Looking forward t…',\n",
              " \"RT @anandchokkavelu: If Giannis were a founder-leader, I'd be investing heavily...\\n\\nTalent and results, yes, but also...\\n\\nHumility\\nDrive to…\",\n",
              " 'RT @Brian_Stoffel_: I talk a lot about Anti-fragility in my work with @themotleyfool and @BrianFeroldi.\\n\\nWhile there are huge benefits to t…',\n",
              " 'Some excellent choices in this list. https://t.co/RLJrwjy8xy',\n",
              " '$TSLA 👇 https://t.co/mpN0wFum5z',\n",
              " '$BB Is Blackberry a good buy this week? \\n\\nhttps://t.co/HNmj0rSnCp',\n",
              " 'RT @anandchokkavelu: 3 humble things that really, really work...\\n\\n1) Spending less than you make.\\n2) Investing those savings in low-cost in…',\n",
              " \"RT @Brian_Stoffel_: That's a lot of research. Great digging, Impact. \\n\\nEven if employees are happy *because* business is booming, a data po…\",\n",
              " 'What do you think? https://t.co/SQA9IQoTlg',\n",
              " 'RT @themotleyfool: Compounding is what makes people rich. And time is what drives compounding. So one of the most important investment powe…',\n",
              " '$HOOD $BB Will the Robinhood IPO impact Blackberry?\\nhttps://t.co/eK50cvuWs0',\n",
              " \"RT @TMFOtter: When you focus on the past that's your ego\\n\\nWhen you focus on the future that's your pride\\n\\nWhen you focus on the present tha…\",\n",
              " 'Exciting deal. $ZOOM $FIVN https://t.co/iPrbddJTrC',\n",
              " \"$CNI $RCI $AC.TO These 3 Canadian companies report earnings this week. Here's what to look out for. \\nhttps://t.co/vd64n6vslK\",\n",
              " 'RT @TomGardnerFool: The longer your holding period (5+ yrs), the more you can focus on smaller companies, growth dynamics, multi-baggers, &amp;…',\n",
              " 'RT @TomGardnerFool: 3 small caps I like a lot:\\n\\nFathom Holdings\\nVinci Partners\\nDermtech\\n\\nAll are capitalized under $1 billion.\\n\\nAll could b…',\n",
              " 'RT @BrianFeroldi: My Portfolio Design: https://t.co/8HmL15wlRl',\n",
              " '$XRE These hand-picked REITs might help with your passive income goals. \\nhttps://t.co/sc6YK1HFW9',\n",
              " '$FTS $AQN 2 stocks to buy and hold for a long time. \\nhttps://t.co/Gpiv3RVrpX',\n",
              " \"ICYMI, we released this special article yesterday. Top picks from our top writers. It's a can't miss. 👇 https://t.co/BRRGfbpooc\",\n",
              " 'RT @TomGardnerFool: @DavidGFool recommended Nvidia in 2005.\\n\\nFor 5 YEARS, it did almost nothing.\\n\\nFrom 2007 to 2015, Nvidia stock was actua…',\n",
              " 'RT @BrianFeroldi: My barbell strategy:\\n\\nPersonal Finances ➡️ Hyper-Conservative\\n✅No debt\\n✅Emergency fund\\n✅Multiple sources of income\\n✅High…',\n",
              " 'Cream of the crop. https://t.co/bh3n9y7yo5',\n",
              " '$SHOP 👇 https://t.co/IE3SPgnCIr',\n",
              " '⭐️⭐️⭐️⭐️⭐️ 5-Star Article Alert! \\n\\nWe asked our Foolish Writers for their top tech ideas right now. 👀\\n\\nAnd they delivered. Here are their juicy picks for 2021 and beyond. \\n\\n$SHOP $LSPD $CSU.TO $WELL.TO $DSGX $BB $ABST $DND.TO $NVEI.TO $CTS.TO $OTEX $DCBO\\n\\nhttps://t.co/mD7rQZvJCG',\n",
              " \"RT @TMFOHCanada: Couche Tard $ATD was as close to a no brainer as it gets back in January. Still offering great value even though it's 25%…\",\n",
              " '$IFC.TO $TFII $CAR.UN Thinking retirement? Here are 3 growth stocks that could set you up for that Freedom 55. \\nhttps://t.co/Fd9gGUFBy2',\n",
              " 'RT @TomGardnerFool: Which companies are doing the most to make the world a better place?',\n",
              " 'RT @TomGardnerFool: Double your average holding period to improve your investing returns.',\n",
              " 'RT @TomGardnerFool: Visa came public in 2008 around $17.\\n\\nToday, it sits around $245.\\n\\nReturns of 22% per year.\\n\\nWhen was the best time to…',\n",
              " 'RT @BrianFeroldi: Bad investors only focus on the upside.\\n\\nGood investors study the upside &amp; downside, weigh each carefully, and only act w…',\n",
              " 'RT @TomGardnerFool: Investing in the stock market for the rest of your life is the easiest way to make a lot of money.',\n",
              " '$CHR.TO $KBL.TO Travel demand is on the rise. ✈️\\n\\nHere are two stocks that could benefit big time. \\n\\nhttps://t.co/vTug6XKUNv',\n",
              " 'RT @BrianFeroldi: If you build enough wealth your credit score becomes irrelevant',\n",
              " 'RT @TMFJMo: I mean this is probably nothing... $TDOC $MSFT https://t.co/2QRnL0zxWn',\n",
              " 'RT @EconguyRosie: The lopsided US inflation story: about 90% of the core CPI was +0.2% in June (+2% YoY) and 10% of it jumped over 5% (+20%…',\n",
              " 'RT @BrianFeroldi: I’ve bought a lot of stocks that lost me money\\n\\nHere are 10 memorable failures and the key lesson I learned from each:',\n",
              " '$ENB $AC.TO \\n\\n$DOGE and lumber are losing their momentum, but these $TSX stocks keep climbing. 🚀\\n\\nhttps://t.co/PfHXqetdlF',\n",
              " 'RT @TomGardnerFool: If you invest for 5+ years, and you buy a stock that falls 20% in the first month but then triples over the next five y…',\n",
              " 'RT @themotleyfool: \"It takes 20 years to build a reputation and five minutes to ruin it. If you think about that, you\\'ll do things differen…',\n",
              " '$BCE $FTS Looking for some more dividends for your portfolio? Here are two passive-income stocks for July. \\n\\nhttps://t.co/nUMqKbztxZ',\n",
              " 'Congrats Brian! https://t.co/POaNsADa3s',\n",
              " 'RT @TomGardnerFool: ONE WAY TO WIN\\n\\nBuy 25+ stocks \\nFocus on smaller caps \\nFocus on growth \\nHold them 5+ years\\nAdd savings often\\nExpect som…',\n",
              " 'RT @themotleyfool: To save more money, increase the gap between your ego and your income.',\n",
              " '@Triggs1Martin That would make for a good article.',\n",
              " 'RT @fpinvesting: David Rosenberg: Look beneath the veneer of S&amp;P 500 highs for the really valuable information https://t.co/HoKU6eq83j http…',\n",
              " '$SHOP $WELL.TO $BEP 3 stocks with huge potential \\n\\nhttps://t.co/HGDLCfGI92',\n",
              " '@themotleyfool Motley Fool Canada of course',\n",
              " 'A great watch https://t.co/ZxIQOFJmSl',\n",
              " \"RT @BrianFeroldi: If you can't invest $1,000 well then you won't be able to invest $100,000 well.\\n\\nMore capital won't make you a better inv…\",\n",
              " 'RT @themotleyfool: Being patient is more powerful than being smart.',\n",
              " \"RT @TheMotleyFoolCA: Hot off the press! 🔥🔥\\n\\nOur top $TSX picks for July are here! 📈🚀\\n\\nLast month's picks were fantastic. These ones? Maybe…\",\n",
              " '$BB $ATY $WELL.TO \\n2 growth stocks better than Blackberry\\nhttps://t.co/nvNob2RWyo',\n",
              " 'RT @4VictoriaBC1: @NickBelfast @BrianFeroldi My first investment 3yrs ago was SHOP via @TheMotleyFoolCA',\n",
              " 'RT @themotleyfool: Teach your kids how to manage money before they have any.',\n",
              " 'RT @BrianFeroldi: Everyone with a large Twitter following started at 0.\\n\\nThey just consistently added value and never gave up.',\n",
              " \"RT @DavidGFool: Hello there, $STMP. 👀\\n\\nAnd… you're welcome @themotleyfool @TMFStockAdvisor members!\\n\\nCost basis: $81.58 (5/20/2016)\\nToday:…\",\n",
              " 'RT @globebusiness: Canadian dollar recoups some of this week’s decline as jobs rebound https://t.co/IViPCqKcel',\n",
              " '$SHOP Is the best yet to come for Shopify? \\n\\nhttps://t.co/eJAxs3e58m',\n",
              " 'RT @TMFJMo: You invest to make money. Beating the market is great but it shouldn’t be the goal; it’s simply a byproduct of just making some…',\n",
              " 'RT @themotleyfool: \"Nothing to excess, Not to believe too rashly, Not to disbelieve too easily.\\'\" -- Chilo\\n\\nGood investing philosophy.',\n",
              " 'RT @BrianFeroldi: What company is worth less than $10 billion today but you think could be worth $500+ billion in a few decades?',\n",
              " 'When will #bitcoin rally again? \\nhttps://t.co/K0Ufu9czgh',\n",
              " \"$CGX $PET Here's to the second half of 2021. Here's to the 2 $TSX stock picks you should have on your radar. \\nhttps://t.co/A4vn6GaI1n\",\n",
              " 'RT @TMFJMo: This really just started as a conversation between me and @TMFChrisHill one day on @MarketFoolery about how we could invest in…',\n",
              " 'RT @MFIndyAnthony: #BeMotley 🤓🃏✌🏻&amp; Hold https://t.co/oOq8S4jqRE',\n",
              " '$WCN The wide-moat Canadian king in a dirty business. \\nhttps://t.co/J0ZfL1Pnic',\n",
              " \"RT @themotleyfool: Most of your investment returns will come from a handful of years and a handful of stocks.\\n\\nThat's how it always works.\",\n",
              " '$LSPD This tech stock could be a big winner this summer. \\n\\nhttps://t.co/KbQkUZpb1F',\n",
              " 'ICYMI, our top stock picks for July are here! https://t.co/epjK1fBD9w',\n",
              " '$BMO $BNS $TD Are bank stocks on your radar this summer? \\nhttps://t.co/CIfTQpmM5g',\n",
              " 'RT @TomGardnerFool: Every 4-5 years, the stock market drops 20%. \\n\\nWhen that happens, growth stocks routinely fall 30-40%.\\n\\nThe worst portf…',\n",
              " '$DCBO 👇 https://t.co/DTNkODt0mM',\n",
              " '$BCE $ENB $FTS Solid dividend stocks for your $RRSP\\n\\nhttps://t.co/H47mIyodl6',\n",
              " 'Our article on the Top 3 Tech Stocks for July includes $BNXA https://t.co/zmCBnUyJ4R',\n",
              " 'The only daily news program focused exclusively on technology, innovation and the future of business from San Francisco.  https://t.co/CudrGDg5ON',\n",
              " 'U.S. infrastructure spending seen rising after decade of decline  https://t.co/NZ9y79W0Z2',\n",
              " 'Tesla Inc. reported better-than-expected second-quarter earnings, buoyed by strong demand for its electric vehicles as it suggested deliveries this year may exceed its longer-term projections for 50 per cent growth.  https://t.co/YU56oQi9Fx',\n",
              " 'One of the most sought-after management jobs right now is leading large, far-flung teams through uncharted waters. Human resources veterans need not apply.  https://t.co/F57LWQJxav',\n",
              " 'The Canadian Space Agency has awarded a contract worth $35.3 million to MDA Ltd. to design a key component of Canadarm 3.  https://t.co/Rl0kGOL7Mq',\n",
              " 'Cathie Wood is exiting Chinese stocks as Beijing’s crackdown on private businesses sends markets tumbling.  https://t.co/843ZzCPDGi',\n",
              " 'Bitcoin fell below US$38,000 following Amazon’s denial that its job posting for a digital currency executive meant that it will accept the token for payments this year.  https://t.co/Jczilb5bHM',\n",
              " 'Senate Democrats will seek a pathway to citizenship for as many as 8 million undocumented immigrants in a broad economic package they want to pass this year, according to a Senate Democratic aide familiar with the plan.  https://t.co/Zr7LTZmzRE',\n",
              " 'The Federal Communications Commission is challenging a bid by Elon Musk’s SpaceX for US$886 million in rural broadband subsidies, saying some of the money appeared headed for serving parking lots and airports with satellite-delivered broadband.  https://t.co/SW5BH0R2mP',\n",
              " 'In early 2020 the gleaming Diamond Princess cruise ship became the epicentre of the COVID-19 pandemic outside of China https://t.co/wbrIAdBp8Z',\n",
              " 'Gains in megacap technology stocks were propping up the S&amp;P 500 as it hovered around a record high on Monday https://t.co/hzqNoIaqdU',\n",
              " \"BNN Bloomberg's closing bell update: July 26, 2021 https://t.co/pMeHqp7HJA @AndrewBellBNN https://t.co/bBHMlzKzkS\",\n",
              " 'Blue Origin seeks a government contract to develop a human landing system for the moon https://t.co/lKYZsoql1A',\n",
              " 'Bitcoin rose above US$40,000 for the first time since June. https://t.co/V4rKluu01U',\n",
              " 'With only about 57% of eligible U.S. residents fully vaccinated, media reports say the Biden administration plans to keep its borders closed for now https://t.co/bUics2a9Gc',\n",
              " 'Top picks from Darren Sissons, vice-president and partner at Campbell, Lee &amp; Ross  https://t.co/aRgnUV6e1J',\n",
              " 'Sales of new U.S. homes dropped unexpectedly in June to the lowest since April 2020 https://t.co/fWIJScuzGd',\n",
              " 'Amazon’s payments team is exploring letting customers use cryptocurrencies to pay for their orders https://t.co/FhLrN0ocT7',\n",
              " 'China crackdown rocks investors: ‘Everybody’s in the crosshairs’  https://t.co/dZkFcl7ErC',\n",
              " 'Larry Berman discusses how interest rates are a key driver for gold.  https://t.co/Yh4iau7DkX',\n",
              " 'Three former executives of CannTrust accused of securities charges related to an unlicensed growing scandal had their case remanded until September. https://t.co/ZXhGogOVEp',\n",
              " 'Larry Berman discusses his outlook for markets.  https://t.co/FSsCaez3Mu',\n",
              " '“Valuations are high, but we wouldn’t be in a bubble like we used to define a bubble.\" https://t.co/JBjRCuswXr',\n",
              " 'OPINION: COVID-19 turned the U.S. into a takeout-food nation. https://t.co/F2k31Y1zty',\n",
              " 'The World Gold Council mid-year outlook suggests that higher rates running faster than inflation hurt in the first half https://t.co/XdSfvXSjoE',\n",
              " 'Most advice about retirement planning focuses on how to save enough money to replace your paycheck. \\n\\nBut work provides us with a lot more than income. https://t.co/3zAfCrh6ik',\n",
              " 'The Canadian dollar, one of the best-performing major currencies this year, may be poised to get a sustained second wind https://t.co/MtZSlxJaCU',\n",
              " \"BNN Bloomberg's mid-morning market update: July 26, 2021\\nhttps://t.co/pMeHqp7HJA @JonErlichman https://t.co/xxZwLfg2A6\",\n",
              " 'Jaguar Land Rover’s Indian owner reported a wider-than-estimated first-quarter loss https://t.co/KhAJduLhv8',\n",
              " 'Pembina Pipeline terminated its US$6.7 billion agreement to acquire Inter Pipeline. https://t.co/XCRrezhcHt',\n",
              " 'BNN BLOOMBERG POLL: Do you want companies you invest in to put cryptocurrencies on their balance sheet?',\n",
              " 'Softbank Group Corp.’s Vision Fund 2 led a US$75 million funding round for Embark Veterinary Inc., a genetics startup that seeks to increase dog lifespans.  https://t.co/wxlHrRzsLW',\n",
              " \"Approximately 900 Rio Tinto workers at the company's aluminum smelting facilities in Kitimat, B.C. have gone on strike.  https://t.co/nttPL9sZ9S\",\n",
              " 'Inter Pipeline Ltd. has pulled the plug on its friendly takeover arrangement with Pembina Pipeline Corp. https://t.co/JGmw3wqQbx',\n",
              " 'Three former executives of CannTrust Holdings Inc. are expected to appear in an Ontario court today as they face charges related to an unlicensed growing scandal. https://t.co/sI6SgKB1B2',\n",
              " 'Bitcoin soared on Monday to approach US$40,000, a rally some attributed to traders exiting bets on declines as well as ongoing speculation over https://t.co/0JW7tzgtyE Inc.’s potential involvement in the cryptocurrency sector. https://t.co/hrcIfzW36t',\n",
              " 'The world’s biggest mining companies are about to start revealing how much cash they’re churning out from this year’s commodity boom. Look out for record profits followed by eye-watering dividend payouts. https://t.co/ujJLUYdOq9',\n",
              " 'Oil headed for the first decline in five days as investors assessed the outlook for demand amid a resurgence in COVID-19 and as broader markets were on a softer footing. https://t.co/Cc9WmzHMmK',\n",
              " 'Stocks fell with U.S. futures on Monday at the start of a busy week of earnings and policy updates, with China’s widening technology crackdown weighing on risk sentiment. Treasuries rose. https://t.co/dYaso7z1mD',\n",
              " 'Air Canada is anticipating a recovery in demand in the coming months https://t.co/mtMcK7zD2o',\n",
              " 'The CEO of Cresco Labs says he expects that \"Big B\"-type of banking services would finally be available for companies if cannabis gets legalized in the U.S. https://t.co/oNWst3WP7f',\n",
              " 'Lumber futures rose the most in more than a year on concern that wildfires in western Canada will reduce supply and spur more curtailments at sawmills.  https://t.co/NrijDK09pm',\n",
              " 'BNN Bloomberg sets up the week ahead with what investors need to know https://t.co/QAFdnfsdCc',\n",
              " 'The head of CN Rail is urging investors to be patient for a potential return on their investment https://t.co/pFT7vkRtZF',\n",
              " 'Canadian May retail sales fell 2.1 per cent month over month versus estimated three per cent drop. https://t.co/e3JcoO4MOJ',\n",
              " 'In just a few weeks time, American tourists will officially be allowed back in Canada https://t.co/l4tsxW6Yu7',\n",
              " \"Banking analyst Nigel D’Souza doesn’t think investors are poised to reward Canada's Big Six banks https://t.co/X71GO0Xyhr\",\n",
              " '#OPINION: After decades during which employers usually held the upper hand, something feels different. https://t.co/QDmdd5Q7Ez',\n",
              " 'Preparedness\\xa0meets presence\\xa0meets private plane.  https://t.co/OdAwIcmGgX',\n",
              " '1 in 3 Canadians homebuyers said they are considering so-called “workarounds” in order to buy a home https://t.co/NR43akrPpb',\n",
              " 'There will be over 14 million square feet of vacant space in downtown Calgary by the end of 2021 https://t.co/f7si5CaV9z',\n",
              " 'Volvo’s CEO offered an unusually candid take on the chip shortage. https://t.co/b5bvB7Yg4L',\n",
              " 'Concerns about runaway inflation are overblown: David Rosenberg https://t.co/tDCdtNBhuh',\n",
              " '“I think the Liberals feel they may have a chance to have a smash and grab majority.\" https://t.co/pi1EjvvFYA',\n",
              " 'In just a few weeks time, American tourists will officially be allowed back in Canada https://t.co/HLsotasqKm',\n",
              " 'Shares of Westshore Terminals  soared in early trading Friday. https://t.co/sZZf3JiW92',\n",
              " \"Joe Natale has a clear message as he tries to stick-handle Rogers Communications' takeover of Shaw https://t.co/Vw0ajqRPWz\",\n",
              " 'TD and Great-West plan to issue inaugural limited recourse capital notes issues https://t.co/lRcQIQsoKE',\n",
              " '\"Now that Canadians are leaving their homes more often, demand for housing is cooling off after a period of historic strength.\" https://t.co/ounqwBcPkg',\n",
              " 'Funds managed by BlackRock Inc. and Canaccord Genuity Group Inc. are in advanced talks to buy Bridging Finance Inc., according to people familiar with the matter.  https://t.co/ikr0ngPIjm',\n",
              " 'BoC will allow most of its employees to work remotely as much as 50% of the time https://t.co/MQGjJ5tpmm',\n",
              " 'One energy fund manager thinks crude prices have a lot of runway – maybe even enough to top US$100 a barrel https://t.co/bVIZrBYDgZ',\n",
              " 'Canadian home prices increased in June to mark the largest 12-month gain on record https://t.co/wqCjP7BQE9',\n",
              " 'Farmers have had to take the rare measure of baling up their wheat and barley stems to sell as hay https://t.co/KaIlQ3ymuR',\n",
              " 'Travel prices are increasing to reflect higher demand https://t.co/HFKSo8Zn2P',\n",
              " 'This is year 25 of the great Canadian housing bull market, a nearly uninterrupted straight line up that has few parallels in the world. https://t.co/dXIYtV5RS2',\n",
              " \"This is not the same economy we left in 2020: Export Development Canada's Prusakowski  https://t.co/GsjiIlFwnQ\",\n",
              " 'The railroads still excite analysts after earnings releases underscore the challenges and potential for freight haulers https://t.co/ZwjTvr9Fyj',\n",
              " \"Democrats will have the votes to lift the U.S. debt ceiling: Signum Global Advisors' Charles Myers  https://t.co/0xsbuPihVo\",\n",
              " \"It’s like the peak of a party, markets can only go down from here: Stifel's chief equity strategist  https://t.co/Z9mwCub8QI\",\n",
              " 'Billionaire Peter Thiel and his Palantir Technologies Inc. co-founders fired back in Delaware on Friday at claims that their “class F” stock illegally made them the company’s “emperor for life.”  https://t.co/qHGSdMVj6r',\n",
              " 'On Monday at around 1 p.m. in New York, just as U.S. stocks were gripped by the worst trading session in months, Google searches for the “Dow Jones” spiked.  https://t.co/F9cdNnQukK',\n",
              " 'As pandemic lockdowns ease and the world slowly starts to reopen, many people are eager to take a vacation after being cooped up at home for months https://t.co/dERYsJnqgL',\n",
              " 'MEG Energy Corp. boosted its full-year production guidance after reporting $68 million in net profits in the second quarter https://t.co/a9ei9Lbu7V',\n",
              " \"Joe Natale has a clear message as he tries to stick-handle Rogers Communications' takeover of Shaw https://t.co/IsCjfp4L3b\",\n",
              " 'Fourteen-hour workdays followed by late-night dancing. Impromptu rooftop gatherings with colleagues. The interns are back https://t.co/oC9PlWWEmk',\n",
              " 'In just a few weeks time, American tourists will officially be allowed back in Canada https://t.co/Rt1j2YTelS',\n",
              " \"BNN Bloomberg's closing bell update: July 23, 2021 https://t.co/pMeHqp7HJA @greg_bonnell https://t.co/LzcZr9gJ7a\",\n",
              " 'Another raft of blockbuster corporate profits pushed stocks to a record https://t.co/KpKluq5KIz',\n",
              " 'Oil squeezed out its first weekly gain in three on signs that global demand is holding up https://t.co/sjz8iYv9P3',\n",
              " 'Swamy Kotagiri, CEO of Magna International, discusses the purchase of the Swedish driver-assistance supplier Veoneer https://t.co/woMnR5Tgm2',\n",
              " 'Top picks from Norman Levine, managing director at Portfolio Management Corp.  https://t.co/U6fShtE0sQ',\n",
              " 'Tom Barrack has reached an agreement that will allow him to be freed ahead of a trial https://t.co/E3PLt0YptX',\n",
              " '\"Now that Canadians are leaving their homes more often, demand for housing is cooling off after a period of historic strength.\" https://t.co/qDmTkwJcnL',\n",
              " 'The U.S. and Mexico failed to resolve a dispute over trade rules for cars threatening the goal of boosting regional manufacturing https://t.co/Ebh3KvyevB',\n",
              " 'How long can retail day traders be right about the value of Hertz’s stock and institutions be wrong? https://t.co/nJIqC2s1Cb',\n",
              " 'Honeywell profit tops estimates on aerospace, energy rebound  https://t.co/CmYuz5L6bv',\n",
              " \"#BREAKING: PricewaterhouseCoopers says it's not in advanced discussions for a sale of Bridging Finance. https://t.co/GOiFRp1tK0\",\n",
              " 'Shares of Westshore Terminals  soared in early trading Friday. https://t.co/qfjGtu9D9g',\n",
              " 'Unifor says it has reached a tentative deal with BCE Inc. https://t.co/SSqVJj7zud',\n",
              " 'Kimberly-Clark said inflationary pressures and slowing toilet paper demand and hurting its financial results https://t.co/gxM7pD6gm1',\n",
              " \"BNN Bloomberg's mid-morning market update: July 23, 2021\\nhttps://t.co/pMeHqp7HJA @JonErlichman https://t.co/gGToXBR7nG\",\n",
              " 'BoC will allow most of its employees to work remotely as much as 50% of the time https://t.co/Rr92nv1knQ',\n",
              " '#OPINION: After decades during which employers usually held the upper hand, something feels different. https://t.co/vcVoyYvYkr',\n",
              " 'BNN BLOOMBERG POLL: Who’s offer for Inter Pipeline do you think is more attractive?',\n",
              " '#BREAKING: Canadian May retail sales fell 2.1 per cent month over month versus estimated three per cent drop. https://t.co/OfTGO5i588',\n",
              " '“One platform alone can’t solve this problem. It requires an industrywide effort.” https://t.co/yqRdHm02cD',\n",
              " 'Preparedness\\xa0meets presence\\xa0meets private plane. https://t.co/0jyn5JktF8',\n",
              " 'Air Canada reported improving but still big losses in the second quarter as travel demand started to rise. https://t.co/nduW4DBw3j',\n",
              " 'Volvo’s CEO offered an unusually candid take on the chip shortage. https://t.co/eUPTrJ6Tq5',\n",
              " \"Canadian sports-betting firm FansUnite doesn't want your bets\\n\\nFrom @jefflagerquist \\n\\nhttps://t.co/0cDC3kNwYg\",\n",
              " 'Residential investment overtakes business in share of Canadian economy: CIBC\\n\\nFrom @jessysbains \\n\\nhttps://t.co/QMxDJeULOo',\n",
              " 'Fed to discuss a pullback in economic aid with inflation up\\n\\nhttps://t.co/b96veXytMW',\n",
              " 'Vaccine maker BioNTech to use mRNA tech to target malaria\\n\\nhttps://t.co/xYpMRb0X1L',\n",
              " 'Former CannTrust leaders to make first court appearance following fraud charges\\n\\nhttps://t.co/UnY6VyWCW4',\n",
              " 'Bitcoin surges near US$40,000 as shorts fuel rally on Amazon speculation\\n\\nhttps://t.co/5FKS7l6XSM',\n",
              " 'Canada retail sales seen rebounding in June after declining 2.1% in May\\n\\nhttps://t.co/XO1lXRAyMF',\n",
              " \"Air Canada 'turning a corner' as restrictions ease, bookings increase\\n\\nFrom @alicjawithaj \\n\\nhttps://t.co/0e0PADJSWW\",\n",
              " \"Facebook CEO Mark Zuckerberg 'starting to plant the seeds' to step down: author\\n\\nhttps://t.co/8IbXwWdIW1\",\n",
              " 'Pandemic-hit Canadian businesses call for eleventh-hour aid extension\\n\\nhttps://t.co/M3PM6N0ETo',\n",
              " 'Is Shopify a buy after topping $2,000 for a new all-time high?\\n\\nFrom @jessysbains \\n\\nhttps://t.co/yXSZmYAp37',\n",
              " \"TheScore's unpopular U.S. sports betting app could signal trouble in Canada\\n\\nFrom @jefflagerquist \\n\\nhttps://t.co/XKSpQdQ4JP\",\n",
              " 'Small business group launches petition to maintain government financial supports\\n\\nhttps://t.co/vLFMwuMskO',\n",
              " \"Here's how investors are trying to make money during high levels of inflation\\n\\nhttps://t.co/a8CnmlbDPM\",\n",
              " 'RT @jessysbains: Agreeing with Macklem on housing?!\\n \\n@JohnPasalis and @SteveSaretsky shared their thoughts on where they see GTA &amp; Vancouv…',\n",
              " \"Despite Canada's easing, U.S. adding 30 days to Canada, Mexico border restrictions\\n\\nhttps://t.co/P1vqA3SGCI\",\n",
              " \"Why Bombardier's stock is up 212% this year\\n\\nFrom @alicjawithaj \\n\\nhttps://t.co/TbU9Lw2REV\",\n",
              " 'Rogers earns $302 million in Q2 as Blue Jays help revenues increase 14%\\n\\nhttps://t.co/HZ4jIy8Zcb',\n",
              " 'COVID-19 vaccine might be required for some federal positions, Treasury Board says\\n\\nhttps://t.co/Ti6T1BAs30',\n",
              " \"Blue Origin's Bezos reaches space on first passenger flight\\n\\nhttps://t.co/osyT4mzrlo\",\n",
              " 'Canada to reopen border to fully vaccinated U.S. travellers from Aug. 9\\n\\nFrom @alicjawithaj \\n\\nhttps://t.co/jsEHJf8tr5',\n",
              " 'Canadian dollar gives back 2021 gains as risk appetite crumbles\\n\\nhttps://t.co/hOPMxuFzCa',\n",
              " 'Manufacturing beating pre-pandemic output, leading Canada out of recession: report\\n\\nhttps://t.co/rbDn0P5rVN',\n",
              " 'Robinhood seeks valuation of up to US$35 billion in mega U.S. IPO\\n\\nhttps://t.co/rA3TEivXsm',\n",
              " \"Zoom's massive US$14.7 billion deal for Five9 highlights record-setting year for M&amp;A\\n\\nhttps://t.co/Y4IRMj4UOI\",\n",
              " 'Bearish on bitcoin, bullish on oil: How Canadians plan to invest this summer\\n\\nFrom @jefflagerquist \\n\\nhttps://t.co/5p4O3JpkWI',\n",
              " 'Crypto insiders posit bitcoin price floor around US$30,000 level\\n\\nhttps://t.co/Gs2x7OZXkA',\n",
              " 'CMHC reports annual pace of housing starts in Canada slowed in June\\n\\nhttps://t.co/B7DqzYhFrQ',\n",
              " \"U.S. federal marijuana reform plan is a 'new beginning': Canopy Growth CEO\\n\\nhttps://t.co/I3iLwxSrcm\",\n",
              " \"Ontario won't make COVID-19 vaccination mandatory for any industry, Ford says\\n\\nhttps://t.co/mrIRET5Zus\",\n",
              " 'Canada to allow cruise ships back starting November 1\\n\\nFrom @alicjawithaj \\n\\nhttps://t.co/qP1TdtH6hN',\n",
              " \"RT @alicjawithaj: BREAKING: Canada's Transport Minister announces that cruise ships will be allowed in Canadian waters as of Nov. 1. Origin…\",\n",
              " \"'Slowly getting back to normal': Canada real estate sales cool for third straight month in June\\n\\nFrom @jessysbains \\n\\nhttps://t.co/E6J3mLktvy\",\n",
              " 'Brookfield Infrastructure raises hostile takeover offer for Inter Pipeline\\n\\nhttps://t.co/Sh2M24tM3N',\n",
              " 'RBC CEO David McKay hints at hybrid work model\\n\\nhttps://t.co/GGj1o6nfk2',\n",
              " \"RT @jefflagerquist: Somebody let me do a podcast with @Sean_Speer. Give'er a listen! \\n\\nImmigration will not solve our labour shortage probl…\",\n",
              " \"'You could lose everything' on meme stocks: Franklin Templeton CEO\\n\\nhttps://t.co/eouk3oyV3E\",\n",
              " 'Bank of Canada tapers massive stimulus program, says inflation is temporary\\n\\nFrom @jessysbains \\n\\nhttps://t.co/RykBzcDQR8',\n",
              " 'Bank of Canada cuts its expectations for economic growth this year as it keeps its key interest rate target on hold at 0.25 per cent. \\n\\nMore to come.',\n",
              " 'RT @jessysbains: BREAKING: Bank of Canada leaves the overnight rate unchanged\\n\\n“This is reinforced and supplemented by the Bank’s quantitat…',\n",
              " 'Most Canadian oil and gas workers fear for their jobs: poll\\n\\nFrom @jefflagerquist \\n\\nhttps://t.co/EUsg6ZIlvX',\n",
              " 'As Bank of Canada readies rate call, documents suggest Feds will watch closely\\n\\nhttps://t.co/GlXNcTAbar',\n",
              " \"'Affordability crisis continues to crush the dream of home ownership': OREA\\n\\nFrom @jessysbains \\n\\nhttps://t.co/VVArtjNLId\",\n",
              " 'Ottawa should prioritize spending on green energy over oil and gas: poll\\n\\nFrom @jefflagerquist \\n\\nhttps://t.co/iXlE0incYx',\n",
              " 'Brookfield says it may sweeten pipeline bid after Alberta ruling\\n\\nhttps://t.co/Q3IXjc60m8',\n",
              " 'Retirement levels in Canada expected to surge after pandemic-era slump: RBC report\\n\\nhttps://t.co/qD6vtJo7fE',\n",
              " 'Porter Airlines places order for up to 80 new jets, to fly out of Pearson for the first time\\n\\nFrom @alicjawithaj \\n\\nhttps://t.co/THBhSY26ye',\n",
              " \"Ontario movie theatres facing 'unreasonable' reopening restrictions: industry group\\n\\nhttps://t.co/uJBBpClSbw\",\n",
              " 'Carolyn Rogers named new senior deputy at Bank of Canada\\n\\nhttps://t.co/z2zc0TQUKT',\n",
              " 'RT @jessysbains: BREAKING: Canada added 231,000 jobs in June, for the biggest gain since March. \\n\\nGains driven entirely by part-time work.…',\n",
              " \"Kansas City Southern shareholders to vote on CN's US$33.6-billion offer on Aug. 19\\n\\nhttps://t.co/No1ticqSNe\",\n",
              " 'Strong TSX run not a signal of impending correction, say experts\\n\\nhttps://t.co/eyb8eSlRB9',\n",
              " 'Discount carrier Flair Airlines expanding into United States this fall\\n\\nhttps://t.co/T04VX3drpE',\n",
              " \"U.S. pot stocks may double in 'generational wealth opportunity': analyst\\n\\nFrom @jefflagerquist \\n\\nhttps://t.co/M0uX1HWjwL\",\n",
              " 'Plenty of room for house prices in Canada to rise as interest rates stay low\\n\\nhttps://t.co/CGj1603KYl',\n",
              " 'CIBC joins new blockchain-based carbon offset market\\n\\nFrom @jefflagerquist \\n\\nhttps://t.co/ltVjjkJFKz',\n",
              " \"Cryptocurrency could buy you a 101-carat diamond at Sotheby's\\n\\nhttps://t.co/9YHD7P3ycy\",\n",
              " \"'Carpocalypse' comes to Canada as vehicle shortage hits car rental industry\\n\\nhttps://t.co/txe2kGYK9T\",\n",
              " \"'New price records less likely': Sales slow in Canada's biggest real estate markets\\n\\nFrom @jessysbains \\n\\nhttps://t.co/BBey1ND0ui\",\n",
              " 'Oil nears three-year high after OPEC fireworks\\n\\nhttps://t.co/1G5NfH3uUV',\n",
              " 'RT @jessysbains: CMHC changes its mind on insured mortgages: \\n\\n\"We are taking this action because our July 2020 underwriting changes were n…',\n",
              " 'The lowest variable-rate mortgage in Canadian history is here\\n\\nFrom @jessysbains \\n\\nhttps://t.co/NWM5RUzkXc',\n",
              " 'Porter Airlines plans to restart flying in September, will recall 500 employees\\n\\nhttps://t.co/IX8VLAkFph',\n",
              " 'Hiring intentions hit all-time high in Bank of Canada business outlook survey\\n\\nhttps://t.co/L6ku7w9IbF',\n",
              " 'Apollo weighs offer for Morrison, heating up takeover battle\\n\\nhttps://t.co/PaMe6CxyjG',\n",
              " 'Air Canada seeks dismissal of US$25.6 million fine from U.S. over unpaid refunds\\n\\nhttps://t.co/PtkS10e5Ls',\n",
              " 'Employers to hire more contract workers as economy emerges from pandemic: poll\\n\\nhttps://t.co/jgczditFDm',\n",
              " 'COVID Delta variant worries bubble to the surface in some asset prices\\n\\nhttps://t.co/DrCggUV10m',\n",
              " 'Pump prices expected to continue climb as oilpatch eyes better days ahead\\n\\nhttps://t.co/nT4OEPRFZB',\n",
              " 'RT @jessysbains: Is the obsession with real estate ending as COVID restrictions ease?\\n\\n@JohnPasalis and @SteveSaretsky tell us where market…',\n",
              " 'Ottawa expands Canada Workers Benefit to a million more people\\n\\nFrom @jessysbains \\n\\nhttps://t.co/c1A6zVq1lg',\n",
              " 'Rapid growth of Ontario cannabis stores will likely result in some closures: OCS\\n\\nhttps://t.co/0hkyzInmlj',\n",
              " 'How points and miles credit cards can ease return to travel\\n\\nhttps://t.co/J11YAO1x2f',\n",
              " 'Canada GDP: Economy contracts 0.3% in April amid COVID-19 lockdowns\\n\\nFrom @jessysbains \\n\\nhttps://t.co/A01ZPCnfD0',\n",
              " 'Canadian flight bookings among lowest levels in the world: report\\n\\nFrom @alicjawithaj \\n\\nhttps://t.co/UDaIBW9xmD',\n",
              " 'Buy local, or say bye to local: Ottawa boosts funding for shop-local initiatives\\n\\nFrom @alicjawithaj \\n\\nhttps://t.co/TVH7dEteF3',\n",
              " 'Younger Canadians are dropping their financial advisers in favour of DIY investing\\n\\nhttps://t.co/9u3SEDSHi6',\n",
              " 'United goes all-in on premium passengers with 270 jets, upgrade\\n\\nhttps://t.co/P9FqtERv2u',\n",
              " \"Passenger traffic taking off at Atlantic Canada's airports after COVID-19 slump\\n\\nhttps://t.co/qMTr5apM6C\",\n",
              " 'Canadian commercial real estate pointing to post-pandemic economic upswing: CBRE\\n\\nhttps://t.co/oh3SFDUi9G',\n",
              " 'Canadian aero suppliers face labour crunch as travel rebounds\\n\\nhttps://t.co/LHOpncqSdA',\n",
              " 'How Canadians feel about the economy and their own pocketbooks\\n\\nFrom @jessysbains \\n\\nhttps://t.co/qa3Yg7T3Eo',\n",
              " 'Travel company Sunwing reaches deal to pay refunds to more customers\\n\\nhttps://t.co/3Ms515sKtH',\n",
              " \"Crypto billionaire Bankman-Fried explains what's next for bitcoin\\n\\nhttps://t.co/YIqIa5YBSI\",\n",
              " 'BlackBerry posts Q1 loss of $62M; revenue comes in at $174M\\n\\nhttps://t.co/miZCj7sMVY',\n",
              " \"How this Canadian city became North America's third least affordable real estate market\\n\\nFrom @jessysbains \\n\\nhttps://t.co/tZjgljQTFA\",\n",
              " 'Canada Goose to stop using fur in its products\\n\\nFrom @alicjawithaj \\n\\nhttps://t.co/QaaUwqJ19k',\n",
              " 'RT @jessysbains: Thinking of moving to the U.S., Canadians? @REWoman says you’re not alone.\\n \\n@robmclister breaks down mortgage differences…',\n",
              " 'Ontario to enter Step 2 of reopening plan on June 30\\n\\nhttps://t.co/k9xvdn3554',\n",
              " 'What Canadians need to know about moving to the U.S. for more affordable real estate\\n\\nFrom @jessysbains \\n\\nhttps://t.co/5ixqq8bzQP',\n",
              " 'Ontario may move into Step 2 of reopening plan earlier than planned: Ford\\n\\nhttps://t.co/ZY1S5zIJCO',\n",
              " 'Empire pays $9M lockdown bonuses, sales dip compared with early pandemic stockpiling\\n\\nhttps://t.co/y4gwognAzx',\n",
              " \"Retail sales fell 5.7% in April amid pandemic's third wave: StatsCan\\n\\nhttps://t.co/5q7HOSqiXu\",\n",
              " \"Amazon to invest in Canada's largest solar farm in race for sustainability\\n\\nFrom @jefflagerquist \\n\\nhttps://t.co/6vF4RX7WMt\",\n",
              " 'Single-sports betting heads for legalization as Bill C-218 clears Senate\\n\\nFrom @jefflagerquist \\n\\nhttps://t.co/ujnniUQ5mH',\n",
              " 'RT @jefflagerquist: Want to see what all this CannTrust fuss is about?\\n\\nCheck out this video that the chief whistleblower sent me back in N…',\n",
              " 'Bitcoin, dogecoin tumble as young Canadians jump into cryptocurrencies\\n\\nFrom @jessysbains \\n\\nhttps://t.co/cjaA3Vi77d',\n",
              " \"CannTrust's former CEO, 2 executives face jail time in fraud case\\n\\nFrom @jefflagerquist \\n\\nhttps://t.co/HLCN1LncoI\",\n",
              " 'Canada has seen jump in insider trading, misconduct since pandemic start: regulator\\n\\nhttps://t.co/k6Aohcm2Da',\n",
              " 'Hotel, restaurant, travel, and movie industries show strong reopening: TD report\\n\\nhttps://t.co/EVJbmJSdZK',\n",
              " 'Canadian bank stocks are no slouches in terms of returns over the last decade. But alternative lender Goeasy ltd (TSE:GSY) has produced tenfold the returns. https://t.co/mwqJCVsBs0',\n",
              " \"I spend thousands of dollars a year on things I enjoy. \\n\\nCould I invest that money and ultimately retire earlier? Absolutely\\n\\nDo I care? Absolutely not\\n\\nLive your life. Spend within your means, but don't pinch every penny you can preparing for days that are by no means guaranteed\",\n",
              " '7 Small-Cap Canadian #Stocks To Buy In July 2021 https://t.co/v8w8FP9d5r #investing #money #trading #stockmarket #finance #tsx #investments #stockstowatch',\n",
              " 'How can investors take advantage of Canadian AI stocks? https://t.co/Qd3ysqac6E',\n",
              " \"If you're looking at a pipeline companies dividend, whether it be Enbridge, Keyera, TC Energy, or Pembina Pipeline in terms of earnings or even free cash flow, you're doing it wrong. https://t.co/21mFtJ95b8\",\n",
              " 'Best Canadian Tech #Stocks to Look at in July 2021 https://t.co/s4HGOl7iz2 #investing #money #trading #stockmarket #finance #tsx #investments #stockstowatch',\n",
              " 'One way to look at investing in AI, is to look for companies that are helping others transform their businesses through the use of AI. https://t.co/Qd3ysqac6E',\n",
              " 'How can investors take advantage of Canadian AI stocks? https://t.co/Qd3ysqac6E',\n",
              " 'Canada’s Best Monthly Dividend #Stocks and REITs in July 2021 https://t.co/KMLiQCfxgW #investing #money #trading #stockmarket #finance #tsx #investments #stockstowatch',\n",
              " '10 Top Canadian Dividend #Stocks to Buy in July 2021 https://t.co/oa3IP3ZHJK #investing #money #trading #stockmarket #finance #tsx #investments #stockstowatch',\n",
              " 'There are investors buying #stocks who’s number one concern is which month they pay the dividend so that they can receive income every month. If you’re looking at the month a company pays a dividend before the underlying company itself, you’re likely to run into trouble one day',\n",
              " 'Best Renewable Energy #Stocks – Clean Energy Stocks July 2021 https://t.co/4YgxRS6Ted #investing #money #trading #stockmarket #finance #tsx #investments #stockstowatch',\n",
              " \"@MelCowznofski @TheDividendGuy Touching all time highs, I'm up 23% YTD. Life is good 😎\",\n",
              " '@wheatie4 @StockJabber @GRDecter @Tawcan Thank you 😁😁',\n",
              " '10 Top Canadian Dividend #Stocks to Buy in July 2021 https://t.co/oa3IP3ZHJK #investing #money #trading #stockmarket #finance #tsx #investments #stockstowatch',\n",
              " 'Best Canadian Tech #Stocks to Look at in July 2021 https://t.co/s4HGOl7iz2 #investing #money #trading #stockmarket #finance #tsx #investments #stockstowatch',\n",
              " 'Best Renewable Energy #Stocks – Clean Energy Stocks July 2021 https://t.co/4YgxRS6Ted #investing #money #trading #stockmarket #finance #tsx #investments #stockstowatch',\n",
              " 'RT @CashflowsPortfo: 3 Ways to Prepare for the Coming Stock Market Correction - It Will Happen Again! @67Dodge @FrugalTrader @Tawcan @genym…',\n",
              " 'Canada’s Best Monthly Dividend #Stocks and REITs in July 2021 https://t.co/KMLiQCfxgW #investing #money #trading #stockmarket #finance #tsx #investments #stockstowatch',\n",
              " \"@genymoneyca @thenelsonsmith Especially when they consistently count down the remaining amounts they have left. You just know they aren't selling any copies 😂\",\n",
              " '@thenelsonsmith There’s wayyyyy too many that constantly tweet about the game changing opportunity we have been given due to the market falling 1.2% to ever include them all in a single DM. Seems to me like all you need to do to have a 5 figure following is just say buy the dip 😅',\n",
              " 'Top Canadian 5G #Stocks to Be Looking at in July 2021 https://t.co/4O1sapzm8t #investing #money #trading #stockmarket #finance #tsx #investments #stockstowatch',\n",
              " \"@MaggieYeg Yeah I mean that could go either way. If they get a goalie and run with Nurse and Keith as your 2 best defenseman, it doesn't matter who you have in net. Lol\",\n",
              " '#Oilers starting off their 4 year window miraculously by having pretty much two serviceable defensemen with any sort of NHL experience on the entire roster. My lord do they need to do something on the back end this offseason.',\n",
              " \"If you're looking for some of the top Canadian bank stocks, have a read of this article https://t.co/dRkZ4nvmn0\",\n",
              " \"@BoomerandEcho Ha! I was down 95% on Ovintiv, and I sold it in the green recently. I've got a lot of conviction in most of my growth plays which are typically the ones who take huge haircuts (30-50%), but I could cover up the stock prices for half a decade and I wouldn't care.\",\n",
              " \"@BoomerandEcho Should be treated like any other holding IMO. I own a 5%~ allocation in #bitcoin and play  to keep it around that level. I've been underwater 50% on plenty of equities. Some end up being my biggest winners 😁\",\n",
              " '@BoomerandEcho Lost*',\n",
              " '@BoomerandEcho Near certainty yes haha. But, the main point I was trying to make is the risk for ruin with any company is still there. SNC was a staple in many portfolios, considered a blue chip because of its government work. Lots people fortunes with the scandal.',\n",
              " '10 of the Best Canadian #Stocks to Buy in July &amp; Hold Forever https://t.co/bKLNtcEp94 #investing #money #trading #stockmarket #finance #tsx #investments #stockstowatch',\n",
              " \"@AVibrantDreamer This is exactly why people are stumped when they figure out their REITs aren't eligible for the dividend tax credit and are taxed as normal income. It's because they don't pay a dividend. Lol\",\n",
              " \"@AVibrantDreamer Yeah I mean in a tax sheltered account, it shouldn't matter. But in a taxable situation, you need to know what you're getting paid. An ETF's distribution can be made up of ROC, capital gains, eligible and ineligible dividends, interest income. All are taxed differently.\",\n",
              " 'Alarming the amount of investors who do not understand the difference between a distribution and a dividend. Situationally, can be a pretty big deal. An ETF or REITs distribution does not necessarily mean the dividends its paying. Look up the distribution makeup prior to buying.',\n",
              " \"@TheDividendGuy Ha! You are correct on the cheering/bashing ratio. But, I'm fairly certain we will see #Bitcoin back to previous highs. And just speaking on the one I highlighted $SNC, still a lonnngg ways from highs. Still 50%~ off the mark. But I do agree for the most part with you there.\",\n",
              " 'Bombardier anyone? 63%~ gone in under 6 months. Couple of pretty prominent Canadian companies considered to be blue-chips. https://t.co/dNx7N0k4Qc',\n",
              " \"For those bashing #cryptocurrency, just know that I've watched plenty of #stocks drop just as quick. Overall yes, you're probably safer in equities, but don't act like a complete collapse can't happen. Look no further than the SNC scandal, losing 73.5% in 14 months https://t.co/uyrKhZvlup\",\n",
              " '@labourtoleisure Well the issue is, how do you know? Looks great today. But what if the market went down by 8-10% over the remainder of July. Then it looks dumb 😂. People obsess too much about buying a stock cheaper.',\n",
              " 'Today is a prime example of how you will lose more money attempting to time market dips than you ever will earn. Buy strong companies, hold them for the long term. The price action of a stock over the course of 6 months or even a year does not determine a successful investment.',\n",
              " '10 of the Best Canadian #Stocks to Buy in July &amp; Hold Forever https://t.co/bKLNtcEp94 #investing #money #trading #stockmarket #finance #tsx #investments #stockstowatch',\n",
              " 'RT @myownadvisor: How we invest our money – https://t.co/2nmAbp0i89 @myownadvisor with @StockTrades_CA and @matlitalien \\n\\nhttps://t.co/e8Jo…',\n",
              " 'Governments around the world are establishing lofty hydrogen strategies, viewing hydrogen as a key resource to play a big part in combating climate change. https://t.co/HQcjflyfpM',\n",
              " 'I love it when people search for stock feature images for an investing post, and end up using a Google Analytics image 😂 https://t.co/tVeNdaLJH2',\n",
              " 'Investor in cash since March: \"This is what I\\'ve been waiting for suckas. Told you!\"\\n\\nProceeds to buy at last weeks prices 😂 https://t.co/zUu101T30W',\n",
              " \"@BoomerandEcho @TheDividendGuy Absolutely. So much money is lost in waiting for the dip. And then people will toss cash at the first sight of red (like a 3% drop from all time highs) and the markets will continue to fall. I'm not sure I've ever had idle cash in my accounts for more than a month.\",\n",
              " '@TheDividendGuy 😂 It\\'s honestly unbearable. Some \"gurus\" with pretty sizable followings saying this is why you need deployable cash, to buy the dip. What dip? Like we\\'re 3% off all time highs.',\n",
              " \"Twitter becomes almost unbearable when the markets are like this. In case many haven't noticed, we're still in double digit return territory in 2021 for the #SP500 #DOW #TSX and #NASDAQ. These are returns most should be stoked about over the course of the year, let alone 6 months https://t.co/eFCvtG8syX\",\n",
              " 'As part of its strategy, Canada believes that hydrogen can account for 30% of domestic end-of-use energy by 2050. https://t.co/HQcjflyfpM',\n",
              " 'RT @awealthofcs: The S&amp;P 500 is 3% off all-time highs and FinTwit is already getting ready to dust off their Buffett, Mike Tyson and Aristo…',\n",
              " \"@BoomerandEcho The Jetsons missed the mark on that one. I'm guessing we may be waiting a while for the briefcase/flying car combo unit.\",\n",
              " \"@BoomerandEcho I'd be on the other side of this bet as well. But, if someone were to have told me in the mid 1990's the technological advancements we'd make over the next 25 years, I'd tell them they were crazy as well 😂\",\n",
              " 'Canadian Gold #Stocks – Top #TSX Gold Stocks In July https://t.co/1HFpdIh0ha #investing #money #trading #stockmarket #finance #investments #stockstowatch',\n",
              " 'There is no question that going to the cinema is not as popular as it once was. In fact, ticket sales have been shrinking for quite some time now, and in 2017 they hit a multi-decade low. https://t.co/HDReuPyY5T',\n",
              " 'Latest video covering the misconceptions of gold and inflation, along with 5 gold #stocks that could provide strong returns\\n\\nhttps://t.co/FxPlzcqyEh',\n",
              " '6 Canadian Penny #Stocks That May Take off in July 2021 https://t.co/rIJQ7R5yQ2 #investing #money #trading #stockmarket #finance #tsx #investments #stockstowatch',\n",
              " \"If you don't already know, the trio of the Big 3 telecoms here in Canada, Rogers being the outlier not included in this article, hold over 92% of the market share in Canada. https://t.co/Q07R6j5c2f\",\n",
              " 'Canadian REITs for July 2021 – 7 of the Top REITs in Canada https://t.co/ALuFsnoRG2 #investing #money #trading #stockmarket #stocks #finance #tsx #investments #stockstowatch',\n",
              " 'We revamped our how to buy #stocks guide, and oh boy is it packed with a ton of information. Have a read https://t.co/KAUmLD8XPG',\n",
              " 'In order for the company to survive, Cineplex went through a period of significant cash burn. As a result, its balance sheet has deteriorated. https://t.co/HDReuPyY5T',\n",
              " 'There is no question that going to the cinema is not as popular as it once was. In fact, ticket sales have been shrinking for quite some time now, and in 2017 they hit a multi-decade low. https://t.co/HDReuPyY5T',\n",
              " 'Canadian REITs for July 2021 – 7 of the Top REITs in Canada https://t.co/ALuFsnoRG2 #investing #money #trading #stockmarket #stocks #finance #tsx #investments #stockstowatch',\n",
              " \"Choosing between the top Canadian telecom stocks is often a difficult endeavor. For most investors it doesn't make sense to own multiple, as you're simply gaining exposure to the same market. https://t.co/Q07R6j5c2f\",\n",
              " '@OptionalWork @67Dodge @HennigarRd @myownadvisor @matlitalien @JonChevreau Companies that consume cash will struggle in an inflationary environment. Companies that generate cash will survive. Commodity based companies tend to do well. Companies sensitive to interest rates (telecom, utilities, high debt) will struggle as well. Overall it depends haha',\n",
              " '6 Canadian Penny #Stocks That May Take off in July 2021 https://t.co/rIJQ7R5yQ2 #investing #money #trading #stockmarket #finance #tsx #investments #stockstowatch',\n",
              " 'Great read for those looking to understand our goals here at Stocktrades! https://t.co/spV3evJX6d',\n",
              " \"@TheDividendGuy Definitely no hype with this one. Telehealth isn't going anywhere. And they've got one of the richest men in the world backing them.\",\n",
              " \"@thenelsonsmith 😅. I didn't nibble back then. I took a whole bite. I have since sold primarily because I own $PKI and don't see much use holding both. But you don't get a discount on a big blue chip like that very often.\",\n",
              " '@TheDividendGuy Grab $WELL. Or do you NEED the dividends 😁😁',\n",
              " 'Now that second quarterly results have been announced, let’s look back and see which of Canada’s Big Six banks was this quarter’s winner, and which lagged its peers. https://t.co/zVPH6I6fj1',\n",
              " \"Looking to weed out poor #stocks and pick from the best? We've got 9 of the best #stocks screeners in Canada for the #TSX here https://t.co/Z5rD607nEt\",\n",
              " 'Canadian Dividend Aristocrats List – July 2021 https://t.co/C2Br34Lqoj #investing #money #trading #stockmarket #stocks #finance #tsx #investments #stockstowatch',\n",
              " \"It is alarming the amount of investors who buy/sell calls and puts, and learn what they are after the fact. It's one thing to do this with stocks. Do it with derivatives and you can end up losing a TON of money.\",\n",
              " \"If you're looking how to buy #stocks, this is by far the best guide on the internet https://t.co/KAUmLD8XPG\",\n",
              " 'RT @awealthofcs: 2021 year to date performance numbers:\\n\\nS&amp;P 500 +18%\\n\\nSmall caps +13%\\n\\nBitcoin +12%\\n\\nBonds -1%\\n\\nGold -4%\\n\\nA 2002 Toyota Co…',\n",
              " \"@rocco_matteo I did end up selling a bit this morning! I've still got a very healthy chunk (7% of overall portfolio) into $TFII. Whenever I think max value has been extracted from this company, continues to perform well.\",\n",
              " 'My two biggest pandemic purchases, $LSPD and $TFII continuing to absolutely crush it. I may actually have to balance TFI this morning for the third time off great news 😂 https://t.co/5gJvEAokAa',\n",
              " 'Looking to make smarter #investing decisions? You likely need a Canadian stock screener. We have 9 of the best #stock screeners in Canada here https://t.co/Z5rD607nEt',\n",
              " 'The fact that Royal Bank\\xa0could do this is huge. It shows the strength of the company and the bullish forward outlook for Canadian banks and financial institutions in general. https://t.co/Bio1TJ6nt5',\n",
              " \"Isn't it beautiful when the market realizes how wrong it was about a company, but you knew this months before? Well, Premium members did at least 😁. $FOOD (I'm long) https://t.co/aklIIcwr1s\",\n",
              " '4 REIT ETFs You Need To Be Looking At In July 2021 https://t.co/qPrWdikcGU #investing #money #trading #stockmarket #stocks #finance #tsx #investments #stockstowatch',\n",
              " 'Does the Canadian retail giant still provide value today despite touching all time highs, or should you be avoiding it? https://t.co/q6uHpeApQa',\n",
              " \"@adamobrien_ @BridgieCasey Yeah I mean, even if the industry collapsed (which won't happen) there's a little thing called diversification. Tends to reduce risk, and also will help with the sleeping problem.\",\n",
              " \"@BridgieCasey Thing is nobody does, and I'm not joking haha. Just a bunch of businesses mashed in together. At one point, was trading at 1600x sales. It's now lost 81%.\",\n",
              " \"This is probably the worst trade the Oilers have made since I started watching in the late 1990's. It's much worse than the Hall/Larsson swap. https://t.co/NCNVEHPmz9\",\n",
              " '@adamobrien_ @BridgieCasey Yeah, I definitely hate 20%+ annual returns. https://t.co/yiujx1m8Zc',\n",
              " \"@BridgieCasey Facedrive. It's the dip that keeps on dippin.\",\n",
              " \"You'd be hard pressed to find an industry harder hit by the COVID-19 pandemic than Canadian airline companies. In fact, some required government bailouts in order to pay refunds. https://t.co/kmf2JDhw7i\",\n",
              " \"@TheDividendGuy I've literally never had a set budget in my life😂. It's absolutely crazy we have to be telling people to spend less than they make. But, it's the reality of our society. I know some people who live a $200k a year lifestyle making $40 an hour. It's going to catch up quickly.\",\n",
              " '4 REIT ETFs You Need To Be Looking At In July 2021 https://t.co/qPrWdikcGU #investing #money #trading #stockmarket #stocks #finance #tsx #investments #stockstowatch',\n",
              " \"@labourtoleisure I know this is getting nit-picky but technically, the $1 under your mattress is still worth $1 😂. It's just that $1 doesn't get you as far.\",\n",
              " 'Should those with a higher risk profile take another look at Canada’s smaller banks? Let’s explore the idea. https://t.co/EttCKqr1Go',\n",
              " 'RT @myownadvisor: #weekendvibes Reading – Death by PowerPoint, Bond #ETFs, RESPs and more #moneystuff @myownadvisor with contributions from…',\n",
              " \"Many doubted Canadian financial companies, whether they be Big Banks or major insurers over the course of the pandemic. However, much like 2008, they've proven everyone wrong. https://t.co/Bio1TJ6nt5\",\n",
              " 'It would be tough to find a stock in the retail sector that was hit as hard as Canada Goose (TSE:GOOS) due to the COVID-19 pandemic. https://t.co/UdOa0csEIr',\n",
              " '4 REIT ETFs You Need To Be Looking At In July 2021 https://t.co/qPrWdikcGU #investing #money #trading #stockmarket #stocks #finance #tsx #investments #stockstowatch',\n",
              " 'Canadian Dividend All-Stars – Week of June 14 https://t.co/0ad3OD6ggm #investing #money #trading #stockmarket #stocks #finance #tsx #investments #stockstowatch',\n",
              " '@cabbagetownkidd That is legitimately exactly what it says in the article. Thanks for reading it.',\n",
              " '@cabbagetownkidd Did you even read the article? Might be a good idea to do so 👍 it’s an article that is about as bullish as it gets for CTC',\n",
              " \"Lets take a look at Canada's most popular casino stocks, Great Canadian Gaming Corp (TSE:GC), and Gamehost Inc (TSE:GH) to see if you should be adding or avoiding today. https://t.co/DQsnSnU8WK\",\n",
              " \"@matlitalien @myownadvisor @1uponbaystreet I'll ask. But, don't get your hopes up. Lol\",\n",
              " 'Canada’s banks have had a nice run in 2021 and all of the Big Six Banks are currently sitting on double-digit gains. Does that mean they have run their course? Not necessarily. https://t.co/F8RNqO7Fc6',\n",
              " 'Managing your personal finances on a smartphone? It’s addictive\\nhttps://t.co/tQ2ps8amx0',\n",
              " 'What companies have you tried to call lately and been put on hold for ages? Names, wait times appreciated.',\n",
              " 'Even if prices fall, the era of affordable houses in Canada seems to be done\\nhttps://t.co/2haT9QqNLQ',\n",
              " 'The most honest take on home ownership ever: \"The endless fear of hearing a strange noise.\"\\nhttps://t.co/F3nWKUYK5d',\n",
              " '@EvanHernder https://t.co/ZPXFZs1NnQ',\n",
              " '@JasonR15812246 Comparably disappointing NHL teams, though.',\n",
              " \"I'm struck by the number of new financial apps and products that are too vague about what they do. What, in one short sentence do you offer? Has to be front and centre.\",\n",
              " 'I found this a helpful summary of the housing situation after a week of vacation.\\nhttps://t.co/0b0R2GGAMK https://t.co/O3MZ6PQ6ta',\n",
              " 'For all the talk about rates, returns for savers are still falling. Cdn Tire Bank was at 1.55% previously.\\nhttps://t.co/OSDixIazLB https://t.co/Mzhg2TjhNG',\n",
              " 'This housing market. Sales fall, prices rise? https://t.co/bsKbfHjLni',\n",
              " 'Bright lights, cheap housing: Why you should check out Calgary if you can’t afford a house in Ontario\\nhttps://t.co/eaVe3TURYH',\n",
              " \"Everyone's talking about inflation - here's something we can do about it. Help keep track of price increases using the hashtag\\n#inflationalert\\nhttps://t.co/9KmaEPwGnY\",\n",
              " 'Some perspective on housing \"slowing down.\"\\nhttps://t.co/CNccx9SCE1 https://t.co/gYxxLS0SvW',\n",
              " '@IsThatSoh_ Hey, send me a link so I can read your post.',\n",
              " '@DCHomeMortgages How has the $$ amount of parental help changed over that period?',\n",
              " 'A retired reader asks: What is a reasonable long-term return expectation for a portfolio with 80% exposure to bonds and 20% in stocks? Thoughts?',\n",
              " 'How much parental money is in the mix for home DPs in Ontario and B.C.? https://t.co/NxHnBLGI5g',\n",
              " 'A financial shock is coming for those who jumped into the housing market during the COVID-19 pandemic\\nhttps://t.co/kT277ZyTxS',\n",
              " '@RazzberryYams @rCanadaHousing Could not agree more. If I see one more \"luxury rental\" building go up...',\n",
              " 'Anger about soaring house prices could influence Canadian politics, civility between generations and even mental health\\nhttps://t.co/KG7z4lNJi1',\n",
              " 'The real problem with your spending on coffee.\\nhttps://t.co/9R51KbsI7u',\n",
              " 'What do you think - is it rude to ask someone how much money they make? https://t.co/ylzKcWBqFx',\n",
              " \"@canali01 ZPW not comparable to EQ. If you want zero-stress, zero-risk (within deposit insurance limits), it's EQ.\",\n",
              " 'The latest from Stress Test, our PF podcast for Gen Y and millennials: How to handle the high cost of daycare.\\nhttps://t.co/yQTYfX1iIh',\n",
              " 'Money-saving tips for the travel-hungry. Thanks to @barrychoi.\\nhttps://t.co/GWrGLzvWDW',\n",
              " 'Canada Pension Plan not paying full benefits to recent retirees due to systems delay.\\nhttps://t.co/iBapjs8sg8',\n",
              " 'RT @behaviorgap: Clients don’t tell you this in meetings, but they tell me all the time…\\n\\nThe single most requested thing I get from the pe…',\n",
              " '@MrBBeard Tell me more about that wow - what struck you?',\n",
              " \"@trevor_cole I have not found that with EQ's website. But I do find it slow-loading, and $$ transfers to and from other banks take a while.\",\n",
              " '@MrBBeard I obviously wrote this update a year early.\\nhttps://t.co/iNpMHCcsEr',\n",
              " 'Asking for a reader: Anyone know of a detailed guide on how to most efficiently withdraw money from an RESP?',\n",
              " 'Pre-teens getting money for a house down payment\\nhttps://t.co/LFAa7EMowV',\n",
              " 'No house? No problem. Build wealth as a renter with this aggressive investment portfolio\\nhttps://t.co/QuLnGrQ72K',\n",
              " 'Anyone feeling this? Anyone?\\n\\nhttps://t.co/OrJ0no39cy https://t.co/cZVpLN5Aem',\n",
              " 'Rising inflation shows how you can lose money in safe havens like savings accounts and GICs\\nhttps://t.co/tGYnDYPl0v',\n",
              " '@GallomirGirl Thx for the heads up. I wonder how many landlords have met a Bad Sara.',\n",
              " 'Cancel the Roaring Twenties: Skip the post-COVID spendfest and use your savings for retirement instead\\nhttps://t.co/TO8tXXja3i',\n",
              " 'Smaller cities were an escape valve for buyers priced out of urban centres. Now, not as much.\\nhttps://t.co/qVpK8CWpkU https://t.co/DMnXkaUT5R',\n",
              " 'Meet a millennial who is taking a pass on home ownership.\\nhttps://t.co/M4hX2JfOY5',\n",
              " '@MoniqueSmithPR Thanks, that is great input.',\n",
              " 'The best credit cards for millennials, Gen Z and all foodies\\nhttps://t.co/WJTdlwZWPX',\n",
              " '@MoniqueSmithPR Living below your means is having total spending less than total income, leaving money for saving.',\n",
              " 'The most important rule of personal finance is...\\nhttps://t.co/i0F1Q6PZw4 https://t.co/u7iIHmkVSk',\n",
              " '@jason_kirby Hey, welcome.',\n",
              " 'Renters, here are seven financial advantages over homeowners https://t.co/p3G4zUy7rN',\n",
              " 'How the pandemic renovation boom will raise your home insurance premiums again\\nhttps://t.co/KzMMGXTdm7',\n",
              " 'Young adults and housing: ‘It’s more despair than anger,’ says @BridgieCasey\\nhttps://t.co/pRxz75HfUB',\n",
              " 'These moves can cut your ETF commissions from hundreds of dollars a year to zero\\nhttps://t.co/FnputP0yP5',\n",
              " '@iamKokoD Kept that house for two years. Moved to Ottawa for work, and now Ottawa is home.',\n",
              " 'A retired financial planner’s advice to a family: ‘Live it up a bit now’\\nhttps://t.co/5XltiOTLCb',\n",
              " \"EQ Bank has launched a U.S.-dollar savings account paying 1% interest. They're claiming better forex rates than the big banks. https://t.co/zr6ksmLc8W\",\n",
              " 'A reader tells me he is investing in a tail hedge fund - no payouts unless markets crash like March 2020 or 2008-09. Thoughts?',\n",
              " 'Today is a day of boomer parents sending e-mails that drop a reference to adult kids who will never afford a house.\\nhttps://t.co/hE0Zg3nmew',\n",
              " '@Starboardnav @the_ref14 This may help shed some light.\\nhttps://t.co/JLtIoi13qV',\n",
              " '2021 vs. 1992: I couldn’t afford my Toronto house if I had to buy in Canada’s current real estate market\\nhttps://t.co/hE0Zg3nmew',\n",
              " 'A lot of people feel uncomfortable negotiating with their boss for more money. But if you don’t ask, you won’t get it. In the latest ep of the #StressTest podcast, @RomaLuciw and I look at how to ask for a raise. https://t.co/awdMwZdYIk',\n",
              " \"@EvanHernder @jeremygale @Questrade My complaint flow from readers who are brokerage clients has fallen to zero. Haven't had one in weeks, down from nearly one per hour or so early in the year.\",\n",
              " 'Never had a pension at work? This money-for-life product offers 6.15 per cent retirement income\\nhttps://t.co/bc1ARRNgjw',\n",
              " 'Coming attractions: Rising rates vs. the housing market. \\nhttps://t.co/hrlgRHsek8 https://t.co/IOJLY9DEIm',\n",
              " 'Amplify: I want no part of Canada’s broken real estate market\\nhttps://t.co/V84VaqgREW',\n",
              " 'Why making more money won’t solve your financial problems. \\nhttps://t.co/kiEBO9CHZo',\n",
              " 'Want to cool the housing market? Raise property taxes\\nhttps://t.co/9EG04YWCiG',\n",
              " 'RT @globemoney: Are you paying thousands for daycare? Are exorbitant childcare costs preventing you from paying down debt, investing, savin…',\n",
              " 'How far would you go to find an affordable home? To Cleveland?\\nhttps://t.co/5RNECHZ6VJ',\n",
              " \"@TravisTurenne @PerruzzaTO Something's gotta give. Anger levels at the housing status quo are rising.\",\n",
              " '@DanHallett The \"are you getting value from your adviser\" checklist:\\nhttps://t.co/b2b4GoraK1',\n",
              " 'This is exactly right. Value is key. https://t.co/OQLXCjgbpg',\n",
              " '@KurtRosentreter Totally. But how likely is it that all these great services are flowing to holders of those funds?',\n",
              " '\"I guess my adviser was right. Fees don\\'t tell the full story.\" This is how RBC is selling mutual funds these days. \"See the difference performance makes.\" Right, in a bull market for everything.\\nhttps://t.co/cAahmtMbyD',\n",
              " '@EXTORONTOIAN Is there any difference, other than a vowel? Opinions welcome.',\n",
              " \"What passes for good news if you can't afford a house. https://t.co/OSo18g4DIF\",\n",
              " 'The true test of investing skill: how much you have left when the bull market in everything is over.\\nhttps://t.co/z2WuKBmMat',\n",
              " 'Priced out: Young Canadians vent about a wild real estate market. Ep. 1 of Season Three of our #stresstest personal finance podcast for Gen Z and millennials.\\nhttps://t.co/yQTYfX1iIh https://t.co/pIT8mtqSio',\n",
              " \"Today's reader emails contain two inflation stories - surcharges by a roofer for lumber and a big increase in a ticket for fall airline travel.\",\n",
              " 'The rate sheet at one mortgage broker. Anyone see a case for variable rate mortgages here? https://t.co/V0o8u3Dlry',\n",
              " 'Robo-adviser clients, how happy are you with service, returns, fees etc? Had a small blip higher in the number of complaints about robos lately. Fee hikes, service changes.',\n",
              " 'RT @kirannikita: Find yourself with extra $ in the absence of commuting costs and social plans? Stress Test hosts @rcarrick &amp; @RomaLuciw jo…',\n",
              " 'Further to renting - average cross-Canada rental cost down 9% YoY.\\nhttps://t.co/W4My8SHyVt https://t.co/HvmAgzp6E7',\n",
              " 'Frustrated homebuyers, renting is not a ‘financial coffin’\\nhttps://t.co/SUCOuuCXDS',\n",
              " 'One big bank’s vision of the future: tech, toys, discounts, and a chat with an ‘adviser’\\nhttps://t.co/mQU3mXEIVw',\n",
              " 'RT @RomaLuciw: Hey #stresstest fans, have you voted for our amazing @globeandmail podcast! Today’s the last day. 🗳 DO IT: https://t.co/rpry…',\n",
              " 'How to douse Canada’s housing mania when you can’t raise interest rates: Even tougher stress tests for buyers. Thoughts?\\nhttps://t.co/JSI9iQqLRO https://t.co/FAghWaBoCe',\n",
              " 'Context for when you\\'re reading about housing in Toronto \"cooling\" in April. https://t.co/In12Qgllcj',\n",
              " '@joejabour @robcarrick https://t.co/KIXA7E3f6U',\n",
              " 'Can’t afford a house? It’s not your fault.\\nhttps://t.co/vxSPRF1BaG',\n",
              " \"I asked readers of my newsletter where they're seeing inflation. Most unique answer: Water from flushing the toilet more since we're both working from home\\nhttps://t.co/OeiJOG3gg2\",\n",
              " '@JoshLessard Three thoughts here:\\nhttps://t.co/Onpvp4vXPX',\n",
              " 'Are you helping your children get into the housing market? We want to hear from you. Please contact  ryounglai@globeandmail.com if you are interested in speaking',\n",
              " 'Was this big bank too nice in giving some clients a break on fees?\\nhttps://t.co/0cy8GzARio',\n",
              " 'Our @globeandmail podcast Stress Test is up for best business podcast @thewebbyawards. It’s a huge honour and we’re in great company. If you’re a fan of our show and want to support us, vote here: https://t.co/ORa1ryovoB',\n",
              " 'But the cost of the rise in housing prices is mounting, particularly for young adults who are being denied access to the what used to be the near-universal entitlement of home ownership.\\nhttps://t.co/H78dCApIw6',\n",
              " 'If you own a house or are selling, you’re loving it. Who doesn’t feel smart owning a financial asset that jumps in price through a year of trauma and uncertainty? \\nhttps://t.co/H78dCApIw6',\n",
              " 'But housing is also ripping the financial fabric of life apart. Young adults and their parents are affected. Small town life and the entire economy are also tangled up in real estate.\\nhttps://t.co/H78dCApIw6',\n",
              " 'By handing owners lottery-like gains in equity, the housing market has validated the almost religious belief of Canadians that owning a house is the foundation of financial success. \\nhttps://t.co/H78dCApIw6',\n",
              " 'If it’s not vaccinations dominating conversations these days, it’s housing.\\nhttps://t.co/H78dCApIw6',\n",
              " 'Some morning e-mail inbox silliness. https://t.co/OshLZmwyxK',\n",
              " 'The housing boom is ripping apart the financial fabric of Canadian life.\\nhttps://t.co/H78dCApIw6',\n",
              " 'Can this stick? https://t.co/wUc7i4r9kQ',\n",
              " '@mortgagejake @MJonMoney @JonChevreau Yes, for sure',\n",
              " 'Cottage cash-out, anyone? https://t.co/sexwM0885r',\n",
              " 'Canadian dollar adds to last week’s gains as greenback slides https://t.co/zLjUd27gcB (subscribers)',\n",
              " 'Premarket: World stocks drop on China clampdown as investors await Fed, earnings https://t.co/kp7n7Fzmvk (subscribers)',\n",
              " 'Canadian dollar set for weekly gain as data signals retail sales rebound https://t.co/WHXmyBb5Cf (subscribers)',\n",
              " 'Premarket: World stocks perk up as volatile week ends on a high https://t.co/TIeqL66D8m (subscribers)',\n",
              " 'Canadian dollar dips as investors weigh ECB’s stimulus pledge https://t.co/8DCD7Ycms6 (subscribers)',\n",
              " 'Premarket: European stocks back near record highs on dovish ECB bets https://t.co/7yjgp1k89l (subscribers)',\n",
              " 'Canadian dollar gains as risk appetite shows signs of recovery https://t.co/fPioJXESSM (subscribers)',\n",
              " 'Premarket: Bonds, U.S. dollar rally as virus fears oust inflation jitters https://t.co/h8x5G960P2 (subscribers)',\n",
              " 'Canadian dollar dips as rising COVID-19 infections weigh on oil https://t.co/O3F2geFMxM (subscribers)',\n",
              " 'Premarket: European stocks recover even as global recovery fears linger https://t.co/8cB174Qqkb (subscribers)',\n",
              " 'Canadian dollar gives back 2021 gains as risk appetite crumbles https://t.co/4gk6nkmqD8 (subscribers)',\n",
              " 'Premarket: World stocks on worst run in 18-months amid global COVID-19 surge https://t.co/0Qs7nOlXwr (subscribers)',\n",
              " 'Canadian dollar slips to three-month low https://t.co/uU9mWgGDi7 (subscribers)',\n",
              " 'Premarket: World shares steady, U.S. yields hover near lows ahead of fresh data https://t.co/QBqQ3Gc2ZY (subscribers)',\n",
              " 'Premarket: Fed boosts bonds, Delta concerns stall world stocks https://t.co/PISWt5h7pf (subscribers)',\n",
              " 'Premarket: World stocks slip on inflation fears https://t.co/etCD8olYYo (subscribers)',\n",
              " 'Premarket: World stocks edge up on China exports, U.S. inflation data awaited https://t.co/8a9eg6WGV5 (subscribers)',\n",
              " 'Premarket: COVID Delta upsurge keeps stock and commodity bulls in check https://t.co/ZEi1j0xyFr (subscribers)',\n",
              " 'Premarket: World stocks steady, Treasuries yields edge up as Delta variant spreads https://t.co/qSW9D5Z40K (subscribers)',\n",
              " 'Canadian dollar slides for fourth day as risk aversion rises https://t.co/1RvJSAtdRC (subscribers)',\n",
              " 'Premarket: World shares dip on China weakness, oil sags on supply question https://t.co/dQSL2dD0fx (subscribers)',\n",
              " 'Canadian dollar steadies as investors turn attention to latest U.S. Federal Reserve policy meeting https://t.co/8jchQZcSVr (subscribers)',\n",
              " 'Premarket: World stocks dip from record peak, U.S. dollar firm ahead of Fed minutes https://t.co/KEfXhYaxRe (subscribers)',\n",
              " 'Canadian dollar falls as investors weigh OPEC+ supply talks https://t.co/BrzV7bzswe (subscribers)',\n",
              " 'Premarket: Oil prices jump after OPEC fireworks https://t.co/GW2wbpjul2 (subscribers)',\n",
              " 'Canadian dollar weakens against U.S. counterpart ahead of Business Outlook Survey https://t.co/ZnaP5W8aqy (subscribers)',\n",
              " 'Premarket: World shares hover near record highs https://t.co/5ooEDXCiHP (subscribers)',\n",
              " 'Canadian dollar outperforms G10 currencies as U.S. hiring picks up https://t.co/pTSK9t8QRn (subscribers)',\n",
              " 'Premarket: Global stocks dig in near record highs ahead of U.S. payrolls https://t.co/urWjH6ev67 (subscribers)',\n",
              " 'Premarket: Global stocks dig in near record highs ahead of U.S. payrolls https://t.co/C8f4KHD7ns (subscribers)',\n",
              " 'Premarket: Global stocks reach for records as second half starts strong https://t.co/Yk0SlWDJGa (subscribers)',\n",
              " 'Premarket: World shares hover near record highs on recovery hopes https://t.co/TCGVtAcMCy (subscribers)',\n",
              " 'Premarket: Global stock markets on edge over Delta virus variant, Fed policy https://t.co/kOxSNnhCoq (subscribers)',\n",
              " 'Canadian dollar gives back some of last week’s rally as oil dips https://t.co/VdeasBSMJx (subscribers)',\n",
              " 'Premarket: Global shares start week on back foot as COVID-19 cases spike https://t.co/8bae5GvZGs (subscribers)',\n",
              " 'Canadian dollar adds to weekly gain as investors cheer U.S. inflation data https://t.co/3zKh7HCDUl (subscribers)',\n",
              " 'Premarket: Global shares approach record peak on U.S. infrastructure bill, oil up https://t.co/eZ1k5XNIv1 (subscribers)',\n",
              " 'Canadian dollar steadies as exporter confidence soars https://t.co/jji9wGegDW (subscribers)',\n",
              " 'Premarket: Global stocks subdued as investors waver over U.S. inflation signals https://t.co/nNow9qz2u9 (subscribers)',\n",
              " 'Canadian dollar notches a six-day high as U.S. Federal Reserve chair calms investors https://t.co/wlthHjNczS (subscribers)',\n",
              " 'Premarket: European shares strain for momentum even after Powell reassurance https://t.co/oVrqkr466z (subscribers)',\n",
              " 'Canadian dollar dips as investors focus on Fed testimony https://t.co/Gx0ngm3qUt (subscribers)',\n",
              " 'Premarket: World shares subdued as investors flip-flop on rate rises https://t.co/1QDpCNXivQ (subscribers)',\n",
              " 'Canadian dollar recovers from eight-week low as oil climbs https://t.co/ZeWxqXdmFd (subscribers)',\n",
              " 'Premarket: Global stocks sink to four-week low, U.S. dollar holds gains https://t.co/lbQsz6artr (subscribers)',\n",
              " 'Canadian dollar extends weekly decline on U.S. Federal Reserve’s hawkish shift https://t.co/yPXR9WqH7s (subscribers)',\n",
              " 'Premarket: World stocks near record highs as Fed fallout fades https://t.co/YyWQEmUsxM (subscribers)',\n",
              " 'Premarket: Hawkish Fed fuels U.S. dollar, leaves world stocks and bonds bruised https://t.co/l2lZCzMzI7 (subscribers)',\n",
              " 'Canadian dollar steadies as inflation rises at fastest pace in a decade https://t.co/GXRCEkyo9v (subscribers)',\n",
              " 'Premarket: World stocks hold near record highs ahead of Fed https://t.co/JP31PfScWp (subscribers)',\n",
              " 'Canadian dollar hits one-month low as copper prices slide https://t.co/5MeRVfpo7g (subscribers)',\n",
              " 'Premarket: World shares in record-setting spree as Fed meeting looms https://t.co/dhn2GSEi6G (subscribers)',\n",
              " 'Premarket: Global stocks higher after Wall Street gain ahead of Fed meeting https://t.co/QKyCv8ojoV (subscribers)',\n",
              " 'Canadian dollar hits two-week low as greenback broadly rallies https://t.co/reNl6QhSeX (subscribers)',\n",
              " 'Premarket: European shares hit record high, bond yields fall as inflation fears ease https://t.co/fiP8xWZkGR (subscribers)',\n",
              " 'Premarket: World shares, U.S. dollar hit pause ahead of inflation data, ECB meeting https://t.co/0moCH1L9ZP (subscribers)',\n",
              " 'Canadian dollar gains ground as U.S. bond yields slide https://t.co/btDjHuU6vF (subscribers)',\n",
              " 'Premarket: Global stocks teeter near record as taper bets recede https://t.co/wAQWn1N4I0 (subscribers)',\n",
              " 'Canadian dollar steadies as country posts surprise trade surplus in April https://t.co/ipHg362rhU (subscribers)',\n",
              " 'Premarket: World stocks hover near record highs; U.S. dollar gains https://t.co/uuR3hTkWJV (subscribers)',\n",
              " 'Canadian dollar dips as investors await central bank’s interest rate decision https://t.co/VyH8H4NUTK (subscribers)',\n",
              " 'Premarket: World shares range bound as markets digest U.S. jobs data, global tax deal https://t.co/jPuXfCd53L (subscribers)',\n",
              " 'Canadian dollar rebounds from eight-day low as investors shrug off jobs decline https://t.co/FDGAESpF4j (subscribers)',\n",
              " 'Premarket: Global stocks steady as U.S. recovery sparks Fed tapering fears https://t.co/0FoYYngt5w (subscribers)',\n",
              " 'Canadian dollar weakens to a six-day low as inflation risk hits sentiment https://t.co/hdky36KzsG (subscribers)',\n",
              " 'Premarket: Stocks drift as investors turn cautious ahead of U.S. payrolls https://t.co/bupHIYyaEk (subscribers)',\n",
              " 'Premarket: Global stocks hover near record highs on rebound bets https://t.co/LUHxz3Q1bY (subscribers)',\n",
              " 'Premarket: World stocks hit another record, crude up in big data week https://t.co/Jkys093rkt (subscribers)',\n",
              " 'Canadian dollar on track for monthly gain as current account swings to surplus https://t.co/6oV1mwUUIm (subscribers)',\n",
              " 'Premarket: European stocks retreat from record highs https://t.co/cfekUTwgIi (subscribers)',\n",
              " 'Premarket: World stocks push for record high on $6-trillion U.S. spending hopes https://t.co/35lItFVJ6o (subscribers)',\n",
              " 'Premarket: Inflation questions keep world stocks in check https://t.co/WSL2u5b28i (subscribers)',\n",
              " 'Canadian dollar hits six-day low as oil prices fall https://t.co/seMHfAAYMR (subscribers)',\n",
              " 'Premarket: European stocks near record high https://t.co/VtjE9xrcPI (subscribers)',\n",
              " 'Premarket: Fed balm lifts European shares to record high https://t.co/kBsG9CM7Np (subscribers)',\n",
              " 'Canadian dollar nears six-year high as inflation concerns ease https://t.co/wcwQVqCaPl (subscribers)',\n",
              " 'Premarket: World stocks steady after volatile week https://t.co/bKHfWb13F7 (subscribers)',\n",
              " 'Canadian dollar gains ground along with higher metal prices https://t.co/GGSGBJGqu3 (subscribers)',\n",
              " 'Premarket: European stocks tick higher despite tapering talk; cryptos bounce after beating https://t.co/ERfjCpKeun (subscribers)',\n",
              " 'Canadian dollar pulls back from six-year high as commodities fall https://t.co/espzdEbKQe (subscribers)',\n",
              " 'Premarket: World stocks slip, cryptocurrencies under pressure amid inflation worries https://t.co/OeVnWHUlCv (subscribers)',\n",
              " 'Canadian dollar climbs to six-year high as greenback slides https://t.co/drmVag9jUM (subscribers)',\n",
              " 'Premarket: World shares rise, U.S. dollar eases on rate outlook https://t.co/CUstJ75G69 (subscribers)',\n",
              " 'Premarket: Global stocks steady, gold at 3-month high on inflation concerns https://t.co/8fSJccWqA4 (subscribers)',\n",
              " 'Premarket: World stocks gain, U.S. dollar dips as Fed officials calm inflation fears https://t.co/F4PqR9PmIU (subscribers)',\n",
              " 'Canadian dollar steadies ahead of Macklem speech, capped by oil pull back https://t.co/S5mO68QKEe (subscribers)',\n",
              " 'Premarket: Inflation angst bruises world stocks https://t.co/S99XDa9a30 (subscribers)',\n",
              " 'Canadian dollar notches six-year high as U.S. inflation jumps https://t.co/mjKBOxlY7z (subscribers)',\n",
              " 'Premarket: World stocks cheer prospects for low rates, oil jumps on pipeline outage https://t.co/y43GivWQGa (subscribers)',\n",
              " 'Canadian dollar stays on track to extend weekly win streak despite jobs decline https://t.co/F9dN4EzoiE (subscribers)',\n",
              " 'Premarket: Global stocks head for first weekly gain in three, commodities soar https://t.co/44pKLE87MZ (subscribers)',\n",
              " 'Canadian dollar climbs to 3½-year high as greenback slides https://t.co/0yqtPhroJa (subscribers)',\n",
              " 'Premarket: World stocks near record highs on recovery hopes https://t.co/rdziKIthtH (subscribers)',\n",
              " 'Premarket: Europe leads stock market recovery on firmer business growth https://t.co/40NGV3zNeu (subscribers)',\n",
              " 'Canadian dollar slips as trade balance swings to surprise deficit https://t.co/yk5awfgqlk (subscribers)',\n",
              " 'Premarket: World shares near record peak, U.S. dollar shuffles higher https://t.co/mQTgEERreG (subscribers)',\n",
              " 'Canadian dollar steadies near three-year high amid global economic optimism https://t.co/Y9ffMnZmya (subscribers)',\n",
              " 'Premarket: European shares rally as investors begin May in bullish mood https://t.co/pNhAFvSzKS (subscribers)',\n",
              " 'Canadian dollar adds to April win streak as domestic economy strengthens https://t.co/oUvLap49za (subscribers)',\n",
              " 'Premarket: World shares near record high, euro upbeat on Fed, earnings https://t.co/Uq9Nih8QXM (subscribers)',\n",
              " 'Pattie Lovett-Reid: Rolling up the sleeves for home renovations? Proceed with caution https://t.co/JumJjiXAIi via @CTVNews',\n",
              " 'Pattie Lovett-Reid: Reckless spending has got to stop  - BNN Bloomberg https://t.co/YJkNf65PsA',\n",
              " 'Pattie Lovett-Reid: BoC should be careful what is wishes for - BNN Bloomberg https://t.co/pUMu507BQz',\n",
              " 'Pattie Lovett-Reid: Why you should pay attention to the Bank of Canada’s interest rate announcement https://t.co/tVeQOdUUpi via @CTVNews',\n",
              " \"We're #33! TSX rides commodity rally to Q2 returns - BNN Bloomberg https://t.co/LN7TdKyiBf\",\n",
              " \"Pattie Lovett-Reid: Don't give in to the urge to splurge as COVID-19 lockdowns ease https://t.co/aCyBIu0y8k via @CTVNews\",\n",
              " 'Pattie Lovett-Reid: Boomers seem to be ignoring traditional retirement norms - BNN Bloomberg https://t.co/Cgl61F6ynC',\n",
              " 'Vanishing teller jobs threaten women’s entry point to banking - BNN Bloomberg https://t.co/LrY19nqcyG  I started as a teller and so many amazing opportunities came from that start.',\n",
              " 'Peter Hodson: These are the stocks you should hold on to, even if the broader market stumbles https://t.co/9zxK9elflN',\n",
              " 'Pattie Lovett-Reid: How financially literate are you? Can you answer these 3 questions?  https://t.co/ISsN0075HE via @CTVNews',\n",
              " 'Pattie Lovett-Reid: Investors need to get realistic about return expectations - BNN Bloomberg https://t.co/iu7kIPyOFo',\n",
              " 'Pattie Lovett-Reid: You sold your car during the pandemic now what? https://t.co/1Xr0l9ajSR via @CTVNews',\n",
              " 'Pattie Lovett-Reid: Optimism around entrepreneurship is climbing - BNN Bloomberg https://t.co/YMGY1baLpL',\n",
              " 'Pattie Lovett-Reid: Advice for the $70M lottery jackpot winner https://t.co/SzUqNkBvPT via @CTVNews',\n",
              " '@HumberAlumni Thank you for including me. What an honour',\n",
              " '@potentialultd soooo true. Just do it.',\n",
              " \"Pattie Lovett-Reid: Here's a tip to stave off retirement-savings crisis - BNN Bloomberg https://t.co/SlsA0cAJdL\",\n",
              " \"Pattie Lovett-Reid: 'Bank of Mom and Dad' is still open for business, but should it be?  https://t.co/y4O3JigVUM via @CTVNews\",\n",
              " 'Pattie Lovett-Reid: How to recognize and address elder financial abuse https://t.co/vCQyewqyl1 via @CTVNews',\n",
              " \"Pattie Lovett-Reid: It's tough for today's graduates, but you can control how you respond https://t.co/FhM0kMZIUj via @CTVNews\",\n",
              " 'Pattie Lovett-Reid: Why mortgage debt is now the focus for many Canadians  https://t.co/Ek7GlXWrJc via @CTVNews',\n",
              " '@potentialultd Beautiful',\n",
              " \"Pattie Lovett-Reid: How to 'hustle' to avoid being forgotten while working remotely https://t.co/EfnKo9Vvmp via @CTVNews\",\n",
              " 'Purpose Investments tries wooing retirement savers with new annuity-like fund - BNN Bloomberg https://t.co/FCIZaqVZ6I',\n",
              " \"Pattie Lovett-Reid: What to do if you're feeling squeezed by banking fees https://t.co/UjY7ChujaP via @CTVNews\",\n",
              " 'Pattie Lovett-Reid: Is it better to rent or own a home? It depends. - BNN Bloomberg https://t.co/ydIUg6ID4E',\n",
              " 'Pattie Lovett-Reid: What the new rules around uninsured mortgages mean for homebuyers https://t.co/F012wZfzwc via @CTVNews',\n",
              " 'RT @jebannister: Congrats @jogriffiths, founder/CEO of @knixwear for closing a $53 million round days before giving birth to twins. Women l…',\n",
              " 'Pattie Lovett-Reid: Will a pandemic move outside urban centres still make sense in the long run? https://t.co/ST5XqTNfJx via @CTVNews',\n",
              " '@potentialultd Amazing. Happy birthday.',\n",
              " \"Pattie Lovett-Reid: Why 'a little inflation' is good for you and the economy https://t.co/plzqdvVF8O via @CTVNews\",\n",
              " 'Pattie Lovett-Reid: Millennial, Gen Z workers just want to get paid - BNN Bloomberg https://t.co/cAhzttcypI',\n",
              " 'Pattie Lovett-Reid: When it comes to hobbies and side hustles, the CRA is watching https://t.co/VUcCQLmZBc via @CTVNews',\n",
              " '@francesdonald I love this. The best.',\n",
              " '@richard680news @CityNews Amazing. Ha ha hope she negotiated hard.',\n",
              " '@potentialultd I don’t know you but feel for you on so many levels. I admire your ability to try to move forward one step at a time',\n",
              " '@KelleyKeehn Thanks Kelley. 😊',\n",
              " '@GurdeepA @Loverofallmusic @CP24Breakfast @poojahandatv Always fun oh how I wanted to weigh in the on the Mayor’s response to @GurdeepA thanks for watching.',\n",
              " 'Pattie Lovett-Reid: Financial advice for Bill and Melinda Gates as they end their marriage https://t.co/AqxuSYhlab via @CTVNews',\n",
              " \"Don't sell in May and go away: Patricia Lovett-Reid - BNN Bloomberg https://t.co/rzx6HVkafS\",\n",
              " 'Pattie Lovett-Reid: Getting the most out of your tax refund https://t.co/UiZC4bI7LQ via @CTVNews',\n",
              " 'Borrowers beware as Bank of Canada shifts tone on rates: Pattie Lovett-Reid - BNN Bloomberg https://t.co/h5zH5d1PVW',\n",
              " 'Pattie Lovett-Reid: Fixer-upper or move-in ready, which makes most sense for you? https://t.co/TnlqtcDLfc via @CTVNews',\n",
              " 'Borrowers beware as Bank of Canada shifts tone on rates: Pattie Lovett-Reid - BNN Bloomberg https://t.co/To28vtjEZ5',\n",
              " \"Pattie Lovett-Reid: After Bernie Madoff's death, a reminder on how to protect yourself from financial scammers  https://t.co/f0dSOSmzbO via @CTVNews\",\n",
              " 'Pattie Lovett-Reid: WFH fatigue grows as pandemic enters year two - BNN Bloomberg https://t.co/A3Q8Ay9aVN',\n",
              " 'Pattie Lovett-Reid: Housing affordability is rapidly becoming a personal and political issue https://t.co/V6OkhQAcEu via @CTVNews',\n",
              " 'Pattie Lovett-Reid: Waiting for a real-estate market correction? What you need to know  https://t.co/denW5DdAXl via @CTVNews',\n",
              " '53% of Canadians within $200 a month of insolvency: MNP - BNN Bloomberg https://t.co/B0mkRw98Ke',\n",
              " '@advisorsavvy @KelleyKeehn @CTVNews Wow thank you so much for for sharing and the kind words. P',\n",
              " 'Pattie Lovett-Reid: My hopes and fears for the federal budget https://t.co/wHdAu1lbC3 via @CTVNews',\n",
              " '@potentialultd So beautiful. He knew it.',\n",
              " 'Pattie Lovett-Reid: The prenup talk can be tough, but necessary - BNN Bloomberg https://t.co/kFUigtUpqj',\n",
              " \"Pattie Lovett-Reid: From first time buyers to luxury homes, Canada's real estate market is on fire https://t.co/w42IVVT9Wl via @CTVNews\",\n",
              " 'Pattie Lovett-Reid: What are SPACs and should investors care? https://t.co/O7urs2tUqC via @CTVNews',\n",
              " '@enaumovski @KelleyKeehn @TangerineBank So kind my friend. Thank you.',\n",
              " \"Pattie Lovett-Reid: Take a pause if you're tempted to make cottage life permanent in a pandemic https://t.co/gXpbf7iqnD via @CTVNews\",\n",
              " \"Pattie Lovett-Reid: Don't even think about trying to outsmart Canada Revenue Agency https://t.co/hxKDNpi3Av via @CTVNews\",\n",
              " 'https://t.co/SfFbEzysQn',\n",
              " '@AlexBrownCTV Ha ha I knew you would call me out on this. Have fun.',\n",
              " '@DudesInterview @BenMulroney Amazing. Back to you shortly. P',\n",
              " 'Pattie Lovett-Reid: Survey reveals potentially good news for Canadian tourism  https://t.co/oGWkSqUKt2 via @CTVNews',\n",
              " 'Pattie Lovett-Reid: Sharing your credit card - proceed with caution! - BNN Bloomberg https://t.co/OYz1P0fiue',\n",
              " 'Pattie Lovett-Reid: CRA account lockdown makes tax season more complicated https://t.co/0qDfITpv3L via @CTVNews',\n",
              " '@CTVDarrell This is hysterical. I would have to pay for someone to take my “Rookie Card”',\n",
              " '@LindseyDeluce Maria is beyond the best 💯',\n",
              " \"Pattie Lovett-Reid: Canadians shouldn't overindulge on cheap money - BNN Bloomberg https://t.co/DjOkRB8OZ1\",\n",
              " 'RT @amberkanwar: To the women who have lifted and uplifted! Thank you for being the powerhouses you are #IWD2021 \\n@neensistaken\\n@fhoro\\n@fra…',\n",
              " '@amberkanwar @neensistaken @fhoro @francesdonald @kimparlee @AmandaLang @skmllgn @paigesellis @DollyParton @Beyonce Thank you for including me on the list and of course your name should be added as well.',\n",
              " \"Pattie Lovett-Reid: International Women's Day and we are not OK?  https://t.co/il0rtyt0tF via @CTVNews\",\n",
              " 'Pattie Lovett-Reid: The top 5 pandemic-related scams you need to know about https://t.co/YSOtKOcBP1 via @CTVNews',\n",
              " 'Pattie Lovett-Reid: Women are putting family financial planning above their own during the pandemic - BNN Bloomberg https://t.co/ej4AcI0V2t',\n",
              " \"Pattie Lovett-Reid: Bank of Canada governor sees signs of 'excess exuberance' in real estate market https://t.co/VChXidne1C via @CTVNews\",\n",
              " 'Pattie Lovett-Reid: Novice investors, this blog is for you https://t.co/2hPyMRGMX5 via @CTVNews',\n",
              " 'Pattie Lovett-Reid: Investors searching for yield in all the wrong places - BNN Bloomberg https://t.co/Q90wrp2VO0',\n",
              " \"Pattie Lovett-Reid: How to take control of your career if you think it's stalled https://t.co/8AmuAZm3tH via @CTVNews\",\n",
              " 'Pattie Lovett-Reid: You can live at home for retirement, but you have to plan today https://t.co/3v3ucuXht7 via @CTVNews',\n",
              " \"Pattie Lovett-Reid: RRSP or TFSA, what's right for you? https://t.co/Ticd6fv8vd via @CTVNews\",\n",
              " 'Pattie Lovett-Reid: Should debt be forgiven? Maybe! https://t.co/Q8mv3wtta5 via @CTVNews',\n",
              " 'Pattie Lovett-Reid: The great financial divide https://t.co/AqLNGWEunY via @CTVNews',\n",
              " '@paulbagnellBNN @AnneGaviola @amberkanwar @IanVandaelle @BNNBloomberg All the best Anne. You will always be a great success and so lovely to work with.',\n",
              " 'Pattie Lovett-Reid: Should debt be forgiven? Maybe! https://t.co/Q8mv3wtta5 via @CTVNews',\n",
              " \"U.S. family sues trading app Robinhood over college student's suicide https://t.co/gKGdTh0iLx via @CTVNews\",\n",
              " '@naomiparness I love this picture....it is sooo you!',\n",
              " 'Pattie Lovett-Reid: Older Canadians slammed financially by the pandemic https://t.co/qNf4ysUocQ via @CTVNews',\n",
              " \"Pattie Lovett-Reid: Why it's time to retire the word 'retire' https://t.co/SG4HfwAxup via @CTVNews\",\n",
              " 'Pattie Lovett-Reid: FOMO is becoming a very dangerous game - BNN Bloomberg https://t.co/99RDGQrGCC',\n",
              " 'Pattie Lovett-Reid: Traders beware of investing in volatile stocks  https://t.co/zRYQxBM2Ee via @CTVNews',\n",
              " \"Pattie Lovett-Reid: What's going on with the surging shares of GameStop https://t.co/I8yOaDE7Ha\",\n",
              " 'Pattie Lovett-Reid: Saving money never goes out of style https://t.co/AOamURVvoc',\n",
              " 'Pattie Lovett-Reid: The good, the bad and the ugly of the past year https://t.co/HtJ6y3APou',\n",
              " 'Pattie Lovett-Reid: Tips from experts to take control of your finances https://t.co/8YMPg0NB1u',\n",
              " 'Why you should resist the urge to multitask during Zoom meetings https://t.co/pubg8gEnI5',\n",
              " \"Pattie Lovett-Reid: Government aid wasn't a free ride for small business owners https://t.co/zIynUJWlB2\",\n",
              " 'https://t.co/nAcJRfOCoA On Instagram our community has a winter wellness challenge. Important information here. pattie_lovettreid',\n",
              " \"Pattie Lovett-Reid: Low rates driving 6 in 10 Canadians to spend money they can't afford, poll says - BNN Bloomberg https://t.co/qz493NVw0G\",\n",
              " '- Harvard Health https://t.co/SQZIZemAmV',\n",
              " 'Pattie Lovett-Reid: Pandemic aid will need to be included when you file your taxes https://t.co/8XMp1EDMK6',\n",
              " 'Pattie Lovett-Reid: The tale of two Canadians https://t.co/vODN84zuBL',\n",
              " 'Canadians focused on savings and debt, not spending: Poll - BNN Bloomberg https://t.co/OhkWYp3rV3',\n",
              " ...]"
            ]
          },
          "metadata": {
            "tags": []
          },
          "execution_count": 6
        }
      ]
    },
    {
      "cell_type": "code",
      "metadata": {
        "id": "TCClyYArv1Vo"
      },
      "source": [
        "# Create a copy of the list to work on\n",
        "tw_copy = tweet_lst.copy()"
      ],
      "execution_count": 7,
      "outputs": []
    },
    {
      "cell_type": "markdown",
      "metadata": {
        "id": "Hrl9dF3XfTnY"
      },
      "source": [
        "### Using Pipeline to clean text"
      ]
    },
    {
      "cell_type": "markdown",
      "metadata": {
        "id": "U9KA1fcOREWv"
      },
      "source": [
        "Make text lowercase\n",
        "Remove punctuation\n",
        "Remove emoji’s\n",
        "Remove stopwords\n",
        "Lemmatization"
      ]
    },
    {
      "cell_type": "code",
      "metadata": {
        "id": "K02Vi42sj0jR"
      },
      "source": [
        "# Cleaning pipeline (RT, Punctuation etc)\n",
        "\n",
        "stop_words = set(stopwords.words('english')+['http','rt','https'])\n",
        "\n",
        "lemmer = WordNetLemmatizer()\n",
        "\n",
        "def preprocess(x):\n",
        "    # Remove HTML tags\n",
        "    x = BeautifulSoup(x, \"lxml\").get_text()\n",
        "    # The profanity.censor method is used to mask inappropriate words with special characters. The default setting uses “*”\n",
        "    x = profanity.censor(x)\n",
        "    #Removing RT\n",
        "    x = re.sub('RT @\\w+: ',\" \",x)\n",
        "    # Remove all single characters\n",
        "    x = re.sub(r'\\s+[a-zA-Z]\\s+', ' ',x)\n",
        "    # Remove punctuation\n",
        "    x = re.sub(\"(@[A-Za-z0-9]+)|([^0-9A-Za-z \\t])|(\\w+:\\/\\/\\S+)\",\" \",x)\n",
        "    # Lower case\n",
        "    x = x.lower()\n",
        "    # Remove non-unicode\n",
        "    x = unidecode.unidecode(x)\n",
        "    # Remove numbers\n",
        "    x = re.sub(r'\\d+', '', x)\n",
        "    # Remove stopwords and lemmatize\n",
        "    x = [lemmer.lemmatize(w) for w in x.split() if w not in stop_words]\n",
        "    return ' '.join(x)"
      ],
      "execution_count": 8,
      "outputs": []
    },
    {
      "cell_type": "code",
      "metadata": {
        "id": "5kwtNfW9r_eP",
        "colab": {
          "base_uri": "https://localhost:8080/",
          "height": 36
        },
        "outputId": "7ddb3c81-f594-4d68-8b75-05133e3fccba"
      },
      "source": [
        "# Test preprocessing pipeline\n",
        "preprocess('RT http:// @ #$#% what the duck is wrong with the bank')"
      ],
      "execution_count": 9,
      "outputs": [
        {
          "output_type": "execute_result",
          "data": {
            "application/vnd.google.colaboratory.intrinsic+json": {
              "type": "string"
            },
            "text/plain": [
              "'duck wrong bank'"
            ]
          },
          "metadata": {
            "tags": []
          },
          "execution_count": 9
        }
      ]
    },
    {
      "cell_type": "code",
      "metadata": {
        "id": "qPHecVkfDQ37"
      },
      "source": [
        "# Import re module to use regular expression\n",
        "import re\n",
        "# Declare a list that contains the search word\n",
        "#search_word = \"playoff\"\n",
        "list1 = []\n",
        "# Using lambda expression filter the data\n",
        "for x in tw_copy:\n",
        "  if \"playoff\" not in x:\n",
        "    list1.append(x)\n",
        "  elif \"arena\" not in x:\n",
        "    list1.append(x)\n",
        "  elif \"game\" not in x:\n",
        "    list1.append(x)\n",
        "  elif \"hockey\" not in x:\n",
        "    list1.append(x)\n",
        "  elif \"NHL\" not in x:\n",
        "    list1.append(x)\n",
        "  elif \"StanleyCup\" not in x:\n",
        "    list1.append(x)"
      ],
      "execution_count": 10,
      "outputs": []
    },
    {
      "cell_type": "code",
      "metadata": {
        "id": "DjrXDX8dYrja",
        "colab": {
          "base_uri": "https://localhost:8080/",
          "height": 206
        },
        "outputId": "c5f54559-316b-4a8f-e77d-4d0e962590d3"
      },
      "source": [
        "tweet_list = pd.DataFrame(list1)  # Converting the list to Pandas DataFrame\n",
        "tweet_list.columns=['tweets'] # Renaming the column 0 to tweets\n",
        "tweet_list.head() # Display first 5 rows"
      ],
      "execution_count": 11,
      "outputs": [
        {
          "output_type": "execute_result",
          "data": {
            "text/html": [
              "<div>\n",
              "<style scoped>\n",
              "    .dataframe tbody tr th:only-of-type {\n",
              "        vertical-align: middle;\n",
              "    }\n",
              "\n",
              "    .dataframe tbody tr th {\n",
              "        vertical-align: top;\n",
              "    }\n",
              "\n",
              "    .dataframe thead th {\n",
              "        text-align: right;\n",
              "    }\n",
              "</style>\n",
              "<table border=\"1\" class=\"dataframe\">\n",
              "  <thead>\n",
              "    <tr style=\"text-align: right;\">\n",
              "      <th></th>\n",
              "      <th>tweets</th>\n",
              "    </tr>\n",
              "  </thead>\n",
              "  <tbody>\n",
              "    <tr>\n",
              "      <th>0</th>\n",
              "      <td>As restaurants begin to reopen, how are their ...</td>\n",
              "    </tr>\n",
              "    <tr>\n",
              "      <th>1</th>\n",
              "      <td>Managing your personal finances on a smartphon...</td>\n",
              "    </tr>\n",
              "    <tr>\n",
              "      <th>2</th>\n",
              "      <td>Cash-hungry emerging markets arrive late to th...</td>\n",
              "    </tr>\n",
              "    <tr>\n",
              "      <th>3</th>\n",
              "      <td>It’s been a great earnings season so far - wit...</td>\n",
              "    </tr>\n",
              "    <tr>\n",
              "      <th>4</th>\n",
              "      <td>RT @MarketsGlobe: Canadian dollar adds to last...</td>\n",
              "    </tr>\n",
              "  </tbody>\n",
              "</table>\n",
              "</div>"
            ],
            "text/plain": [
              "                                              tweets\n",
              "0  As restaurants begin to reopen, how are their ...\n",
              "1  Managing your personal finances on a smartphon...\n",
              "2  Cash-hungry emerging markets arrive late to th...\n",
              "3  It’s been a great earnings season so far - wit...\n",
              "4  RT @MarketsGlobe: Canadian dollar adds to last..."
            ]
          },
          "metadata": {
            "tags": []
          },
          "execution_count": 11
        }
      ]
    },
    {
      "cell_type": "code",
      "metadata": {
        "id": "WXbQUibaeus6",
        "colab": {
          "base_uri": "https://localhost:8080/"
        },
        "outputId": "a7c18749-a925-473e-f597-ce37d3126d65"
      },
      "source": [
        "# Apply Preprocessing pipeline to Tweets Dataframe\n",
        "tweet_list['tweets'] = tweet_list['tweets'].apply(preprocess)\n",
        "# Check for duplicates and drop them.\n",
        "tweet_list['tweets'].drop_duplicates(inplace = True)"
      ],
      "execution_count": 12,
      "outputs": [
        {
          "output_type": "stream",
          "text": [
            "/usr/local/lib/python3.7/dist-packages/bs4/__init__.py:336: UserWarning: \"https://t.co/SfFbEzysQn\" looks like a URL. Beautiful Soup is not an HTTP client. You should probably use an HTTP client like requests to get the document behind the URL, and feed that document to Beautiful Soup.\n",
            "  ' that document to Beautiful Soup.' % decoded_markup\n",
            "/usr/local/lib/python3.7/dist-packages/bs4/__init__.py:336: UserWarning: \"https://t.co/LVooRyojRD\" looks like a URL. Beautiful Soup is not an HTTP client. You should probably use an HTTP client like requests to get the document behind the URL, and feed that document to Beautiful Soup.\n",
            "  ' that document to Beautiful Soup.' % decoded_markup\n",
            "/usr/local/lib/python3.7/dist-packages/bs4/__init__.py:336: UserWarning: \"https://t.co/ZipWyy0Leo\" looks like a URL. Beautiful Soup is not an HTTP client. You should probably use an HTTP client like requests to get the document behind the URL, and feed that document to Beautiful Soup.\n",
            "  ' that document to Beautiful Soup.' % decoded_markup\n",
            "/usr/local/lib/python3.7/dist-packages/bs4/__init__.py:336: UserWarning: \"https://t.co/CDeLBOH2rB\" looks like a URL. Beautiful Soup is not an HTTP client. You should probably use an HTTP client like requests to get the document behind the URL, and feed that document to Beautiful Soup.\n",
            "  ' that document to Beautiful Soup.' % decoded_markup\n",
            "/usr/local/lib/python3.7/dist-packages/bs4/__init__.py:336: UserWarning: \"https://t.co/O0Hf7lMErW\" looks like a URL. Beautiful Soup is not an HTTP client. You should probably use an HTTP client like requests to get the document behind the URL, and feed that document to Beautiful Soup.\n",
            "  ' that document to Beautiful Soup.' % decoded_markup\n",
            "/usr/local/lib/python3.7/dist-packages/bs4/__init__.py:336: UserWarning: \"https://t.co/wiMPy93rWx\" looks like a URL. Beautiful Soup is not an HTTP client. You should probably use an HTTP client like requests to get the document behind the URL, and feed that document to Beautiful Soup.\n",
            "  ' that document to Beautiful Soup.' % decoded_markup\n",
            "/usr/local/lib/python3.7/dist-packages/bs4/__init__.py:336: UserWarning: \"https://t.co/hXBwCBE8LR\" looks like a URL. Beautiful Soup is not an HTTP client. You should probably use an HTTP client like requests to get the document behind the URL, and feed that document to Beautiful Soup.\n",
            "  ' that document to Beautiful Soup.' % decoded_markup\n",
            "/usr/local/lib/python3.7/dist-packages/bs4/__init__.py:336: UserWarning: \"https://t.co/PlsM0pFwhU\" looks like a URL. Beautiful Soup is not an HTTP client. You should probably use an HTTP client like requests to get the document behind the URL, and feed that document to Beautiful Soup.\n",
            "  ' that document to Beautiful Soup.' % decoded_markup\n",
            "/usr/local/lib/python3.7/dist-packages/bs4/__init__.py:336: UserWarning: \"https://t.co/c3wcScrPxi\" looks like a URL. Beautiful Soup is not an HTTP client. You should probably use an HTTP client like requests to get the document behind the URL, and feed that document to Beautiful Soup.\n",
            "  ' that document to Beautiful Soup.' % decoded_markup\n",
            "/usr/local/lib/python3.7/dist-packages/bs4/__init__.py:336: UserWarning: \"https://t.co/FRdjNF5R5e\" looks like a URL. Beautiful Soup is not an HTTP client. You should probably use an HTTP client like requests to get the document behind the URL, and feed that document to Beautiful Soup.\n",
            "  ' that document to Beautiful Soup.' % decoded_markup\n",
            "/usr/local/lib/python3.7/dist-packages/bs4/__init__.py:336: UserWarning: \"https://t.co/sd5CQ814aY\" looks like a URL. Beautiful Soup is not an HTTP client. You should probably use an HTTP client like requests to get the document behind the URL, and feed that document to Beautiful Soup.\n",
            "  ' that document to Beautiful Soup.' % decoded_markup\n",
            "/usr/local/lib/python3.7/dist-packages/bs4/__init__.py:336: UserWarning: \"https://t.co/pxlHfE5EBF\" looks like a URL. Beautiful Soup is not an HTTP client. You should probably use an HTTP client like requests to get the document behind the URL, and feed that document to Beautiful Soup.\n",
            "  ' that document to Beautiful Soup.' % decoded_markup\n",
            "/usr/local/lib/python3.7/dist-packages/bs4/__init__.py:336: UserWarning: \"https://t.co/mqgQthSjKI\" looks like a URL. Beautiful Soup is not an HTTP client. You should probably use an HTTP client like requests to get the document behind the URL, and feed that document to Beautiful Soup.\n",
            "  ' that document to Beautiful Soup.' % decoded_markup\n",
            "/usr/local/lib/python3.7/dist-packages/bs4/__init__.py:336: UserWarning: \"https://t.co/HlDwjFEZkD\" looks like a URL. Beautiful Soup is not an HTTP client. You should probably use an HTTP client like requests to get the document behind the URL, and feed that document to Beautiful Soup.\n",
            "  ' that document to Beautiful Soup.' % decoded_markup\n",
            "/usr/local/lib/python3.7/dist-packages/bs4/__init__.py:336: UserWarning: \"https://t.co/7xtQYU3Tox\" looks like a URL. Beautiful Soup is not an HTTP client. You should probably use an HTTP client like requests to get the document behind the URL, and feed that document to Beautiful Soup.\n",
            "  ' that document to Beautiful Soup.' % decoded_markup\n",
            "/usr/local/lib/python3.7/dist-packages/bs4/__init__.py:336: UserWarning: \"https://t.co/RO1WJyBHCy\" looks like a URL. Beautiful Soup is not an HTTP client. You should probably use an HTTP client like requests to get the document behind the URL, and feed that document to Beautiful Soup.\n",
            "  ' that document to Beautiful Soup.' % decoded_markup\n",
            "/usr/local/lib/python3.7/dist-packages/bs4/__init__.py:336: UserWarning: \"https://t.co/86FC4oZ0ZC\" looks like a URL. Beautiful Soup is not an HTTP client. You should probably use an HTTP client like requests to get the document behind the URL, and feed that document to Beautiful Soup.\n",
            "  ' that document to Beautiful Soup.' % decoded_markup\n",
            "/usr/local/lib/python3.7/dist-packages/bs4/__init__.py:336: UserWarning: \"https://t.co/7ScfBJe2HW\" looks like a URL. Beautiful Soup is not an HTTP client. You should probably use an HTTP client like requests to get the document behind the URL, and feed that document to Beautiful Soup.\n",
            "  ' that document to Beautiful Soup.' % decoded_markup\n",
            "/usr/local/lib/python3.7/dist-packages/bs4/__init__.py:336: UserWarning: \"https://t.co/szwpmtC3ea\" looks like a URL. Beautiful Soup is not an HTTP client. You should probably use an HTTP client like requests to get the document behind the URL, and feed that document to Beautiful Soup.\n",
            "  ' that document to Beautiful Soup.' % decoded_markup\n",
            "/usr/local/lib/python3.7/dist-packages/bs4/__init__.py:336: UserWarning: \"https://t.co/CyOU6u8J99\" looks like a URL. Beautiful Soup is not an HTTP client. You should probably use an HTTP client like requests to get the document behind the URL, and feed that document to Beautiful Soup.\n",
            "  ' that document to Beautiful Soup.' % decoded_markup\n",
            "/usr/local/lib/python3.7/dist-packages/bs4/__init__.py:336: UserWarning: \"https://t.co/DpPTo0WFe4\" looks like a URL. Beautiful Soup is not an HTTP client. You should probably use an HTTP client like requests to get the document behind the URL, and feed that document to Beautiful Soup.\n",
            "  ' that document to Beautiful Soup.' % decoded_markup\n",
            "/usr/local/lib/python3.7/dist-packages/bs4/__init__.py:336: UserWarning: \"https://t.co/MtZ0Tat2bm\" looks like a URL. Beautiful Soup is not an HTTP client. You should probably use an HTTP client like requests to get the document behind the URL, and feed that document to Beautiful Soup.\n",
            "  ' that document to Beautiful Soup.' % decoded_markup\n",
            "/usr/local/lib/python3.7/dist-packages/bs4/__init__.py:336: UserWarning: \"https://t.co/7aYYPeJBfR\" looks like a URL. Beautiful Soup is not an HTTP client. You should probably use an HTTP client like requests to get the document behind the URL, and feed that document to Beautiful Soup.\n",
            "  ' that document to Beautiful Soup.' % decoded_markup\n",
            "/usr/local/lib/python3.7/dist-packages/bs4/__init__.py:336: UserWarning: \"https://t.co/5w0KwwY0Z6\" looks like a URL. Beautiful Soup is not an HTTP client. You should probably use an HTTP client like requests to get the document behind the URL, and feed that document to Beautiful Soup.\n",
            "  ' that document to Beautiful Soup.' % decoded_markup\n"
          ],
          "name": "stderr"
        }
      ]
    },
    {
      "cell_type": "markdown",
      "metadata": {
        "id": "f-kU2q5-faRz"
      },
      "source": [
        "## Sentiment Analysis using TextBlob"
      ]
    },
    {
      "cell_type": "code",
      "metadata": {
        "id": "qEdUYCey0F-D",
        "colab": {
          "base_uri": "https://localhost:8080/",
          "height": 363
        },
        "outputId": "db98c1b4-9fc4-4e34-b9db-6c0d488aa6b0"
      },
      "source": [
        "#Calculating Negative, Positive, Neutral and Compound values\n",
        "# TextBlod finds all the words and phrases that it can assign polarity and subjectivity to, and average all of them together. \n",
        "  #Sentiment Labels: Each word in a corpus is labeled in terms of polarity and subjectivity. A corpus’ sentiment is the average of these.\n",
        "  #Polarity: How positive or negative a word is. -1 is very negative. +1 is very positive.\n",
        "  #Subjectivity: How subjective, or opinionated a word is. 0 is fact. +1 is very much an opinion.\n",
        "\n",
        "tweet_list[['polarity', 'subjectivity']] = tweet_list['tweets'].apply(lambda Text: pd.Series(TextBlob(Text).sentiment))\n",
        "for index, row in tweet_list['tweets'].iteritems():\n",
        "    score = SentimentIntensityAnalyzer().polarity_scores(row)\n",
        "    neg = score['neg']\n",
        "    neu = score['neu']\n",
        "    pos = score['pos']\n",
        "    comp = score['compound']\n",
        "    if neg > pos:\n",
        "        tweet_list.loc[index, 'sentiment'] = \"negative\"\n",
        "    elif pos > neg:\n",
        "        tweet_list.loc[index, 'sentiment'] = \"positive\"\n",
        "    else:\n",
        "        tweet_list.loc[index, 'sentiment'] = \"neutral\"\n",
        "    tweet_list.loc[index, 'neg'] = neg\n",
        "    tweet_list.loc[index, 'neu'] = neu\n",
        "    tweet_list.loc[index, 'pos'] = pos\n",
        "    tweet_list.loc[index, 'compound'] = comp\n",
        "\n",
        "tweet_list.head(10)"
      ],
      "execution_count": 13,
      "outputs": [
        {
          "output_type": "execute_result",
          "data": {
            "text/html": [
              "<div>\n",
              "<style scoped>\n",
              "    .dataframe tbody tr th:only-of-type {\n",
              "        vertical-align: middle;\n",
              "    }\n",
              "\n",
              "    .dataframe tbody tr th {\n",
              "        vertical-align: top;\n",
              "    }\n",
              "\n",
              "    .dataframe thead th {\n",
              "        text-align: right;\n",
              "    }\n",
              "</style>\n",
              "<table border=\"1\" class=\"dataframe\">\n",
              "  <thead>\n",
              "    <tr style=\"text-align: right;\">\n",
              "      <th></th>\n",
              "      <th>tweets</th>\n",
              "      <th>polarity</th>\n",
              "      <th>subjectivity</th>\n",
              "      <th>sentiment</th>\n",
              "      <th>neg</th>\n",
              "      <th>neu</th>\n",
              "      <th>pos</th>\n",
              "      <th>compound</th>\n",
              "    </tr>\n",
              "  </thead>\n",
              "  <tbody>\n",
              "    <tr>\n",
              "      <th>0</th>\n",
              "      <td>restaurant begin reopen stock</td>\n",
              "      <td>0.000</td>\n",
              "      <td>0.000000</td>\n",
              "      <td>neutral</td>\n",
              "      <td>0.000</td>\n",
              "      <td>1.000</td>\n",
              "      <td>0.000</td>\n",
              "      <td>0.0000</td>\n",
              "    </tr>\n",
              "    <tr>\n",
              "      <th>1</th>\n",
              "      <td>managing personal finance smartphone addictive</td>\n",
              "      <td>0.000</td>\n",
              "      <td>0.600000</td>\n",
              "      <td>neutral</td>\n",
              "      <td>0.000</td>\n",
              "      <td>1.000</td>\n",
              "      <td>0.000</td>\n",
              "      <td>0.0000</td>\n",
              "    </tr>\n",
              "    <tr>\n",
              "      <th>2</th>\n",
              "      <td>cash hungry emerging market arrive late party</td>\n",
              "      <td>-0.300</td>\n",
              "      <td>0.600000</td>\n",
              "      <td>positive</td>\n",
              "      <td>0.000</td>\n",
              "      <td>0.690</td>\n",
              "      <td>0.310</td>\n",
              "      <td>0.4019</td>\n",
              "    </tr>\n",
              "    <tr>\n",
              "      <th>3</th>\n",
              "      <td>great earnings season far one big caveat plus ...</td>\n",
              "      <td>0.300</td>\n",
              "      <td>0.616667</td>\n",
              "      <td>positive</td>\n",
              "      <td>0.142</td>\n",
              "      <td>0.664</td>\n",
              "      <td>0.194</td>\n",
              "      <td>0.2732</td>\n",
              "    </tr>\n",
              "    <tr>\n",
              "      <th>4</th>\n",
              "      <td>canadian dollar add last week gain greenback s...</td>\n",
              "      <td>0.000</td>\n",
              "      <td>0.066667</td>\n",
              "      <td>positive</td>\n",
              "      <td>0.000</td>\n",
              "      <td>0.702</td>\n",
              "      <td>0.298</td>\n",
              "      <td>0.5267</td>\n",
              "    </tr>\n",
              "    <tr>\n",
              "      <th>5</th>\n",
              "      <td>rich probably getting richer</td>\n",
              "      <td>0.375</td>\n",
              "      <td>0.750000</td>\n",
              "      <td>positive</td>\n",
              "      <td>0.000</td>\n",
              "      <td>0.222</td>\n",
              "      <td>0.778</td>\n",
              "      <td>0.7906</td>\n",
              "    </tr>\n",
              "    <tr>\n",
              "      <th>6</th>\n",
              "      <td>premarket world stock drop china clampdown inv...</td>\n",
              "      <td>0.000</td>\n",
              "      <td>0.000000</td>\n",
              "      <td>negative</td>\n",
              "      <td>0.168</td>\n",
              "      <td>0.720</td>\n",
              "      <td>0.112</td>\n",
              "      <td>-0.1779</td>\n",
              "    </tr>\n",
              "    <tr>\n",
              "      <th>7</th>\n",
              "      <td>fed meeting may test low u treasury yield</td>\n",
              "      <td>0.000</td>\n",
              "      <td>0.300000</td>\n",
              "      <td>negative</td>\n",
              "      <td>0.236</td>\n",
              "      <td>0.562</td>\n",
              "      <td>0.202</td>\n",
              "      <td>-0.0772</td>\n",
              "    </tr>\n",
              "    <tr>\n",
              "      <th>8</th>\n",
              "      <td>law without order investor grapple china regul...</td>\n",
              "      <td>0.000</td>\n",
              "      <td>0.000000</td>\n",
              "      <td>negative</td>\n",
              "      <td>0.231</td>\n",
              "      <td>0.769</td>\n",
              "      <td>0.000</td>\n",
              "      <td>-0.2732</td>\n",
              "    </tr>\n",
              "    <tr>\n",
              "      <th>9</th>\n",
              "      <td>covid wobble puncture calm market</td>\n",
              "      <td>0.300</td>\n",
              "      <td>0.750000</td>\n",
              "      <td>positive</td>\n",
              "      <td>0.000</td>\n",
              "      <td>0.635</td>\n",
              "      <td>0.365</td>\n",
              "      <td>0.3182</td>\n",
              "    </tr>\n",
              "  </tbody>\n",
              "</table>\n",
              "</div>"
            ],
            "text/plain": [
              "                                              tweets  polarity  ...    pos compound\n",
              "0                      restaurant begin reopen stock     0.000  ...  0.000   0.0000\n",
              "1     managing personal finance smartphone addictive     0.000  ...  0.000   0.0000\n",
              "2      cash hungry emerging market arrive late party    -0.300  ...  0.310   0.4019\n",
              "3  great earnings season far one big caveat plus ...     0.300  ...  0.194   0.2732\n",
              "4  canadian dollar add last week gain greenback s...     0.000  ...  0.298   0.5267\n",
              "5                       rich probably getting richer     0.375  ...  0.778   0.7906\n",
              "6  premarket world stock drop china clampdown inv...     0.000  ...  0.112  -0.1779\n",
              "7          fed meeting may test low u treasury yield     0.000  ...  0.202  -0.0772\n",
              "8  law without order investor grapple china regul...     0.000  ...  0.000  -0.2732\n",
              "9                  covid wobble puncture calm market     0.300  ...  0.365   0.3182\n",
              "\n",
              "[10 rows x 8 columns]"
            ]
          },
          "metadata": {
            "tags": []
          },
          "execution_count": 13
        }
      ]
    },
    {
      "cell_type": "code",
      "metadata": {
        "id": "0SzTFhL4RkFt"
      },
      "source": [
        "# Creating new data frames for all sentiments (positive, negative and neutral)\n",
        "\n",
        "tw_list_negative = tweet_list[tweet_list[\"sentiment\"]==\"negative\"]\n",
        "tw_list_positive = tweet_list[tweet_list[\"sentiment\"]==\"positive\"]\n",
        "tw_list_neutral = tweet_list[tweet_list[\"sentiment\"]==\"neutral\"]"
      ],
      "execution_count": 14,
      "outputs": []
    },
    {
      "cell_type": "code",
      "metadata": {
        "id": "fLSlun_PwxF-",
        "colab": {
          "base_uri": "https://localhost:8080/",
          "height": 206
        },
        "outputId": "276fdfaa-2ed3-457b-91df-a88ae21c10ac"
      },
      "source": [
        "tw_list_negative.head()"
      ],
      "execution_count": 15,
      "outputs": [
        {
          "output_type": "execute_result",
          "data": {
            "text/html": [
              "<div>\n",
              "<style scoped>\n",
              "    .dataframe tbody tr th:only-of-type {\n",
              "        vertical-align: middle;\n",
              "    }\n",
              "\n",
              "    .dataframe tbody tr th {\n",
              "        vertical-align: top;\n",
              "    }\n",
              "\n",
              "    .dataframe thead th {\n",
              "        text-align: right;\n",
              "    }\n",
              "</style>\n",
              "<table border=\"1\" class=\"dataframe\">\n",
              "  <thead>\n",
              "    <tr style=\"text-align: right;\">\n",
              "      <th></th>\n",
              "      <th>tweets</th>\n",
              "      <th>polarity</th>\n",
              "      <th>subjectivity</th>\n",
              "      <th>sentiment</th>\n",
              "      <th>neg</th>\n",
              "      <th>neu</th>\n",
              "      <th>pos</th>\n",
              "      <th>compound</th>\n",
              "    </tr>\n",
              "  </thead>\n",
              "  <tbody>\n",
              "    <tr>\n",
              "      <th>6</th>\n",
              "      <td>premarket world stock drop china clampdown inv...</td>\n",
              "      <td>0.0</td>\n",
              "      <td>0.000000</td>\n",
              "      <td>negative</td>\n",
              "      <td>0.168</td>\n",
              "      <td>0.720</td>\n",
              "      <td>0.112</td>\n",
              "      <td>-0.1779</td>\n",
              "    </tr>\n",
              "    <tr>\n",
              "      <th>7</th>\n",
              "      <td>fed meeting may test low u treasury yield</td>\n",
              "      <td>0.0</td>\n",
              "      <td>0.300000</td>\n",
              "      <td>negative</td>\n",
              "      <td>0.236</td>\n",
              "      <td>0.562</td>\n",
              "      <td>0.202</td>\n",
              "      <td>-0.0772</td>\n",
              "    </tr>\n",
              "    <tr>\n",
              "      <th>8</th>\n",
              "      <td>law without order investor grapple china regul...</td>\n",
              "      <td>0.0</td>\n",
              "      <td>0.000000</td>\n",
              "      <td>negative</td>\n",
              "      <td>0.231</td>\n",
              "      <td>0.769</td>\n",
              "      <td>0.000</td>\n",
              "      <td>-0.2732</td>\n",
              "    </tr>\n",
              "    <tr>\n",
              "      <th>15</th>\n",
              "      <td>five metric bond investor watching covid fear ...</td>\n",
              "      <td>0.0</td>\n",
              "      <td>0.000000</td>\n",
              "      <td>negative</td>\n",
              "      <td>0.314</td>\n",
              "      <td>0.686</td>\n",
              "      <td>0.000</td>\n",
              "      <td>-0.4939</td>\n",
              "    </tr>\n",
              "    <tr>\n",
              "      <th>30</th>\n",
              "      <td>bad breadth whiff danger market gain lack scope</td>\n",
              "      <td>-0.7</td>\n",
              "      <td>0.666667</td>\n",
              "      <td>negative</td>\n",
              "      <td>0.554</td>\n",
              "      <td>0.241</td>\n",
              "      <td>0.205</td>\n",
              "      <td>-0.7003</td>\n",
              "    </tr>\n",
              "  </tbody>\n",
              "</table>\n",
              "</div>"
            ],
            "text/plain": [
              "                                               tweets  ...  compound\n",
              "6   premarket world stock drop china clampdown inv...  ...   -0.1779\n",
              "7           fed meeting may test low u treasury yield  ...   -0.0772\n",
              "8   law without order investor grapple china regul...  ...   -0.2732\n",
              "15  five metric bond investor watching covid fear ...  ...   -0.4939\n",
              "30    bad breadth whiff danger market gain lack scope  ...   -0.7003\n",
              "\n",
              "[5 rows x 8 columns]"
            ]
          },
          "metadata": {
            "tags": []
          },
          "execution_count": 15
        }
      ]
    },
    {
      "cell_type": "code",
      "metadata": {
        "id": "yG2I_VaETqAJ"
      },
      "source": [
        "# Function for count_values_in single columns\n",
        "def count_values_in_column(data,feature):\n",
        "    total=data.loc[:,feature].value_counts(dropna=False)\n",
        "    percentage=round(data.loc[:,feature].value_counts(dropna=False,normalize=True)*100,2)\n",
        "    return pd.concat([total,percentage],axis=1,keys=['Total','Percentage'])"
      ],
      "execution_count": 16,
      "outputs": []
    },
    {
      "cell_type": "code",
      "metadata": {
        "id": "sxsKWYo2SVQu",
        "colab": {
          "base_uri": "https://localhost:8080/",
          "height": 143
        },
        "outputId": "9429849a-d097-4c88-d881-d8840994d579"
      },
      "source": [
        "#Count_values for sentiment\n",
        "count_values_in_column(tweet_list,\"sentiment\")"
      ],
      "execution_count": 17,
      "outputs": [
        {
          "output_type": "execute_result",
          "data": {
            "text/html": [
              "<div>\n",
              "<style scoped>\n",
              "    .dataframe tbody tr th:only-of-type {\n",
              "        vertical-align: middle;\n",
              "    }\n",
              "\n",
              "    .dataframe tbody tr th {\n",
              "        vertical-align: top;\n",
              "    }\n",
              "\n",
              "    .dataframe thead th {\n",
              "        text-align: right;\n",
              "    }\n",
              "</style>\n",
              "<table border=\"1\" class=\"dataframe\">\n",
              "  <thead>\n",
              "    <tr style=\"text-align: right;\">\n",
              "      <th></th>\n",
              "      <th>Total</th>\n",
              "      <th>Percentage</th>\n",
              "    </tr>\n",
              "  </thead>\n",
              "  <tbody>\n",
              "    <tr>\n",
              "      <th>positive</th>\n",
              "      <td>4281</td>\n",
              "      <td>47.96</td>\n",
              "    </tr>\n",
              "    <tr>\n",
              "      <th>neutral</th>\n",
              "      <td>2754</td>\n",
              "      <td>30.85</td>\n",
              "    </tr>\n",
              "    <tr>\n",
              "      <th>negative</th>\n",
              "      <td>1891</td>\n",
              "      <td>21.19</td>\n",
              "    </tr>\n",
              "  </tbody>\n",
              "</table>\n",
              "</div>"
            ],
            "text/plain": [
              "          Total  Percentage\n",
              "positive   4281       47.96\n",
              "neutral    2754       30.85\n",
              "negative   1891       21.19"
            ]
          },
          "metadata": {
            "tags": []
          },
          "execution_count": 17
        }
      ]
    },
    {
      "cell_type": "markdown",
      "metadata": {
        "id": "1ZTfVN_EO2xc"
      },
      "source": [
        "# EDA (Exploratory Data Analysis)"
      ]
    },
    {
      "cell_type": "markdown",
      "metadata": {
        "id": "HZu5I1Cot9JY"
      },
      "source": [
        "### Hastag Frequency"
      ]
    },
    {
      "cell_type": "code",
      "metadata": {
        "id": "DZKSzrsMsSNa"
      },
      "source": [
        "# Function to collect hashtags\n",
        "def hashtag_extract(x):\n",
        "    hashtags = []\n",
        "    # Loop over the words in the tweet\n",
        "    for i in x:\n",
        "        ht = re.findall(r\"#(\\w+)\", i)\n",
        "        hashtags.append(ht)\n",
        "    return hashtags"
      ],
      "execution_count": 18,
      "outputs": []
    },
    {
      "cell_type": "code",
      "metadata": {
        "id": "FG0r7KKWtTT9",
        "colab": {
          "base_uri": "https://localhost:8080/",
          "height": 334
        },
        "outputId": "42dcd5d3-5a02-485c-8e4b-4b9c6d5eb532"
      },
      "source": [
        "HT = hashtag_extract(tw_copy) # Using the original list which is uncleaned to extract hashtags\n",
        "# unnesting list\n",
        "HT = sum(HT,[])\n",
        "a = nltk.FreqDist(HT)\n",
        "d = pd.DataFrame({'Hashtag': list(a.keys()),'Count': list(a.values())})\n",
        "# selecting top 10 most frequent hashtags\n",
        "d = d.nlargest(columns=\"Count\", n = 10)\n",
        "plt.figure(figsize=(16,5))\n",
        "ax = sns.barplot(data=d, x= \"Hashtag\", y = \"Count\")\n",
        "ax.set(ylabel = 'Count')\n",
        "plt.show()"
      ],
      "execution_count": 19,
      "outputs": [
        {
          "output_type": "display_data",
          "data": {
            "image/png": "[encoded data removed]",
            "text/plain": [
              "<Figure size 1152x360 with 1 Axes>"
            ]
          },
          "metadata": {
            "tags": [],
            "needs_background": "light"
          }
        }
      ]
    },
    {
      "cell_type": "code",
      "metadata": {
        "colab": {
          "base_uri": "https://localhost:8080/"
        },
        "id": "-C3Z1dVG24SS",
        "outputId": "28f6211a-f360-437f-b5af-226cb40e2934"
      },
      "source": [
        "# Tokenize the Tweets\n",
        "from nltk.tokenize import word_tokenize\n",
        "from nltk import PorterStemmer\n",
        "\n",
        "def tokenize_tweets(myString):\n",
        "    tokens = word_tokenize(myString)\n",
        "    #stemmer = PorterStemmer()\n",
        "    #result = ([stemmer.stem(w).lower() for w in x.split()]) for x in tokens if x.lower() not in stopwords.words('english')]\n",
        "    result = [token.lower() for token in tokens if token.lower() not in stop_words]\n",
        "    return result\n",
        "\n",
        "tok_tweet_list = tweet_list['tweets'].apply(tokenize_tweets)\n",
        "print(tok_tweet_list)"
      ],
      "execution_count": 20,
      "outputs": [
        {
          "output_type": "stream",
          "text": [
            "0                      [restaurant, begin, reopen, stock]\n",
            "1       [managing, personal, finance, smartphone, addi...\n",
            "2       [cash, hungry, emerging, market, arrive, late,...\n",
            "3       [great, earnings, season, far, one, big, cavea...\n",
            "4       [canadian, dollar, add, last, week, gain, gree...\n",
            "                              ...                        \n",
            "8921    [biden, issued, strong, statement, support, cu...\n",
            "8922    [biden, issued, strong, statement, support, cu...\n",
            "8923    [biden, issued, strong, statement, support, cu...\n",
            "8924    [biden, issued, strong, statement, support, cu...\n",
            "8925    [biden, issued, strong, statement, support, cu...\n",
            "Name: tweets, Length: 8926, dtype: object\n"
          ],
          "name": "stdout"
        }
      ]
    },
    {
      "cell_type": "code",
      "metadata": {
        "id": "bQ2gwO-ywcgQ",
        "colab": {
          "base_uri": "https://localhost:8080/",
          "height": 607
        },
        "outputId": "403c382b-84fa-4ac5-8a67-09577c3bc60f"
      },
      "source": [
        "# Returns most common terms, aside from stop words #\n",
        "import itertools\n",
        "import collections\n",
        "# List of all words across tweets\n",
        "def most_common(terms_all):\n",
        "  words_in_tweet = [tweet for tweet in terms_all]\n",
        "  interesting_terms = list(itertools.chain(*words_in_tweet))\n",
        "  # Create counter\n",
        "  counts = collections.Counter(interesting_terms)\n",
        "  return counts.most_common(20)\n",
        "\n",
        "# Plot horizontal bar graph\n",
        "\n",
        "most_comm = pd.DataFrame(most_common(tok_tweet_list),columns=['words', 'count'])\n",
        "fig, ax = plt.subplots(figsize=(20, 10))\n",
        "most_comm.sort_values(by='count').plot.barh(x='words',y='count',ax=ax)\n",
        "ax.set_title(\"Most Common Words Found in Tweets\")\n",
        "ax.set(ylabel = 'Count')\n",
        "plt.show()"
      ],
      "execution_count": 21,
      "outputs": [
        {
          "output_type": "display_data",
          "data": {
            "image/png": "[encoded data removed]",
            "text/plain": [
              "<Figure size 1440x720 with 1 Axes>"
            ]
          },
          "metadata": {
            "tags": [],
            "needs_background": "light"
          }
        }
      ]
    },
    {
      "cell_type": "markdown",
      "metadata": {
        "id": "3NyFIybpOxw-"
      },
      "source": [
        "### Wordcloud"
      ]
    },
    {
      "cell_type": "code",
      "metadata": {
        "id": "JxfoLfrASlxW",
        "colab": {
          "base_uri": "https://localhost:8080/"
        },
        "outputId": "517658dd-b466-4bf7-e343-25ad64933cb8"
      },
      "source": [
        "from nltk.tokenize import WordPunctTokenizer\n",
        "from nltk import PorterStemmer\n",
        "from nltk.collocations import BigramCollocationFinder\n",
        "from nltk.metrics import BigramAssocMeasures\n",
        "\n",
        "def get_bigrams(myString):\n",
        "    tokenizer = WordPunctTokenizer()\n",
        "    tokens = tokenizer.tokenize(myString)\n",
        "    stemmer = PorterStemmer()\n",
        "    bigram_finder = BigramCollocationFinder.from_words(tokens)\n",
        "    bigrams = bigram_finder.nbest(BigramAssocMeasures.pmi,100)\n",
        "\n",
        "    for bigram_tuple in bigrams:\n",
        "        x = \"%s %s\" % bigram_tuple\n",
        "        tokens.append(x)\n",
        "\n",
        "    result = [' '.join([stemmer.stem(w).lower() for w in x.split()]) for x in tokens if x.lower() not in stopwords.words('english') and len(x) > 4]\n",
        "    return result\n",
        "\n",
        "for line in tweet_list['tweets']:\n",
        "    features = get_bigrams(line)\n",
        "print(features)"
      ],
      "execution_count": 22,
      "outputs": [
        {
          "output_type": "stream",
          "text": [
            "['biden', 'issu', 'strong', 'statement', 'support', 'cuban', 'protest', 'instead', 'roll', 'trump', 'sanction', 'impos', 'addit', 'back trump', 'biden issu', 'cuban protest', 'impos addit', 'instead roll', 'issu strong', 'protest instead', 'roll back', 'sanction impos', 'statement support', 'strong statement', 'support cuban', 'trump sanction']\n"
          ],
          "name": "stdout"
        }
      ]
    },
    {
      "cell_type": "code",
      "metadata": {
        "id": "u9kiO5iXXNUM"
      },
      "source": [
        "#Function to Create Wordcloud\n",
        "def create_wordcloud(text):\n",
        "  stopwords = set(STOPWORDS)\n",
        "  wc = WordCloud(stopwords=stopwords,max_words=200,background_color=\"Black\", )\n",
        "  wc.generate(text)\n",
        "  wc.to_file(\"wc.png\")\n",
        "  #print(\"Word Cloud Saved Successfully\")\n",
        "  path=\"wc.png\"\n",
        "  display(Image.open(path))"
      ],
      "execution_count": 23,
      "outputs": []
    },
    {
      "cell_type": "code",
      "metadata": {
        "id": "j7AgmUB6Xd2j",
        "colab": {
          "base_uri": "https://localhost:8080/",
          "height": 217
        },
        "outputId": "7771196a-fbb3-403b-9266-ddaec5f561f9"
      },
      "source": [
        "#create_wordcloud(NewNounString)\n",
        "create_wordcloud(str(features))"
      ],
      "execution_count": 24,
      "outputs": [
        {
          "output_type": "display_data",
          "data": {
            "image/png": "[encoded data removed]",
            "text/plain": [
              "<PIL.PngImagePlugin.PngImageFile image mode=RGB size=400x200 at 0x7F1014874CD0>"
            ]
          },
          "metadata": {
            "tags": []
          }
        }
      ]
    },
    {
      "cell_type": "code",
      "metadata": {
        "id": "s42GSe-Qdvgg",
        "colab": {
          "base_uri": "https://localhost:8080/",
          "height": 235
        },
        "outputId": "e91b9ba6-e2a5-434d-d904-db191f2480bb"
      },
      "source": [
        "create_wordcloud(tw_list_positive.to_string()),"
      ],
      "execution_count": 25,
      "outputs": [
        {
          "output_type": "display_data",
          "data": {
            "image/png": "[encoded data removed]",
            "text/plain": [
              "<PIL.PngImagePlugin.PngImageFile image mode=RGB size=400x200 at 0x7F1014864F50>"
            ]
          },
          "metadata": {
            "tags": []
          }
        },
        {
          "output_type": "execute_result",
          "data": {
            "text/plain": [
              "(None,)"
            ]
          },
          "metadata": {
            "tags": []
          },
          "execution_count": 25
        }
      ]
    },
    {
      "cell_type": "code",
      "metadata": {
        "id": "bXiar-8pdvpZ",
        "colab": {
          "base_uri": "https://localhost:8080/",
          "height": 217
        },
        "outputId": "2079bff3-c6c0-40c5-985e-6a0cacebbfd2"
      },
      "source": [
        "create_wordcloud(tw_list_negative.to_string())"
      ],
      "execution_count": 26,
      "outputs": [
        {
          "output_type": "display_data",
          "data": {
            "image/png": "[encoded data removed]",
            "text/plain": [
              "<PIL.PngImagePlugin.PngImageFile image mode=RGB size=400x200 at 0x7F1014DECF90>"
            ]
          },
          "metadata": {
            "tags": []
          }
        }
      ]
    },
    {
      "cell_type": "markdown",
      "metadata": {
        "id": "vxDz0paRu7de"
      },
      "source": [
        "### Joyplot"
      ]
    },
    {
      "cell_type": "code",
      "metadata": {
        "id": "gUc5cPFMUD_f",
        "colab": {
          "base_uri": "https://localhost:8080/",
          "height": 441
        },
        "outputId": "49bc9245-0daa-40dd-994d-1876d5e70707"
      },
      "source": [
        "# Joy Plot\n",
        "import matplotlib\n",
        "\n",
        "sm = matplotlib.cm.ScalarMappable(cmap=cm.autumn_r)\n",
        "%matplotlib inline\n",
        "ar = tweet_list.value_counts()\n",
        "fig, axes = joypy.joyplot(tweet_list ,grid=True,by=['sentiment'],column=['polarity'],ylabelsize=12,title=\"Distribution of Sentiment based on Polarity\",figsize=(10,6),colormap=cm.autumn_r,x_range=[-1,0,1])"
      ],
      "execution_count": 27,
      "outputs": [
        {
          "output_type": "display_data",
          "data": {
            "image/png": "[encoded data removed]",
            "text/plain": [
              "<Figure size 720x432 with 4 Axes>"
            ]
          },
          "metadata": {
            "tags": [],
            "needs_background": "light"
          }
        }
      ]
    },
    {
      "cell_type": "markdown",
      "metadata": {
        "id": "Ovdda9VGWXZL"
      },
      "source": [
        "References:\n",
        "https://towardsdatascience.com/step-by-step-twitter-sentiment-analysis-in-python-d6f650ade58d\n",
        "\n",
        "https://github.com/yalinyener/TwitterSentimentAnalysis/blob/master/SentimentAnalysis.ipynb\n",
        "\n",
        "https://towardsdatascience.com/detecting-hate-tweets-twitter-sentiment-analysis-780d8a82d4f6\n",
        "\n",
        "https://github.com/DrManishSharma/NLP/blob/master/SentiAnalysis.ipynb"
      ]
    },
    {
      "cell_type": "markdown",
      "metadata": {
        "id": "sUto-DrNf_9m"
      },
      "source": [
        "Topic Modeling"
      ]
    },
    {
      "cell_type": "code",
      "metadata": {
        "id": "ej1E5Z5Vf9l5"
      },
      "source": [
        "# LDA or Latent Dirchlet Allocation, is one of the most popular topic modeling algorithms around. \n",
        "# LDA is a generative statistical model that allows observations to be explained by unobserved groups that explain why parts of the data are similar. \n",
        "from sklearn.feature_extraction.text import TfidfVectorizer\n",
        "\n",
        "vectorizer = TfidfVectorizer(max_df=0.2, min_df=0.02, max_features = 1000, ngram_range = [1,2])\n",
        "dtm = vectorizer.fit_transform(tweet_list['tweets'])"
      ],
      "execution_count": 28,
      "outputs": []
    },
    {
      "cell_type": "code",
      "metadata": {
        "colab": {
          "base_uri": "https://localhost:8080/"
        },
        "id": "C9SMOM-YkE72",
        "outputId": "d9718809-c7ba-438b-a4bb-c18c5774f236"
      },
      "source": [
        "dtm.shape"
      ],
      "execution_count": 29,
      "outputs": [
        {
          "output_type": "execute_result",
          "data": {
            "text/plain": [
              "(8926, 48)"
            ]
          },
          "metadata": {
            "tags": []
          },
          "execution_count": 29
        }
      ]
    },
    {
      "cell_type": "code",
      "metadata": {
        "colab": {
          "base_uri": "https://localhost:8080/"
        },
        "id": "QXIp5J6UkE-L",
        "outputId": "49326498-bbb9-4956-eab2-88e4e28ef5af"
      },
      "source": [
        "vectorizer.get_feature_names()"
      ],
      "execution_count": 30,
      "outputs": [
        {
          "output_type": "execute_result",
          "data": {
            "text/plain": [
              "['also',\n",
              " 'back',\n",
              " 'bank',\n",
              " 'big',\n",
              " 'canadian',\n",
              " 'company',\n",
              " 'credit',\n",
              " 'day',\n",
              " 'earnings',\n",
              " 'end',\n",
              " 'first',\n",
              " 'get',\n",
              " 'good',\n",
              " 'high',\n",
              " 'home',\n",
              " 'inflation',\n",
              " 'know',\n",
              " 'last',\n",
              " 'lending',\n",
              " 'like',\n",
              " 'loan',\n",
              " 'make',\n",
              " 'market',\n",
              " 'money',\n",
              " 'mortgage',\n",
              " 'much',\n",
              " 'need',\n",
              " 'new',\n",
              " 'one',\n",
              " 'people',\n",
              " 'personal',\n",
              " 'price',\n",
              " 'rate',\n",
              " 'risk',\n",
              " 'say',\n",
              " 'see',\n",
              " 'still',\n",
              " 'stock',\n",
              " 'subscriber',\n",
              " 'take',\n",
              " 'think',\n",
              " 'time',\n",
              " 'today',\n",
              " 'via',\n",
              " 'week',\n",
              " 'work',\n",
              " 'would',\n",
              " 'year']"
            ]
          },
          "metadata": {
            "tags": []
          },
          "execution_count": 30
        }
      ]
    },
    {
      "cell_type": "code",
      "metadata": {
        "id": "KZQhCfwckMnT"
      },
      "source": [
        "from sklearn.decomposition import LatentDirichletAllocation\n",
        "lda_model = LatentDirichletAllocation(n_components = 10, doc_topic_prior = None, topic_word_prior = None, max_iter = 200, learning_method = 'batch', random_state = 123, n_jobs = 2, verbose =0)\n",
        "lda_output = lda_model.fit(dtm)"
      ],
      "execution_count": 31,
      "outputs": []
    },
    {
      "cell_type": "code",
      "metadata": {
        "id": "Ywslmt5HkMpo"
      },
      "source": [
        "feature_names = vectorizer.get_feature_names()\n",
        "termss = list()\n",
        "for topic_id, topic in enumerate(lda_model.components_):\n",
        "  terms = ' '.join([feature_names[i] for i in topic.argsort()[:-6 - 1:-1]])\n",
        "  termss.append(terms)\n",
        "\n",
        "topic_summary = pd.DataFrame({'TopicID':range(0, len(termss)), 'Terms': termss})"
      ],
      "execution_count": 32,
      "outputs": []
    },
    {
      "cell_type": "code",
      "metadata": {
        "colab": {
          "base_uri": "https://localhost:8080/",
          "height": 363
        },
        "id": "gocrqvjmkMru",
        "outputId": "dd3537b8-6af9-4fd0-f4aa-07ef002b8adc"
      },
      "source": [
        "topic_summary"
      ],
      "execution_count": 33,
      "outputs": [
        {
          "output_type": "execute_result",
          "data": {
            "text/html": [
              "<div>\n",
              "<style scoped>\n",
              "    .dataframe tbody tr th:only-of-type {\n",
              "        vertical-align: middle;\n",
              "    }\n",
              "\n",
              "    .dataframe tbody tr th {\n",
              "        vertical-align: top;\n",
              "    }\n",
              "\n",
              "    .dataframe thead th {\n",
              "        text-align: right;\n",
              "    }\n",
              "</style>\n",
              "<table border=\"1\" class=\"dataframe\">\n",
              "  <thead>\n",
              "    <tr style=\"text-align: right;\">\n",
              "      <th></th>\n",
              "      <th>TopicID</th>\n",
              "      <th>Terms</th>\n",
              "    </tr>\n",
              "  </thead>\n",
              "  <tbody>\n",
              "    <tr>\n",
              "      <th>0</th>\n",
              "      <td>0</td>\n",
              "      <td>new big high mortgage price rate</td>\n",
              "    </tr>\n",
              "    <tr>\n",
              "      <th>1</th>\n",
              "      <td>1</td>\n",
              "      <td>think end day lending know loan</td>\n",
              "    </tr>\n",
              "    <tr>\n",
              "      <th>2</th>\n",
              "      <td>2</td>\n",
              "      <td>loan like good need say bank</td>\n",
              "    </tr>\n",
              "    <tr>\n",
              "      <th>3</th>\n",
              "      <td>3</td>\n",
              "      <td>week today one take last work</td>\n",
              "    </tr>\n",
              "    <tr>\n",
              "      <th>4</th>\n",
              "      <td>4</td>\n",
              "      <td>time home company first see work</td>\n",
              "    </tr>\n",
              "    <tr>\n",
              "      <th>5</th>\n",
              "      <td>5</td>\n",
              "      <td>market canadian money bank rate loan</td>\n",
              "    </tr>\n",
              "    <tr>\n",
              "      <th>6</th>\n",
              "      <td>6</td>\n",
              "      <td>year subscriber inflation still canadian price</td>\n",
              "    </tr>\n",
              "    <tr>\n",
              "      <th>7</th>\n",
              "      <td>7</td>\n",
              "      <td>get back stock much like know</td>\n",
              "    </tr>\n",
              "    <tr>\n",
              "      <th>8</th>\n",
              "      <td>8</td>\n",
              "      <td>credit risk make one know loan</td>\n",
              "    </tr>\n",
              "    <tr>\n",
              "      <th>9</th>\n",
              "      <td>9</td>\n",
              "      <td>via earnings people would know like</td>\n",
              "    </tr>\n",
              "  </tbody>\n",
              "</table>\n",
              "</div>"
            ],
            "text/plain": [
              "   TopicID                                           Terms\n",
              "0        0                new big high mortgage price rate\n",
              "1        1                 think end day lending know loan\n",
              "2        2                    loan like good need say bank\n",
              "3        3                   week today one take last work\n",
              "4        4                time home company first see work\n",
              "5        5            market canadian money bank rate loan\n",
              "6        6  year subscriber inflation still canadian price\n",
              "7        7                   get back stock much like know\n",
              "8        8                  credit risk make one know loan\n",
              "9        9             via earnings people would know like"
            ]
          },
          "metadata": {
            "tags": []
          },
          "execution_count": 33
        }
      ]
    },
    {
      "cell_type": "markdown",
      "metadata": {
        "id": "ENY2L14pol9l"
      },
      "source": [
        "#Modeling"
      ]
    },
    {
      "cell_type": "code",
      "metadata": {
        "id": "tBTDuuzZHkjU"
      },
      "source": [
        "# Using the Regex tokenizer from NLTK\n",
        "from sklearn.feature_extraction.text import CountVectorizer\n",
        "from nltk.tokenize import RegexpTokenizer\n",
        "token = RegexpTokenizer(r'[a-zA-Z0-9]+')\n",
        "cv = CountVectorizer(stop_words='english',ngram_range = (1,1),tokenizer = token.tokenize)\n",
        "text_counts = cv.fit_transform(tweet_list['tweets'])"
      ],
      "execution_count": 34,
      "outputs": []
    },
    {
      "cell_type": "code",
      "metadata": {
        "id": "Pl2XpCiiW98X"
      },
      "source": [
        "from sklearn.model_selection import train_test_split\n",
        "X_train, X_test, Y_train, Y_test = train_test_split(text_counts, tweet_list['tweets'], test_size=0.25, random_state=5)"
      ],
      "execution_count": 35,
      "outputs": []
    },
    {
      "cell_type": "code",
      "metadata": {
        "colab": {
          "base_uri": "https://localhost:8080/"
        },
        "id": "KbTEi1nTK_bk",
        "outputId": "41dde63e-2929-4c92-8b9b-3b532c7ecc75"
      },
      "source": [
        "# Using NLTK Regex Tokenizer\n",
        "from sklearn.naive_bayes import MultinomialNB\n",
        "MNB = MultinomialNB()\n",
        "MNB.fit(X_train, Y_train)"
      ],
      "execution_count": 36,
      "outputs": [
        {
          "output_type": "execute_result",
          "data": {
            "text/plain": [
              "MultinomialNB(alpha=1.0, class_prior=None, fit_prior=True)"
            ]
          },
          "metadata": {
            "tags": []
          },
          "execution_count": 36
        }
      ]
    },
    {
      "cell_type": "code",
      "metadata": {
        "id": "X0q_KygTK3Cw"
      },
      "source": [
        "from sklearn import metrics\n",
        "predicted = MNB.predict(X_test)\n",
        "accuracy_score = metrics.accuracy_score(predicted, Y_test)"
      ],
      "execution_count": 37,
      "outputs": []
    },
    {
      "cell_type": "code",
      "metadata": {
        "colab": {
          "base_uri": "https://localhost:8080/"
        },
        "id": "fGrrpoQ2Iu1G",
        "outputId": "7f249b3f-217c-45a1-fc92-fdf2839394c8"
      },
      "source": [
        "print(str('{:04.2f}'.format(accuracy_score*100))+'%')"
      ],
      "execution_count": 38,
      "outputs": [
        {
          "output_type": "stream",
          "text": [
            "21.24%\n"
          ],
          "name": "stdout"
        }
      ]
    },
    {
      "cell_type": "code",
      "metadata": {
        "colab": {
          "base_uri": "https://localhost:8080/"
        },
        "id": "mJgJJBSgI9cU",
        "outputId": "c396b219-6673-43b7-8bc5-38d9f4ac669f"
      },
      "source": [
        "# Using TF-IDF vectorizer\n",
        "from sklearn.feature_extraction.text import TfidfVectorizer\n",
        "tfidf = TfidfVectorizer()\n",
        "text_count_2 = tfidf.fit_transform(tweet_list['tweets'])\n",
        "\n",
        "#splitting the data in test and training\n",
        "#from sklearn.model_selection() import train_test_split()\n",
        "x_train, x_test, y_train, y_test = train_test_split(text_count_2, tweet_list['sentiment'],test_size=0.25,random_state=5)\n",
        "\n",
        "#defining the model\n",
        "#compilimg the model -> we are going to use already used models GNB, MNB, CNB, BNB\n",
        "MNB = MultinomialNB()\n",
        "MNB.fit(x_train, y_train)\n",
        "accuracy_score_mnb = metrics.accuracy_score(MNB.predict(x_test), y_test)\n",
        "print('accuracy_score_mnb = '+str('{:4.2f}'.format(accuracy_score_mnb*100))+'%')\n",
        "\n",
        "from sklearn.naive_bayes import BernoulliNB\n",
        "BNB = BernoulliNB()\n",
        "BNB.fit(x_train, y_train)\n",
        "accuracy_score_bnb = metrics.accuracy_score(BNB.predict(x_test), y_test)\n",
        "print('accuracy_score_bnb = '+str('{:4.2f}'.format(accuracy_score_bnb*100))+'%')\n",
        "\n",
        "from sklearn.naive_bayes import ComplementNB\n",
        "CNB = ComplementNB()\n",
        "CNB.fit(x_train, y_train)\n",
        "accuracy_score_cnb = metrics.accuracy_score(CNB.predict(x_test), y_test)\n",
        "print('accuracy_score_cnb = '+str('{:4.2f}'.format(accuracy_score_cnb*100))+'%')\n",
        "\n",
        "from sklearn.naive_bayes import GaussianNB\n",
        "GNB = GaussianNB()\n",
        "GNB.fit(x_train.todense(), y_train)\n",
        "accuracy_score_gnb = metrics.accuracy_score(GNB.predict(x_test.todense()), y_test)\n",
        "print('accuracy_score_gnb = '+str('{:4.2f}'.format(accuracy_score_gnb*100))+'%')"
      ],
      "execution_count": 39,
      "outputs": [
        {
          "output_type": "stream",
          "text": [
            "accuracy_score_mnb = 64.74%\n",
            "accuracy_score_bnb = 77.11%\n",
            "accuracy_score_cnb = 73.92%\n",
            "accuracy_score_gnb = 65.91%\n"
          ],
          "name": "stdout"
        }
      ]
    },
    {
      "cell_type": "code",
      "metadata": {
        "colab": {
          "base_uri": "https://localhost:8080/"
        },
        "id": "nmwQBMO1I9ez",
        "outputId": "754b6f05-59ee-4cf6-a646-a79ebbfaf9bc"
      },
      "source": [
        "from sklearn.linear_model import LogisticRegression, SGDClassifier\n",
        "from sklearn.svm import LinearSVC\n",
        "SGDC = SGDClassifier()\n",
        "LSVC = LinearSVC()\n",
        "\n",
        "#on TF-IDF data\n",
        "LSVC.fit(x_train, y_train)\n",
        "accuracy_score_lsvc = metrics.accuracy_score(LSVC.predict(x_test), y_test)\n",
        "print('accuracy_score_lsvc = '+str('{:4.2f}'.format(accuracy_score_lsvc*100))+'%')\n",
        "\n",
        "SGDC.fit(x_train, y_train)\n",
        "accuracy_score_sgdc = metrics.accuracy_score(SGDC.predict(x_test), y_test)\n",
        "print('accuracy_score_sgdc = '+str('{:4.2f}'.format(accuracy_score_sgdc*100))+'%')\n",
        "\n",
        "#on CountVectorize data\n",
        "LSVC.fit(X_train, Y_train)\n",
        "accuracy_score_lsvc_CV = metrics.accuracy_score(LSVC.predict(X_test), Y_test)\n",
        "print('accuracy_score_lsvc_cv = '+str('{:4.2f}'.format(accuracy_score_lsvc_CV*100))+'%')\n",
        "\n",
        "SGDC.fit(X_train, Y_train)\n",
        "accuracy_score_sgdc_CV = metrics.accuracy_score(SGDC.predict(X_test), Y_test)\n",
        "print('accuracy_score_sgdc_cv = '+str('{:4.2f}'.format(accuracy_score_sgdc_CV*100))+'%')"
      ],
      "execution_count": 40,
      "outputs": [
        {
          "output_type": "stream",
          "text": [
            "accuracy_score_lsvc = 85.17%\n",
            "accuracy_score_sgdc = 84.63%\n",
            "accuracy_score_lsvc_cv = 28.09%\n",
            "accuracy_score_sgdc_cv = 26.84%\n"
          ],
          "name": "stdout"
        }
      ]
    },
    {
      "cell_type": "code",
      "metadata": {
        "id": "Qw8X5il_I9hr"
      },
      "source": [
        ""
      ],
      "execution_count": 40,
      "outputs": []
    }
  ]
}